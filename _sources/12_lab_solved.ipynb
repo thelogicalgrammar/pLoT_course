{
 "cells": [
  {
   "cell_type": "markdown",
   "id": "08e45eee-6888-4947-be6c-b248ec58598e",
   "metadata": {
    "tags": []
   },
   "source": [
    "# Learning functions"
   ]
  },
  {
   "cell_type": "code",
   "execution_count": 1,
   "id": "7cffd3dc-44e8-41cc-819b-3f0bc6f28f08",
   "metadata": {},
   "outputs": [
    {
     "name": "stdout",
     "output_type": "stream",
     "text": [
      "Not in colab!\n"
     ]
    }
   ],
   "source": [
    "try:\n",
    "    # in colab\n",
    "    import google.colab\n",
    "    print('In colab, downloading LOTlib3')\n",
    "    !git clone https://github.com/piantado/LOTlib3\n",
    "except:\n",
    "    # not in colab\n",
    "    print('Not in colab!')"
   ]
  },
  {
   "cell_type": "markdown",
   "id": "9284ac03-139b-4d49-a216-2deaf4998ddc",
   "metadata": {},
   "source": [
    "## Imports"
   ]
  },
  {
   "cell_type": "markdown",
   "id": "ccf769d5-fa8e-4682-8e22-28ad71b3b514",
   "metadata": {},
   "source": [
    "First we need to import a bunch of stuff:"
   ]
  },
  {
   "cell_type": "code",
   "execution_count": 1,
   "id": "ad9bcf47-102b-432d-ae81-a3522e2fe3d9",
   "metadata": {},
   "outputs": [],
   "source": [
    "import numpy as np\n",
    "from pprint import pprint\n",
    "import matplotlib.pyplot as plt"
   ]
  },
  {
   "cell_type": "code",
   "execution_count": 9,
   "id": "ac1342f3-ea28-457b-a0b8-33f065dfd928",
   "metadata": {},
   "outputs": [],
   "source": [
    "from LOTlib3.Miscellaneous import q, random, Infinity\n",
    "from LOTlib3.Grammar import Grammar\n",
    "from LOTlib3.DataAndObjects import FunctionData, Obj\n",
    "from LOTlib3.Hypotheses.LOTHypothesis import LOTHypothesis\n",
    "from LOTlib3.Hypotheses.Likelihoods.BinaryLikelihood import BinaryLikelihood\n",
    "from LOTlib3.Eval import primitive\n",
    "from LOTlib3.Miscellaneous import qq\n",
    "from LOTlib3.TopN import TopN\n",
    "from LOTlib3.Samplers.MetropolisHastings import MetropolisHastingsSampler"
   ]
  },
  {
   "cell_type": "code",
   "execution_count": 3,
   "id": "e4374364-adab-498b-a528-25504e3b666a",
   "metadata": {},
   "outputs": [],
   "source": [
    "from math import log"
   ]
  },
  {
   "cell_type": "markdown",
   "id": "07e1989c-9d4f-4b39-93a2-5d617dd30c0e",
   "metadata": {},
   "source": [
    "## The task"
   ]
  },
  {
   "cell_type": "markdown",
   "id": "b7d89826-733e-4fac-8632-1e864f67d1b6",
   "metadata": {},
   "source": [
    "The aim here is to define a language that recovers the explicit form for a mathematical function most likely to have generated a certain set of input-output pairs. \n",
    "\n",
    "For instance, to start with we might want: addition, product, power, log, exp.\n",
    "\n",
    "If we want to make it fancier, we can add recursion up to a level (which allows us to do e.g. series)\n",
    "    \n",
    "> __**AIMS**__ \n",
    "> - Pick a set of mathematical primitives that seem likely\n",
    "> - Define a grammar\n",
    "> - Define likelihood, e.g., sum of squares minimization\n",
    "> - Run inference algo on the example datasets below!"
   ]
  },
  {
   "cell_type": "markdown",
   "id": "fb983793-616b-4dba-9f1c-4e11b7b00ba2",
   "metadata": {},
   "source": [
    "Copying data from other notebook:"
   ]
  },
  {
   "cell_type": "code",
   "execution_count": 71,
   "id": "f97da018-91e4-47c1-a5cc-95f78efe0c4f",
   "metadata": {},
   "outputs": [],
   "source": [
    "f1 = np.array([\n",
    "    [ 1.        ,  0.96693628],\n",
    "    [ 1.65517241,  0.44488931],\n",
    "    [ 2.31034483,  0.11111997],\n",
    "    [ 2.96551724, -0.05388751],\n",
    "    [ 3.62068966, -0.08770159],\n",
    "    [ 4.27586207, -0.34701368],\n",
    "    [ 4.93103448, -0.5312597 ],\n",
    "    [ 5.5862069 , -0.56654964],\n",
    "    [ 6.24137931, -0.98309806],\n",
    "    [ 6.89655172, -0.87024759],\n",
    "    [ 7.55172414, -1.02468311],\n",
    "    [ 8.20689655, -1.07690071],\n",
    "    [ 8.86206897, -1.3229659 ],\n",
    "    [ 9.51724138, -1.26628302],\n",
    "    [10.17241379, -1.26076366],\n",
    "    [10.82758621, -1.29232939],\n",
    "    [11.48275862, -1.47545188],\n",
    "    [12.13793103, -1.53730544],\n",
    "    [12.79310345, -1.72121669],\n",
    "    [13.44827586, -1.59430107],\n",
    "    [14.10344828, -1.6440229 ],\n",
    "    [14.75862069, -1.74346587],\n",
    "    [15.4137931 , -1.89063419],\n",
    "    [16.06896552, -1.87860771],\n",
    "    [16.72413793, -1.73337155],\n",
    "    [17.37931034, -1.74285824],\n",
    "    [18.03448276, -1.82462328],\n",
    "    [18.68965517, -2.13664592],\n",
    "    [19.34482759, -1.87158473],\n",
    "    [20.        , -1.96221768]\n",
    "])\n",
    "\n",
    "f2 = np.array([\n",
    "    [1.00000000e+00, 3.71191585e+00],\n",
    "    [1.65517241e+00, 9.24602588e+00],\n",
    "    [2.31034483e+00, 1.71111810e+01],\n",
    "    [2.96551724e+00, 2.74461376e+01],\n",
    "    [3.62068966e+00, 4.04248405e+01],\n",
    "    [4.27586207e+00, 5.58883272e+01],\n",
    "    [4.93103448e+00, 7.39602616e+01],\n",
    "    [5.58620690e+00, 9.45716098e+01],\n",
    "    [6.24137931e+00, 1.17768463e+02],\n",
    "    [6.89655172e+00, 1.43745608e+02],\n",
    "    [7.55172414e+00, 1.72014815e+02],\n",
    "    [8.20689655e+00, 2.03113066e+02],\n",
    "    [8.86206897e+00, 2.36586296e+02],\n",
    "    [9.51724138e+00, 2.72592478e+02],\n",
    "    [1.01724138e+01, 3.11500578e+02],\n",
    "    [1.08275862e+01, 3.52680831e+02],\n",
    "    [1.14827586e+01, 3.96347343e+02],\n",
    "    [1.21379310e+01, 4.42937224e+02],\n",
    "    [1.27931034e+01, 4.91952665e+02],\n",
    "    [1.34482759e+01, 5.43415913e+02],\n",
    "    [1.41034483e+01, 5.97790718e+02],\n",
    "    [1.47586207e+01, 6.54449584e+02],\n",
    "    [1.54137931e+01, 7.13693393e+02],\n",
    "    [1.60689655e+01, 7.75636386e+02],\n",
    "    [1.67241379e+01, 8.39996211e+02],\n",
    "    [1.73793103e+01, 9.07024122e+02],\n",
    "    [1.80344828e+01, 9.76727694e+02],\n",
    "    [1.86896552e+01, 1.04889184e+03],\n",
    "    [1.93448276e+01, 1.12381860e+03],\n",
    "    [2.00000000e+01, 1.20102847e+03]\n",
    "])\n",
    "\n",
    "\n",
    "f3 = np.array([\n",
    "    [   1.        ,    3.4938151 ],\n",
    "    [   1.65517241,    5.44628788],\n",
    "    [   2.31034483,    6.53998577],\n",
    "    [   2.96551724,    7.67421996],\n",
    "    [   3.62068966,    7.89516258],\n",
    "    [   4.27586207,    8.02252067],\n",
    "    [   4.93103448,    7.55957521],\n",
    "    [   5.5862069 ,    6.68554562],\n",
    "    [   6.24137931,    5.49661335],\n",
    "    [   6.89655172,    3.78650889],\n",
    "    [   7.55172414,    1.76357834],\n",
    "    [   8.20689655,   -0.95288503],\n",
    "    [   8.86206897,   -3.56660826],\n",
    "    [   9.51724138,   -7.30943747],\n",
    "    [  10.17241379,  -11.0152518 ],\n",
    "    [  10.82758621,  -15.41306886],\n",
    "    [  11.48275862,  -20.02607231],\n",
    "    [  12.13793103,  -25.05703701],\n",
    "    [  12.79310345,  -30.66109506],\n",
    "    [  13.44827586,  -36.58291196],\n",
    "    [  14.10344828,  -43.09300853],\n",
    "    [  14.75862069,  -49.80759178],\n",
    "    [  15.4137931 ,  -57.20869912],\n",
    "    [  16.06896552,  -64.76773707],\n",
    "    [  16.72413793,  -72.90556438],\n",
    "    [  17.37931034,  -81.42918673],\n",
    "    [  18.03448276,  -90.50159589],\n",
    "    [  18.68965517,  -99.98277275],\n",
    "    [  19.34482759, -109.61216676],\n",
    "    [  20.        , -120.07684039]\n",
    "])"
   ]
  },
  {
   "cell_type": "markdown",
   "id": "a65df24f-4cf5-48be-8863-6a1e64207124",
   "metadata": {},
   "source": [
    "Displaying data:"
   ]
  },
  {
   "cell_type": "code",
   "execution_count": 73,
   "id": "07092b13-52a7-474b-92fd-7fa5dc1f851f",
   "metadata": {},
   "outputs": [
    {
     "data": {
      "image/png": "[encoded data removed]",
      "text/plain": [
       "<Figure size 432x288 with 1 Axes>"
      ]
     },
     "metadata": {
      "needs_background": "light"
     },
     "output_type": "display_data"
    },
    {
     "name": "stdout",
     "output_type": "stream",
     "text": [
      "\n",
      "\n"
     ]
    },
    {
     "data": {
      "image/png": "[encoded data removed]",
      "text/plain": [
       "<Figure size 432x288 with 1 Axes>"
      ]
     },
     "metadata": {
      "needs_background": "light"
     },
     "output_type": "display_data"
    },
    {
     "name": "stdout",
     "output_type": "stream",
     "text": [
      "\n",
      "\n"
     ]
    },
    {
     "data": {
      "image/png": "[encoded data removed]",
      "text/plain": [
       "<Figure size 432x288 with 1 Axes>"
      ]
     },
     "metadata": {
      "needs_background": "light"
     },
     "output_type": "display_data"
    },
    {
     "name": "stdout",
     "output_type": "stream",
     "text": [
      "\n",
      "\n"
     ]
    }
   ],
   "source": [
    "for i, f in enumerate([f1, f2, f3]):\n",
    "    plt.scatter(*f.T)\n",
    "    plt.title(f'f{i+1}')\n",
    "    plt.show()\n",
    "    print('\\n')"
   ]
  },
  {
   "cell_type": "markdown",
   "id": "58b996e5-0997-46df-af36-39fb10ca46fd",
   "metadata": {},
   "source": [
    "## Define the grammar"
   ]
  },
  {
   "cell_type": "code",
   "execution_count": 74,
   "id": "f6f61441-447d-4e26-ad74-fc0bb45b31ab",
   "metadata": {},
   "outputs": [],
   "source": [
    "@primitive\n",
    "def log_(s):\n",
    "    return log(s)"
   ]
  },
  {
   "cell_type": "code",
   "execution_count": 31,
   "id": "2298f001-de9b-4a3e-b85a-ec03ec2a85c1",
   "metadata": {},
   "outputs": [
    {
     "data": {
      "text/plain": [
       "S -> x\tw/ p=3.0"
      ]
     },
     "execution_count": 31,
     "metadata": {},
     "output_type": "execute_result"
    }
   ],
   "source": [
    "g = Grammar(start='S')\n",
    "\n",
    "g.add_rule('S', '(%s+%s)', ['S', 'S'], 1.)\n",
    "g.add_rule('S', '(-%s)', ['S'], 1.)\n",
    "g.add_rule('S', '(%s/%s)', ['S', 'S'], 1.)\n",
    "g.add_rule('S', '(%s*%s)', ['S', 'S'], 1.)\n",
    "g.add_rule('S', '(%s**%s)', ['S', 'S'], 1.)\n",
    "g.add_rule('S', 'log_', ['S'], 1.)\n",
    "\n",
    "for i in range(10):\n",
    "    g.add_rule('S', str(i), None, 1/(i+1))\n",
    "\n",
    "g.add_rule('S', 'x', None, 3)"
   ]
  },
  {
   "cell_type": "code",
   "execution_count": 5,
   "id": "b0284f8d-fcf2-4a5b-9c44-c676e1721f1f",
   "metadata": {},
   "outputs": [
    {
     "data": {
      "text/plain": [
       "6"
      ]
     },
     "execution_count": 5,
     "metadata": {},
     "output_type": "execute_result"
    }
   ],
   "source": [
    "g.generate()"
   ]
  },
  {
   "cell_type": "markdown",
   "id": "9a00a4f4-998f-48c0-8697-3ccff6079d38",
   "metadata": {},
   "source": [
    "## Defining hypothesis"
   ]
  },
  {
   "cell_type": "code",
   "execution_count": 8,
   "id": "2c485e98-f81c-4cad-b57b-1d473b8233f0",
   "metadata": {},
   "outputs": [],
   "source": [
    "def normal_density(x, mu, sigma):\n",
    "    normalization = 1/(2 * sigma**2 * np.pi)**(1/2)\n",
    "    return np.exp(-(x-mu)**2 / (2*sigma**2))"
   ]
  },
  {
   "cell_type": "code",
   "execution_count": 75,
   "id": "75348699-6fcc-47c7-a0ae-fe9cf5d01ace",
   "metadata": {},
   "outputs": [],
   "source": [
    "class FunctionHyp(LOTHypothesis):\n",
    "    \n",
    "    def __init__(self, **kwargs):\n",
    "        LOTHypothesis.__init__(\n",
    "            self, \n",
    "            grammar=g, \n",
    "            display='lambda x: %s',\n",
    "            **kwargs\n",
    "        )   \n",
    "            \n",
    "    def compute_single_likelihood(self, datum):\n",
    "        \"\"\"\n",
    "        NOTE: cases where we need to return prob 0: \n",
    "        - division by 0\n",
    "        - log of 0\n",
    "        - complex part is not 0\n",
    "        - overflow in calculation\n",
    "        \"\"\"\n",
    "        try:\n",
    "            y_hat = self(datum.input[0])\n",
    "            \n",
    "            if type(y_hat) is complex:\n",
    "                return -Infinity\n",
    "            \n",
    "            if abs(y_hat - datum.output) > 10e10:\n",
    "                return -Infinity\n",
    "            \n",
    "            logprob = np.log(\n",
    "                normal_density(\n",
    "                    datum.output,\n",
    "                    y_hat, \n",
    "                    1.\n",
    "                )\n",
    "            )\n",
    "            return logprob\n",
    "        \n",
    "        except (ValueError, ZeroDivisionError, TypeError, OverflowError):\n",
    "            return -Infinity"
   ]
  },
  {
   "cell_type": "markdown",
   "id": "fb02c9e0-5416-4cf5-9232-87447d21ab94",
   "metadata": {},
   "source": [
    "## Fitting hypothesis to the data"
   ]
  },
  {
   "cell_type": "code",
   "execution_count": 64,
   "id": "d976f941-be35-412f-9b7d-b6572c9c8e20",
   "metadata": {},
   "outputs": [],
   "source": [
    "xs = np.linspace(-10, 10, 100)\n",
    "ys = xs**3 + np.random.normal(size=len(xs))\n",
    "\n",
    "data = [\n",
    "    FunctionData(input=[x], output=y)\n",
    "    for x,y in zip(xs, ys)\n",
    "]"
   ]
  },
  {
   "cell_type": "code",
   "execution_count": 65,
   "id": "1de565ba-a745-4b37-801d-475871a52fd3",
   "metadata": {},
   "outputs": [
    {
     "data": {
      "text/plain": [
       "<matplotlib.collections.PathCollection at 0x7ff8fa408430>"
      ]
     },
     "execution_count": 65,
     "metadata": {},
     "output_type": "execute_result"
    },
    {
     "data": {
      "image/png": "[encoded data removed]",
      "text/plain": [
       "<Figure size 432x288 with 1 Axes>"
      ]
     },
     "metadata": {
      "needs_background": "light"
     },
     "output_type": "display_data"
    }
   ],
   "source": [
    "plt.scatter(xs, ys)"
   ]
  },
  {
   "cell_type": "code",
   "execution_count": null,
   "id": "2b6e43b6-3791-4f6f-8428-1960d8738f16",
   "metadata": {
    "tags": []
   },
   "outputs": [],
   "source": [
    "topn = TopN(10)\n",
    "h = FunctionHyp()\n",
    "for h1 in MetropolisHastingsSampler(h, data, steps=10000):\n",
    "    topn << h1"
   ]
  },
  {
   "cell_type": "code",
   "execution_count": 78,
   "id": "3204aaaa-93f7-4a72-a5e9-913200b967fc",
   "metadata": {},
   "outputs": [
    {
     "name": "stdout",
     "output_type": "stream",
     "text": [
      "4.2242075264123894e-32 1.5524472545339268e-06 2.7209990639460335e-26 lambda x: ((x/1)**3)\n",
      "4.2242075264123894e-32 1.5524472545339268e-06 2.7209990639460335e-26 lambda x: ((x**1)**3)\n",
      "4.2242075264123894e-32 1.5524472545339268e-06 2.7209990639460335e-26 lambda x: (x**(1*3))\n",
      "8.448415052824795e-32 3.1048945090678596e-06 2.7209990639460335e-26 lambda x: ((x+0)**3)\n",
      "8.448415052824795e-32 3.1048945090678596e-06 2.7209990639460335e-26 lambda x: ((0+x)**3)\n",
      "8.448415052824795e-32 3.1048945090678596e-06 2.7209990639460335e-26 lambda x: ((-(-x))**3)\n",
      "8.448415052824795e-32 3.1048945090678596e-06 2.7209990639460335e-26 lambda x: (x**(0+3))\n",
      "3.379366021130363e-31 1.2419578036271418e-05 2.720999063946381e-26 lambda x: ((x**2)*x)\n",
      "3.0414294190173123e-30 0.00011177620232644284 2.720999063946381e-26 lambda x: ((x*x)*x)\n",
      "1.2022118580228194e-29 0.0004418273692014243 2.7209990639460335e-26 lambda x: (x**3)\n"
     ]
    }
   ],
   "source": [
    "for i in topn:\n",
    "    print(\n",
    "        np.exp(i.posterior_score), \n",
    "        np.exp(i.prior), \n",
    "        np.exp(i.likelihood), \n",
    "        i\n",
    "    )"
   ]
  },
  {
   "cell_type": "markdown",
   "id": "ab7f74d3-449e-4a2e-95af-c2420fb3b6aa",
   "metadata": {},
   "source": [
    "## Recovering fs above"
   ]
  },
  {
   "cell_type": "markdown",
   "id": "de83bcf9-db4e-4dd4-a497-6aee5f9e1d10",
   "metadata": {},
   "source": [
    "### f1"
   ]
  },
  {
   "cell_type": "code",
   "execution_count": 80,
   "id": "61759b22-bad4-42be-be1d-27db3ef9744f",
   "metadata": {},
   "outputs": [],
   "source": [
    "data1 = [\n",
    "    FunctionData(input=[x], output=y)\n",
    "    for x,y in f1\n",
    "]"
   ]
  },
  {
   "cell_type": "code",
   "execution_count": null,
   "id": "514eed76-d330-4c03-b4cb-8a73544241ca",
   "metadata": {
    "tags": []
   },
   "outputs": [],
   "source": [
    "topn = TopN(10)\n",
    "h = FunctionHyp()\n",
    "for h1 in MetropolisHastingsSampler(h, data1, steps=10000):\n",
    "    topn << h1"
   ]
  },
  {
   "cell_type": "code",
   "execution_count": 85,
   "id": "92ac9303-f073-4fcc-a492-a2940f0e1af1",
   "metadata": {},
   "outputs": [
    {
     "name": "stdout",
     "output_type": "stream",
     "text": [
      "1.6260504736405028e-08 2.1819313570058165e-08 0.7452344769781715 lambda x: (-log_(((x+0)/3)))\n",
      "2.032154962684583e-08 3.4704253186746956e-07 0.05855636632632202 lambda x: (-log_((2**log_(x))))\n",
      "2.1194894870977892e-08 1.3014094945030098e-07 0.16286107455418494 lambda x: (-log_((x/log_(7))))\n",
      "3.400796156783955e-08 4.363862714011626e-08 0.7793086949927576 lambda x: (-log_(((x+x)/5)))\n",
      "3.426163230687842e-08 1.1568084395582305e-07 0.2961737754952965 lambda x: (-log_((x/log_(8))))\n",
      "4.582103973987705e-08 1.0411275956024088e-07 0.44010974191270397 lambda x: (-log_((x/log_(9))))\n",
      "2.2696964844663247e-07 2.4839156072542857e-06 0.09137574875078952 lambda x: (-log_((x/4)))\n",
      "2.9464772005047395e-07 0.0035136964406253983 8.38569082530163e-05 lambda x: (-1)\n",
      "8.771111897518796e-07 4.139859345423809e-06 0.21186980439841194 lambda x: (-log_((x/2)))\n",
      "2.3138744355375844e-06 3.1048945090678596e-06 0.7452344769781715 lambda x: (-log_((x/3)))\n"
     ]
    }
   ],
   "source": [
    "for i in topn:\n",
    "    print(\n",
    "        np.exp(i.posterior_score), \n",
    "        np.exp(i.prior), \n",
    "        np.exp(i.likelihood), \n",
    "        i\n",
    "    )"
   ]
  },
  {
   "cell_type": "code",
   "execution_count": 86,
   "id": "31dd3da7-1ed2-44f8-bdfb-b2c6e877cd84",
   "metadata": {},
   "outputs": [
    {
     "data": {
      "text/plain": [
       "[<matplotlib.lines.Line2D at 0x7ff8ebd20bb0>]"
      ]
     },
     "execution_count": 86,
     "metadata": {},
     "output_type": "execute_result"
    },
    {
     "data": {
      "image/png": "[encoded data removed]",
      "text/plain": [
       "<Figure size 432x288 with 1 Axes>"
      ]
     },
     "metadata": {
      "needs_background": "light"
     },
     "output_type": "display_data"
    }
   ],
   "source": [
    "x = np.linspace(1, 20, 30)\n",
    "y = 1 - np.log(x)\n",
    "y_hat = -np.log(x/3)\n",
    "\n",
    "plt.plot(x, y, color='black')\n",
    "plt.plot(x, y_hat, color='red')"
   ]
  },
  {
   "cell_type": "markdown",
   "id": "2aecb8cb-10b6-4a5b-8634-b32df5147b0e",
   "metadata": {},
   "source": [
    "### f2"
   ]
  },
  {
   "cell_type": "code",
   "execution_count": 87,
   "id": "9bc11571-40df-4608-b424-406358051605",
   "metadata": {},
   "outputs": [],
   "source": [
    "data2 = [\n",
    "    FunctionData(input=[x], output=y)\n",
    "    for x,y in f2\n",
    "]"
   ]
  },
  {
   "cell_type": "code",
   "execution_count": null,
   "id": "74bae924-9237-4601-a7df-67d0c0325ef1",
   "metadata": {
    "tags": []
   },
   "outputs": [],
   "source": [
    "topn = TopN(10)\n",
    "h = FunctionHyp()\n",
    "for h1 in MetropolisHastingsSampler(h, data2, steps=10000):\n",
    "    topn << h1"
   ]
  },
  {
   "cell_type": "markdown",
   "id": "f79f9097-dec0-4ae2-b489-e4bb47a8d266",
   "metadata": {},
   "source": [
    "It didn't quite manage to recover it! Maybe try running more samples."
   ]
  },
  {
   "cell_type": "code",
   "execution_count": 92,
   "id": "73888858-b3cb-4476-bbde-3c8f80e954de",
   "metadata": {},
   "outputs": [
    {
     "name": "stdout",
     "output_type": "stream",
     "text": [
      "0.0 5.20563797801204e-07 0.0 lambda x: (log_((1/0))+x)\n",
      "0.0 6.584771388429113e-08 0.0 lambda x: (log_(((x*x)/0))+x)\n",
      "0.0 3.123382786807228e-06 0.0 lambda x: (log_((x/0))+x)\n",
      "0.0 3.47042531867469e-07 0.0 lambda x: (log_((2/0))+x)\n",
      "0.0 1.041127595602408e-06 0.0 lambda x: (log_((2/x))+x)\n",
      "0.0 0.00014815275212236306 0.0 lambda x: (log_(0)+x)\n",
      "0.0 3.8791096257899265e-11 0.0 lambda x: (log_(0)+(log_((x**(x*x)))**0))\n",
      "0.0 0.0 0.0 lambda x: (log_((-(9+(log_((((1+x)**(-x))+(-(log_((x**((log_(((log_(1)/1)+x))**(0/(-(-(x**x)))))+(((log_(x)**0)+(log_(2)/6))/x))))*7))))/6))))+(log_((x**(x*x)))**0))\n",
      "0.0 0.0 0.0 lambda x: (log_((-(9+(log_((((1+x)**(-x))+(-(log_((x**((log_(((log_(1)/1)+x))**(0/(-(-(x**x)))))+(((log_(x)**0)+(x/6))/x))))*7))))/6))))+(log_((x**(x*x)))**0))\n",
      "0.0 0.0 0.0 lambda x: (log_((-(9+(log_((((1+x)**(-x))+(-(log_((x**((log_(x)**(0/(-(-(x**x)))))+(((log_(x)**0)+(x/6))/x))))*7))))/6))))+(log_((x**(x*x)))**0))\n"
     ]
    }
   ],
   "source": [
    "for i in topn:\n",
    "    print(\n",
    "        np.exp(i.posterior_score), \n",
    "        np.exp(i.prior), \n",
    "        np.exp(i.likelihood), \n",
    "        i\n",
    "    )"
   ]
  },
  {
   "cell_type": "code",
   "execution_count": 93,
   "id": "c883e894-4958-428a-87fe-7a1fae7a4114",
   "metadata": {},
   "outputs": [
    {
     "data": {
      "text/plain": [
       "[<matplotlib.lines.Line2D at 0x7ff8eb563160>]"
      ]
     },
     "execution_count": 93,
     "metadata": {},
     "output_type": "execute_result"
    },
    {
     "data": {
      "image/png": "[encoded data removed]",
      "text/plain": [
       "<Figure size 432x288 with 1 Axes>"
      ]
     },
     "metadata": {
      "needs_background": "light"
     },
     "output_type": "display_data"
    }
   ],
   "source": [
    "x = np.linspace(1, 20, 30)\n",
    "y =  1 + 3 * x**2\n",
    "# y_hat = -np.log(x/3)\n",
    "\n",
    "plt.plot(x, y, color='black')\n",
    "# plt.plot(x, y_hat, color='red')"
   ]
  },
  {
   "cell_type": "markdown",
   "id": "4778ca7e-0739-4825-850f-cd188121b04b",
   "metadata": {},
   "source": [
    "### f3"
   ]
  },
  {
   "cell_type": "code",
   "execution_count": 94,
   "id": "e5b1d87f-2423-43a0-b645-6b05bff479c9",
   "metadata": {},
   "outputs": [],
   "source": [
    "data3 = [\n",
    "    FunctionData(input=[x], output=y)\n",
    "    for x,y in f3\n",
    "]"
   ]
  },
  {
   "cell_type": "code",
   "execution_count": null,
   "id": "8f9bda67-0eb9-4383-94b7-e7ff02d4d4ce",
   "metadata": {
    "tags": []
   },
   "outputs": [],
   "source": [
    "topn = TopN(10)\n",
    "h = FunctionHyp()\n",
    "for h1 in MetropolisHastingsSampler(h, data3, steps=10000):\n",
    "    topn << h1"
   ]
  },
  {
   "cell_type": "code",
   "execution_count": 96,
   "id": "fd04f9e2-a47f-41da-ab23-aee05dc94218",
   "metadata": {},
   "outputs": [
    {
     "name": "stdout",
     "output_type": "stream",
     "text": [
      "5.5633e-319 4.9272858943829863e-23 1.1290769819862322e-296 lambda x: (((-x)/5)*(x+log_((log_(9)**((-(3*(3+1)))+x)))))\n",
      "1.3025651072045499e-137 2.4188997377983393e-26 5.384948730409537e-112 lambda x: (((-x)/5)*(x+log_((((1*2)+1)**((-(3*(3+1)))+x)))))\n",
      "9.962314620286416e-134 5.8747019205416375e-27 1.6957991664993362e-107 lambda x: (((-x)/5)*(x+log_((4**((-(3*4))+(x/((x/x)+(-(-0)))))))))\n",
      "3.0764761194029836e-133 1.8141748033487692e-26 1.6957991664993362e-107 lambda x: (((-x)/5)*(x+log_((((1*3)+1)**((-(3*(3+1)))+x)))))\n",
      "7.004534788680389e-131 4.1305214243854454e-24 1.6957991664993362e-107 lambda x: (((-x)/5)*(x+log_((((1*3)+1)**((-(3*4))+x)))))\n",
      "3.18959131822274e-128 1.8808779843942615e-21 1.6957991664993362e-107 lambda x: (((-x)/5)*((-(-x))+log_((4**((-(3*4))+x)))))\n",
      "4.538797491645367e-126 2.676494706041661e-19 1.6957991664993362e-107 lambda x: (((-x)/5)*(x+log_((4**((-(3*4))+x)))))\n",
      "1.4552175436922316e-58 3.9418287155063925e-23 3.69173205818834e-36 lambda x: (((-x)/5)*(x+log_((4**((-(3*4))+(x/log_(3)))))))\n",
      "2.361861710050358e-44 1.9786270753185584e-25 1.1936871477764948e-19 lambda x: (((-x)/5)*((x+0)+log_((6**((-(3*4))+(x/log_(3)))))))\n",
      "3.3609359117402724e-42 2.815591939647446e-23 1.1936871477764948e-19 lambda x: (((-x)/5)*(x+log_((6**((-(3*4))+(x/log_(3)))))))\n"
     ]
    }
   ],
   "source": [
    "for i in topn:\n",
    "    print(\n",
    "        np.exp(i.posterior_score), \n",
    "        np.exp(i.prior), \n",
    "        np.exp(i.likelihood), \n",
    "        i\n",
    "    )"
   ]
  },
  {
   "cell_type": "code",
   "execution_count": 98,
   "id": "98a468f8-0e3e-40cd-ab47-42d841a7aaba",
   "metadata": {},
   "outputs": [
    {
     "data": {
      "text/plain": [
       "[<matplotlib.lines.Line2D at 0x7ff8fa357d30>]"
      ]
     },
     "execution_count": 98,
     "metadata": {},
     "output_type": "execute_result"
    },
    {
     "data": {
      "image/png": "[encoded data removed]",
      "text/plain": [
       "<Figure size 432x288 with 1 Axes>"
      ]
     },
     "metadata": {
      "needs_background": "light"
     },
     "output_type": "display_data"
    }
   ],
   "source": [
    "x = np.linspace(1, 20, 30)\n",
    "y =   4 * x - 0.5 * x**2\n",
    "y_hat = (((-x)/5)*(x+np.log((6**((-(3*4))+(x/log_(3)))))))\n",
    "\n",
    "plt.plot(x, y, color='black')\n",
    "plt.plot(x, y_hat, color='red')"
   ]
  }
 ],
 "metadata": {
  "kernelspec": {
   "display_name": "Python 3 (ipykernel)",
   "language": "python",
   "name": "python3"
  },
  "language_info": {
   "codemirror_mode": {
    "name": "ipython",
    "version": 3
   },
   "file_extension": ".py",
   "mimetype": "text/x-python",
   "name": "python",
   "nbconvert_exporter": "python",
   "pygments_lexer": "ipython3",
   "version": "3.10.2"
  }
 },
 "nbformat": 4,
 "nbformat_minor": 5
}
