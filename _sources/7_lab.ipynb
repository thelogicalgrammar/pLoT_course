{
 "cells": [
  {
   "cell_type": "markdown",
   "id": "2defd266-cc5b-48c6-aeca-9f6c1466885f",
   "metadata": {},
   "source": [
    "# Bayes (Part II)"
   ]
  },
  {
   "cell_type": "code",
   "execution_count": 28,
   "id": "37703c74-0942-4d58-958d-16e5ba47d1de",
   "metadata": {},
   "outputs": [],
   "source": [
    "import numpy as np\n",
    "import matplotlib.pyplot as plt"
   ]
  },
  {
   "cell_type": "markdown",
   "id": "ffac631d-48ee-4006-b255-51344e91bf00",
   "metadata": {
    "tags": []
   },
   "source": [
    "## The Metropolis-Hastings algorithm"
   ]
  },
  {
   "cell_type": "markdown",
   "id": "8dd1ae6a-3daa-4821-99e5-41dc27687c7d",
   "metadata": {},
   "source": [
    "In the lecture this week, we have seen the _Metropolis-Hastings_ algorithm, which allows us to get samples from an _unnormalized_ distribution function, i.e., a function that returns a probability multiplied by some constant factor. Note that this can be any distribution (although in practice we will need it to get samples from an unnormalized posterior).\n",
    "\n",
    "First of all, have a look at the description of the algorithm and try to implement it as described here.\n",
    "> __**NOTE**__ You can find the implemented algo at the bottom of this notebook, but please try by yourself before looking at it!"
   ]
  },
  {
   "cell_type": "code",
   "execution_count": null,
   "id": "0e6fcc29-8f97-434f-a42f-f7b9aa8cd3ca",
   "metadata": {},
   "outputs": [],
   "source": [
    "def mcmc(nsamples, unnorm_prob_f, proposalf, burnin=100, initial=0.):\n",
    "    \"\"\"\n",
    "    Parameters\n",
    "    ----------\n",
    "    nsamples: int\n",
    "        Number of samples to draw (includes burnin)\n",
    "    unnorm_prob_f: func\n",
    "        Function taking a point in the support and\n",
    "        returning its unnormalized probability\n",
    "    proposalf: func\n",
    "        Function that takes current position\n",
    "        and returns a proposal for where to move next\n",
    "    burnin: int\n",
    "        Number of initial samples to exclude\n",
    "    initial: float or func\n",
    "        If float, starts from that point.\n",
    "        If func, starts from the output of initial()\n",
    "    Returns\n",
    "    -------\n",
    "    list\n",
    "        A list of samples\n",
    "    \"\"\"\n",
    "    \n",
    "    # set initial point in variable 'current' and \n",
    "    # calculate current probability ('curr_prob')\n",
    "    # ADD CODE HERE\n",
    "    \n",
    "    # we put the samples in list 'states'\n",
    "    states = []\n",
    "    for i in range(nsamples):\n",
    "        \n",
    "        # append current position to states\n",
    "        # ADD CODE HERE\n",
    "        \n",
    "        # proposes a new point\n",
    "        # ADD CODE HERE\n",
    "        \n",
    "        # calculate unnormalized probability \n",
    "        # at proposed point\n",
    "        # ADD CODE HERE\n",
    "        \n",
    "        # calculates probability of acceptance \n",
    "        # in variable 'acceptance'\n",
    "        # ADD CODE HERE\n",
    "        \n",
    "        if np.random.random_sample() < acceptance:\n",
    "            # if acceptance is higher than random btw 0 and 1,\n",
    "            # accept move, else stay where you are (i.e. do nothing)\n",
    "            # ADD CODE HERE\n",
    "    \n",
    "    # return list of samples\n",
    "    return states[burnin:]"
   ]
  },
  {
   "cell_type": "markdown",
   "id": "54222cdb-b6c4-41b0-b9e5-aafcc44d5199",
   "metadata": {},
   "source": [
    "This algorithm has a lot of pros:\n",
    "- Suprisingly simple to implement\n",
    "- If we get enough samples it is guaranteed to converge to the true posterior!\n",
    "- Works for both continuous and discrete parameter spaces\n",
    "But it also has some cons:\n",
    "- Can be very slow to converge\n",
    "- Does not work well with highly dimensional spaces\n",
    "- There is no way to tell if it converged to the true posterior\n",
    "\n",
    "In general, we should get as many samples as possible and run multiple chains with different initial points, to see if they converged to the same distribution."
   ]
  },
  {
   "cell_type": "markdown",
   "id": "5ba88e31-94ef-4734-aa0b-203cc1a328bb",
   "metadata": {
    "tags": []
   },
   "source": [
    "## Getting samples from an unnormalized normal distribution"
   ]
  },
  {
   "cell_type": "markdown",
   "id": "eec327cd-4859-458b-8bb3-2d8ee54a85a7",
   "metadata": {},
   "source": [
    "The simplest application is to get samples from a distribution that we can calculate exactly, and see if the algorithm converges to it. Let's take the standard normal distribution, which has density function:\n",
    "\n",
    "$$\n",
    "\\varphi (z)= \\frac {1}{\\sqrt {2\\pi }} e^{-{\\frac {z^{2}}{2}}}\n",
    "$$\n",
    "\n",
    "let's write a function to calculate this probability density:"
   ]
  },
  {
   "cell_type": "code",
   "execution_count": 34,
   "id": "7bb1d51a-e730-4dcc-bfab-e6b998adce34",
   "metadata": {},
   "outputs": [],
   "source": [
    "def normal(x,mu=0,sigma=1):\n",
    "    \"\"\"\n",
    "    Probability density of normal distribution at x\n",
    "    \"\"\"\n",
    "    numerator = np.exp((-(x-mu)**2)/(2*sigma**2))\n",
    "    denominator = sigma * np.sqrt(2*np.pi)\n",
    "    return numerator/denominator"
   ]
  },
  {
   "cell_type": "markdown",
   "id": "1cccd3fe-8a0f-4ea9-8c74-55e55cfd82a2",
   "metadata": {},
   "source": [
    "And let's test this function to make sure it does what we expect:"
   ]
  },
  {
   "cell_type": "code",
   "execution_count": 37,
   "id": "efa7f605-88ad-4051-bca6-957d945c68ab",
   "metadata": {},
   "outputs": [
    {
     "data": {
      "image/png": "[encoded data removed]",
      "text/plain": [
       "<Figure size 432x288 with 1 Axes>"
      ]
     },
     "metadata": {
      "needs_background": "light"
     },
     "output_type": "display_data"
    }
   ],
   "source": [
    "xs = np.linspace(-3,3,1000)\n",
    "plt.plot(xs, normal(xs))\n",
    "plt.xlabel('x')\n",
    "plt.ylabel('density')\n",
    "plt.show()"
   ]
  },
  {
   "cell_type": "markdown",
   "id": "1cd1e7bc-7be4-4397-84ba-9221aec0263c",
   "metadata": {},
   "source": [
    "Now suppose that we didn't have the explicit formula for the distribution, but rather some black-box function where $\\varphi$ is multiplied by an unknown constant $K$:\n",
    "\n",
    "$$\n",
    "\\varphi' (z)= K \\frac {1}{\\sqrt {2\\pi }} e^{-{\\frac {z^{2}}{2}}}\n",
    "$$\n",
    "\n",
    "> __**NOTE**__: If $K$ is equal to the normalization constant $\\sqrt {2\\pi }$, $\\varphi' (z)$ becomes just $e^{-{\\frac {z^{2}}{2}}}$. This is essentially the trick we will use to sample from the posterior, where we don't have the posterior as such, but we can calculate the posterior multiplied by $P(D)$.\n",
    "\n",
    "Now we can use our mcmc function above to take samples from the distribution:"
   ]
  },
  {
   "cell_type": "code",
   "execution_count": 39,
   "id": "8f65e70d-39c1-4b26-a252-f3e49fe7a90c",
   "metadata": {},
   "outputs": [],
   "source": [
    "samples = mcmc(\n",
    "    # Number of samples\n",
    "    100000,\n",
    "    # Unnormalized density function\n",
    "    lambda x: np.exp(-x**2 / 2),\n",
    "    # Proposal function from point x\n",
    "    lambda x: np.random.normal(loc=x, scale=0.1),\n",
    ")"
   ]
  },
  {
   "cell_type": "markdown",
   "id": "ad89b12e-0233-46c9-852f-769eaa0f56ed",
   "metadata": {},
   "source": [
    "We can plot a histogram of the samples and compare it to the true distribution, and if you wrote the MCMC function correctly, they should look very close:"
   ]
  },
  {
   "cell_type": "code",
   "execution_count": 33,
   "id": "37ec11a7-0b83-4e4d-82c6-775838e8094f",
   "metadata": {},
   "outputs": [
    {
     "data": {
      "image/png": "[encoded data removed]",
      "text/plain": [
       "<Figure size 432x288 with 1 Axes>"
      ]
     },
     "metadata": {
      "needs_background": "light"
     },
     "output_type": "display_data"
    }
   ],
   "source": [
    "# plot a histogram of the samples\n",
    "plt.hist(samples, bins=100, density=True)\n",
    "# also plot the true distribution, just to be sure!\n",
    "xs = np.linspace(-3,3,1000)\n",
    "plt.plot(xs, normal(xs))\n",
    "plt.show()"
   ]
  },
  {
   "cell_type": "markdown",
   "id": "7dedaad4-eea3-481f-9f8b-2ae0a01cfb7a",
   "metadata": {
    "tags": []
   },
   "source": [
    "## Using MHMC for Bayesian inference: categorization in continuous space"
   ]
  },
  {
   "cell_type": "markdown",
   "id": "47aff297-be2c-4458-8d6f-b45b88f0d7bc",
   "metadata": {},
   "source": [
    "Now recall the categorization case that we saw in class: we observe some samples from an unknown category, and we have to form a posterior over the position of the unseen category's boundaries. The case we have seen in class has discrete boundaries, and therefore we could in theory calculate the posterior directly: consider all the possible hypotheses (categories) $H$, calculate $P(H) P(D \\mid H)$, and sum it all to find $P(D)$.\n",
    "\n",
    "However, now imagine the case where we have a _continuous_ space, and so infinitely many categories. The probability density of sampling a certain observation from a category is still 0 if the observation lies outside the category and $1/|H|$ otherwise, but now the category $H$ can have a float size (e.g., category [-1, 0.5] has size 1.5). Now it becomes difficult to calculate the $P(D)$, because we can't easily integrate over all categories!\n",
    "\n",
    "However, if we define some prior over hypotheses (i.e. the categories), we can still easily calculate the numerator of the posterior, namely $P(H) P(D \\mid H)$, for specific categories. A simple prior can be defined as follows:\n",
    "\n",
    "$$\n",
    "p(H) = \\phi(x=l_H, \\mu=0, \\sigma=10) \\; \\phi(x=u_H, \\mu=0, \\sigma=10)\n",
    "$$\n",
    "\n",
    "where $\\phi$ is the probability density function of a normal distribution, $l_H$ is the lower bound, and $u_H$ is the upper bound. "
   ]
  },
  {
   "cell_type": "code",
   "execution_count": 81,
   "id": "33dbd2ec-a579-4362-bad0-52037f5b7306",
   "metadata": {},
   "outputs": [],
   "source": [
    "def prior_f(boundaries):\n",
    "    lb, ub = boundaries\n",
    "    return normal(lb, sigma=10) * normal(ub, sigma=10)"
   ]
  },
  {
   "cell_type": "markdown",
   "id": "2d3cb358-cb33-468c-b63b-7e91316248ba",
   "metadata": {},
   "source": [
    "Likelihood can be defined as discussed above:\n",
    "\n",
    "$$\n",
    "p(D \\mid H) = \\prod_{d \\in D} \\left( |H|^{-1} \\text{ if } d \\in H \\text{ else } 0 \\right)\n",
    "$$\n",
    "\n",
    "where $D$ is a set of observations (points from the unobserved category)."
   ]
  },
  {
   "cell_type": "code",
   "execution_count": 80,
   "id": "dbdcbe8b-5adc-40d4-a6c5-d877f37e7cba",
   "metadata": {},
   "outputs": [],
   "source": [
    "def likelihood_f(data, boundaries):\n",
    "    lb, ub = boundaries\n",
    "    compatible = all([lb < i < ub for i in data])\n",
    "    if compatible:\n",
    "        return 1/(ub-lb)\n",
    "    else:\n",
    "        return 0"
   ]
  },
  {
   "cell_type": "markdown",
   "id": "3a58f79f-25bd-449c-998e-1d0b55986fbe",
   "metadata": {},
   "source": [
    "With the prior and the likelihood as defined above, we can write a function that given some data returns the unnormalized posterior function (i.e. a function form a category to the unnormalized posterior probability of the category given the data):"
   ]
  },
  {
   "cell_type": "code",
   "execution_count": 80,
   "id": "ac334840-c3b7-4f90-a917-11ef11df5f68",
   "metadata": {},
   "outputs": [],
   "source": [
    "def define_unnorm_posterior(data):\n",
    "    def unnorm_posterior(boundaries):\n",
    "        return (\n",
    "            likelihood_f(data, boundaries) * \n",
    "            prior_f(boundaries)\n",
    "        )\n",
    "    return unnorm_posterior"
   ]
  },
  {
   "cell_type": "markdown",
   "id": "742576f1-11d3-4fa9-bf1b-f734a0dfbc39",
   "metadata": {},
   "source": [
    "Finally, we just need a proposal function that takes a current category and proposes a new one. The proposal function here does this by moving the category up or down and stretching it by some amount:"
   ]
  },
  {
   "cell_type": "code",
   "execution_count": 105,
   "id": "66b1cf0b-9561-4693-8089-8034292574b0",
   "metadata": {},
   "outputs": [],
   "source": [
    "def proposal_f(current_boundaries):\n",
    "    # transform boundaries linearly\n",
    "    # (i.e., move up and down and stretch)\n",
    "    shift = np.random.normal()\n",
    "    # we want the stretch to be always positive\n",
    "    # to preserve order of upper and lower bound\n",
    "    # (otherwise all samples with wrong order would\n",
    "    # have prob 0 in the likelihood function)\n",
    "    # Moreover, a stretching by some value x\n",
    "    # should be as likely as a contraction by x\n",
    "    # To preserve symmetry!\n",
    "    stretch = np.exp(np.random.normal())\n",
    "    return shift + stretch*current_boundaries"
   ]
  },
  {
   "cell_type": "markdown",
   "id": "08b58751-d726-4f0a-9d3a-0a3ed2340a17",
   "metadata": {},
   "source": [
    "Let's check the distribution of the upper and lower bounds of the proposals starting from category [-1,1]:"
   ]
  },
  {
   "cell_type": "code",
   "execution_count": 106,
   "id": "2d03717a-9819-41e5-874a-3abce556c1d3",
   "metadata": {},
   "outputs": [
    {
     "data": {
      "image/png": "[encoded data removed]",
      "text/plain": [
       "<Figure size 432x288 with 1 Axes>"
      ]
     },
     "metadata": {
      "needs_background": "light"
     },
     "output_type": "display_data"
    }
   ],
   "source": [
    "proposed = [proposal_f(np.array([-1,1])) for _ in range(10000)]\n",
    "lbs, ubs = np.array(proposed).T\n",
    "plt.hist(lbs, bins=100, alpha=0.2)\n",
    "plt.hist(ubs, bins=100, alpha=0.2)\n",
    "plt.xlim(-15, 15)\n",
    "plt.show()"
   ]
  },
  {
   "cell_type": "markdown",
   "id": "9875142f-f007-40f0-9d88-46f463d435fe",
   "metadata": {},
   "source": [
    "Now we are ready to run approximate Bayesian inference on some data! Let's define some data first:"
   ]
  },
  {
   "cell_type": "code",
   "execution_count": 71,
   "id": "49749cac-8575-481c-9564-1c74eb275c88",
   "metadata": {},
   "outputs": [],
   "source": [
    "observations = [0.1, 2., 1.1]"
   ]
  },
  {
   "cell_type": "markdown",
   "id": "90ca2af3-3fd0-4fb8-84e7-9605c953eaf5",
   "metadata": {},
   "source": [
    "Take samples from the posterior distribution:"
   ]
  },
  {
   "cell_type": "code",
   "execution_count": 83,
   "id": "8afdfd2d-c8e1-4356-88e2-39cd3f4723e2",
   "metadata": {},
   "outputs": [
    {
     "name": "stderr",
     "output_type": "stream",
     "text": [
      "/tmp/ipykernel_2721/2883728898.py:42: RuntimeWarning: invalid value encountered in double_scalars\n",
      "  acceptance = min(move_prob/curr_prob,1)\n",
      "/tmp/ipykernel_2721/2883728898.py:42: RuntimeWarning: divide by zero encountered in double_scalars\n",
      "  acceptance = min(move_prob/curr_prob,1)\n"
     ]
    }
   ],
   "source": [
    "samples = mcmc(\n",
    "    # Number of samples\n",
    "    500000,\n",
    "    # Unnormalized density function\n",
    "    define_unnorm_posterior(observations),\n",
    "    # Proposal function from point x\n",
    "    proposal_f,\n",
    "    initial=np.array([-0.5, 0.5])\n",
    ")"
   ]
  },
  {
   "cell_type": "markdown",
   "id": "ebf45d53-faa0-46ff-987a-3eb4aae536ba",
   "metadata": {},
   "source": [
    "Let's plot the posterior distributions of upper and lower bound:"
   ]
  },
  {
   "cell_type": "code",
   "execution_count": 85,
   "id": "11617606-3504-485a-bf8d-90dbbcb15a89",
   "metadata": {},
   "outputs": [],
   "source": [
    "lbs, ubs = np.array(samples).T"
   ]
  },
  {
   "cell_type": "code",
   "execution_count": 86,
   "id": "8f7b606c-22bf-4934-be7b-78013d50a289",
   "metadata": {},
   "outputs": [
    {
     "data": {
      "image/png": "[encoded data removed]",
      "text/plain": [
       "<Figure size 432x288 with 1 Axes>"
      ]
     },
     "metadata": {
      "needs_background": "light"
     },
     "output_type": "display_data"
    }
   ],
   "source": [
    "plt.hist(lbs, bins=100, density=True, label='Lower bound')\n",
    "plt.hist(ubs, bins=100, density=True, label='Upper bound')\n",
    "plt.xlim(-12, 12)\n",
    "plt.scatter(\n",
    "    observations, \n",
    "    [1.]*len(observations),\n",
    "    color='red',\n",
    "    label='observations'\n",
    ")\n",
    "plt.legend()\n",
    "plt.show()"
   ]
  },
  {
   "cell_type": "markdown",
   "id": "7b614a1d-33a6-4177-9dc8-f5a09f7eac07",
   "metadata": {},
   "source": [
    "> __QUESTION__ What happens if we add more observations? Do you see the size effect in continuous space?\n",
    "\n",
    "> __EXERCISE__ (if there is time left at the end) Write a version of this inference model for 2-d space, where categories are squares and observations are points in 2d space."
   ]
  },
  {
   "cell_type": "markdown",
   "id": "8f849a39-5964-4c8d-99ef-475373f95dac",
   "metadata": {},
   "source": [
    "## Using MHMC in discrete spaces"
   ]
  },
  {
   "cell_type": "markdown",
   "id": "6df1a587-7aeb-4515-b149-f4a4ecf79030",
   "metadata": {},
   "source": [
    "We can use Metropolis-Hastings for discrete hypotheses spaces too! The basic idea is the same: we move around the space of hypotheses, calculating the unnormalized posterior for each point, and accepting new moves according to the rule described in the algo. The only complication is that we can't use the normal distribution centered at the current position as a proposal distribution, but we must come up with something different. "
   ]
  },
  {
   "cell_type": "markdown",
   "id": "24257083-08b7-40e2-ade9-1fcc19128a1f",
   "metadata": {},
   "source": [
    "As an example which will be useful in the future, consider the space of sentences generated by a PCFG as the space of hypotheses. For instance, the following PCFG:\n",
    "\n",
    "$$\n",
    "S \\rightarrow a | b | Sa | Sb\n",
    "$$\n",
    "\n",
    "with uniform substitution probabilities (each $1/3$). The space of hypotheses then would be: 'a', 'b', 'aa', 'ab', 'ba', 'bb', and so on. "
   ]
  },
  {
   "cell_type": "code",
   "execution_count": 132,
   "id": "2b0b7bc3-29f1-4fc7-b337-6ab2d6303de4",
   "metadata": {},
   "outputs": [],
   "source": [
    "def complete(incomplete_sentence):\n",
    "    result = incomplete_sentence\n",
    "    options = ['a', 'b', 'Sa', 'Sb']\n",
    "    while 'S' in result:\n",
    "        result = np.random.choice(options) + result[1:]\n",
    "    return result"
   ]
  },
  {
   "cell_type": "code",
   "execution_count": 155,
   "id": "0a5c0b69-b349-4529-9a29-469b14082416",
   "metadata": {},
   "outputs": [
    {
     "data": {
      "text/plain": [
       "'aaa'"
      ]
     },
     "execution_count": 155,
     "metadata": {},
     "output_type": "execute_result"
    }
   ],
   "source": [
    "# test function\n",
    "complete('Saa')"
   ]
  },
  {
   "cell_type": "markdown",
   "id": "e89f21b5-04fc-4423-a3f6-2e8bb629d04e",
   "metadata": {},
   "source": [
    "The probability of a specific sentence of length $n$ then is $4^{-n}$ (can you see why?). Let's verify by sampling a bunch of sentences and finding the proportion of times we sample each one:"
   ]
  },
  {
   "cell_type": "code",
   "execution_count": 175,
   "id": "8b957d5f-b875-4ffa-8c59-8b2607cdde45",
   "metadata": {},
   "outputs": [],
   "source": [
    "n = 10000\n",
    "samples = [complete('S') for _ in range(n)]\n",
    "sentences, counts = np.unique(samples, return_counts=True)\n",
    "argsort = np.argsort(counts)[::-1]\n",
    "sentences = sentences[argsort]\n",
    "counts = counts[argsort] / n"
   ]
  },
  {
   "cell_type": "code",
   "execution_count": 178,
   "id": "aacdea62-c624-4c04-b967-675b17f53319",
   "metadata": {},
   "outputs": [
    {
     "data": {
      "image/png": "[encoded data removed]",
      "text/plain": [
       "<Figure size 432x288 with 1 Axes>"
      ]
     },
     "metadata": {
      "needs_background": "light"
     },
     "output_type": "display_data"
    }
   ],
   "source": [
    "plt.bar(x=sentences[:20], height=counts[:20])\n",
    "plt.xticks(rotation=80)\n",
    "plt.show()"
   ]
  },
  {
   "cell_type": "markdown",
   "id": "004cb6bd-3a8d-4bf3-8384-206ea63258e0",
   "metadata": {},
   "source": [
    "Based on this, it is easy to calculate the probability of each sentence:"
   ]
  },
  {
   "cell_type": "code",
   "execution_count": 109,
   "id": "0e185c49-ecc5-4c12-82e4-d369b1cdcecd",
   "metadata": {},
   "outputs": [],
   "source": [
    "def prior_f(sentence):\n",
    "    return 4**(-len(sentence))"
   ]
  },
  {
   "cell_type": "code",
   "execution_count": 112,
   "id": "36634080-b8a5-45aa-9756-7608bc93e8c7",
   "metadata": {},
   "outputs": [
    {
     "data": {
      "text/plain": [
       "0.25"
      ]
     },
     "execution_count": 112,
     "metadata": {},
     "output_type": "execute_result"
    }
   ],
   "source": [
    "# example of prior calculation\n",
    "prior_f('a')"
   ]
  },
  {
   "cell_type": "markdown",
   "id": "a4aea624-dc09-4472-a477-817863acf2e4",
   "metadata": {},
   "source": [
    "We want to learn the sentence that produces some data. If we can see the sentence directly, this is easy: just look at the sentence and we're done. However, suppose that we can't see the sentence directly, but we see a 'noisy' version of it, where possibly some characters have been added at the end, where:\n",
    "- nothing is added with probability 1/3.\n",
    "- 'a' and 'b' are added with probability 1/3 each.\n",
    "\n",
    "We can calculate the resulting observation probability:"
   ]
  },
  {
   "cell_type": "code",
   "execution_count": 128,
   "id": "3a29f962-7902-4f4f-aa7b-a756a7c203b5",
   "metadata": {},
   "outputs": [],
   "source": [
    "def likelihood_f(observations, sentence):\n",
    "    likelihood = 1\n",
    "    for observation in observations:\n",
    "        # Calculates probability of observation given true sentence\n",
    "        if observation == sentence:\n",
    "            likelihood *= 1/3\n",
    "        elif observation.startswith(sentence):\n",
    "            likelihood *= 1/3**(len(observation)-len(sentence))\n",
    "        else:\n",
    "            return 0\n",
    "    return likelihood"
   ]
  },
  {
   "cell_type": "code",
   "execution_count": 130,
   "id": "72fb9a47-0e5a-43a9-b693-d025cc6306f6",
   "metadata": {},
   "outputs": [
    {
     "name": "stdout",
     "output_type": "stream",
     "text": [
      "0.001371742112482853\n",
      "0.00045724737082761767\n",
      "0\n"
     ]
    }
   ],
   "source": [
    "# test the function\n",
    "print(likelihood_f(['abaa', 'abaaa', 'aba'], 'ab'))\n",
    "print(likelihood_f(['abaa', 'abaaa', 'abab'], 'ab'))\n",
    "print(likelihood_f(['abaa', 'abaaa', 'abab'], 'abb'))"
   ]
  },
  {
   "cell_type": "markdown",
   "id": "d7c003ad-b6f2-4b6b-bd42-887d66a57f7b",
   "metadata": {},
   "source": [
    "Like in the example above, we can now calculate the unnormalized posterior:"
   ]
  },
  {
   "cell_type": "code",
   "execution_count": 194,
   "id": "a81c1da4-f994-4a9d-928e-24df7ff81963",
   "metadata": {},
   "outputs": [],
   "source": [
    "def define_unnorm_posterior(data):\n",
    "    def unnorm_posterior(sentence):\n",
    "        return (\n",
    "            likelihood_f(data, sentence) * \n",
    "            prior_f(sentence)\n",
    "        )\n",
    "    return unnorm_posterior"
   ]
  },
  {
   "cell_type": "markdown",
   "id": "75c07e06-e84a-4a7b-9383-d60b2a2f112d",
   "metadata": {},
   "source": [
    "Finally, we need a proposal distribution, which brings us from a current sentence to a possible next step. For MHMC to work as written above, it has to be the case that the probability of going from $x$ to $x'$ is the same as the probability of going from $x'$ to $x$. If this is not the case, we need to multiply the value of `acceptance` in `mcmc` by $\\frac{P(x' \\rightarrow x) }{ P(x \\rightarrow x')}$ to balance things out.\n",
    "\n",
    "In practice, we will use the _subtree-regeneration_ transition distribution proposed at p.153 in Goodman, Noah D., Joshua B. Tenenbaum, Jacob Feldman, and Thomas L. Griffiths. “A Rational Analysis of Rule-Based Concept Learning.” Cognitive Science 32, no. 1 (2008): 108–54. https://doi.org/10.1080/03640210701802071. It works as follows, starting from current sentence $x$:\n",
    "- Sample a node $n$ at random from the parse tree of $x$\n",
    "- Remove everything below $n$ and replace $n$ with appropriate non-terminal, generating a tree $y$ containing non-terminals.\n",
    "- Complete $y$ with the PCFG, obtaining new sentence $x'$.\n",
    "- The acceptance probability from `mcmc` then gets additionally multiplied by:\n",
    "\n",
    "\\begin{align}\n",
    "\\frac{p(x' \\rightarrow x)}{p(x \\rightarrow x')} \n",
    "&= \n",
    "\\frac{ P(\\text{sampling node $n$ from $x'$}) }{ P(\\text{sampling node $n$ from $x'$}) } \n",
    "\\frac{ P(x \\mid \\text{PCFG}) }{ P(x' \\mid \\text{PCFG}) } \\\\\n",
    "&= \\frac{|x'|^{-1}}{|x|^{-1}} \\frac{4^{-|x|}}{4^{-|x'|}} \\\\\n",
    "&= \\frac{|x|}{|x'|} \\frac{4^{-|x|}}{4^{-|x'|}}\n",
    "\\end{align}\n"
   ]
  },
  {
   "cell_type": "code",
   "execution_count": 181,
   "id": "c1fc1806-87fd-4cc6-8957-a9787f149319",
   "metadata": {},
   "outputs": [],
   "source": [
    "def transition_f(current):\n",
    "    n = np.random.randint(len(current))\n",
    "    truncated = 'S' + current[:n]\n",
    "    return complete(truncated)"
   ]
  },
  {
   "cell_type": "code",
   "execution_count": 188,
   "id": "071cea56-82d6-4cff-a4c1-ce6492c93909",
   "metadata": {},
   "outputs": [
    {
     "data": {
      "text/plain": [
       "'bbb'"
      ]
     },
     "execution_count": 188,
     "metadata": {},
     "output_type": "execute_result"
    }
   ],
   "source": [
    "# test the function\n",
    "transition_f('aba')"
   ]
  },
  {
   "cell_type": "code",
   "execution_count": 192,
   "id": "e031b772-9807-487c-af70-152dd5e05260",
   "metadata": {},
   "outputs": [],
   "source": [
    "def acceptance_f(current, proposed, unnorm_prob_f):\n",
    "    move_when_lower = (\n",
    "        (unnorm_prob_f(proposed) * len(current) * 0.25**len(current))\n",
    "        /\n",
    "        (unnorm_prob_f(current) * len(proposed) * 0.25**len(proposed))\n",
    "    )\n",
    "    return min(\n",
    "        move_when_lower,\n",
    "        1\n",
    "    )"
   ]
  },
  {
   "cell_type": "code",
   "execution_count": 193,
   "id": "689253b0-6e2b-475b-9cb1-44711f984139",
   "metadata": {},
   "outputs": [],
   "source": [
    "def mcmc(nsamples, unnorm_prob_f, proposalf, burnin=100, initial=0.):\n",
    "    \"\"\"\n",
    "    Same as mcmc above but with different acceptance_f\n",
    "    \"\"\"\n",
    "    \n",
    "    current = initial() if callable(initial) else initial\n",
    "    curr_prob = unnorm_prob_f(current)\n",
    "    states = []\n",
    "    for i in range(nsamples):\n",
    "        states.append(current)\n",
    "        movement = proposalf(current)\n",
    "        move_prob = unnorm_prob_f(movement)\n",
    "        acceptance = acceptance_f(\n",
    "            current, \n",
    "            movement,\n",
    "            unnorm_prob_f\n",
    "        )\n",
    "        if np.random.random_sample() < acceptance:\n",
    "            current = movement\n",
    "            curr_prob = move_prob\n",
    "    return states[burnin:]"
   ]
  },
  {
   "cell_type": "markdown",
   "id": "92ccde74-f740-4ce7-a7f8-eb8348a16fb5",
   "metadata": {},
   "source": [
    "Define some observations:"
   ]
  },
  {
   "cell_type": "code",
   "execution_count": 196,
   "id": "8244187e-77fa-4249-a306-2b794073909b",
   "metadata": {},
   "outputs": [],
   "source": [
    "observations = ['aabaab', 'aaba', 'aabaaaa']"
   ]
  },
  {
   "cell_type": "markdown",
   "id": "7f2037fb-6b4c-450c-83c5-b21e6c2d312b",
   "metadata": {},
   "source": [
    "Take samples with our algorithm:"
   ]
  },
  {
   "cell_type": "code",
   "execution_count": 198,
   "id": "a92d10a0-b089-47f2-abda-943b4e1c8716",
   "metadata": {},
   "outputs": [],
   "source": [
    "samples = mcmc(\n",
    "    100000,\n",
    "    define_unnorm_posterior(observations),\n",
    "    transition_f,\n",
    "    initial='a'\n",
    ")"
   ]
  },
  {
   "cell_type": "markdown",
   "id": "20b03c73-c43d-4ab2-be10-26ace3101d17",
   "metadata": {},
   "source": [
    "Plot the posterior distribution:"
   ]
  },
  {
   "cell_type": "code",
   "execution_count": 204,
   "id": "90458710-2873-465d-a914-11d77859a060",
   "metadata": {},
   "outputs": [
    {
     "data": {
      "image/png": "[encoded data removed]",
      "text/plain": [
       "<Figure size 432x288 with 1 Axes>"
      ]
     },
     "metadata": {
      "needs_background": "light"
     },
     "output_type": "display_data"
    }
   ],
   "source": [
    "sentences, counts = np.unique(samples, return_counts=True)\n",
    "argsort = np.argsort(counts)[::-1]\n",
    "sentences = sentences[argsort]\n",
    "counts = counts[argsort] / len(samples)\n",
    "\n",
    "plt.bar(x=sentences, height=counts)\n",
    "plt.xticks(rotation=80)\n",
    "plt.show()"
   ]
  },
  {
   "cell_type": "markdown",
   "id": "4118b14e-f7d8-4216-983d-7a516d993669",
   "metadata": {},
   "source": [
    "Various things to be noticed:\n",
    "- The most likely sentence is the longest sentence that all the observations share, namely 'aaba'\n",
    "- The second most likely is 'aab', because it would be a 'suspicious' coincidence if all observations independently produced an 'a' right after 'aab', if the true sentence is indeed 'aab'.\n",
    "- Same, but even more so, applies to 'aa' and 'a'.\n",
    "- So even though 'aaba' is a priori less likely than 'a', it get a higher posterior probability because of the likelihood!"
   ]
  },
  {
   "cell_type": "markdown",
   "id": "d383951b-c831-4287-b14c-7dd74779ca81",
   "metadata": {},
   "source": [
    "## Homework"
   ]
  },
  {
   "cell_type": "markdown",
   "id": "0b0b957a-15e2-4dd9-ace4-0d3b9079d95f",
   "metadata": {},
   "source": [
    "Third (and last) homeworks set! Consider the following CFG (interpret it as a PCFG with uniform probabilities), where each sentence from this grammar is an integer:\n",
    "$$\n",
    "S \\rightarrow 1 | S+1 | S-1\n",
    "$$\n",
    "Note that there are multiple way to arrive at the same integer. E.g. $I(1+1-1)=I(1)$.\n",
    "\n",
    "1. Write a function `prior_f` that takes a sentence produced by the PCFG and returns its probability in the PCFG.\n",
    "\n",
    "Assume that there is a true (unknown) sentence $H$ that we are trying to infer based on some observations ${o_1, \\dots, o_n}$. The observations aren't just the integer defined by the sentence, but rather each observation is equal to the integer defined by the sentence plus some normally distributed noise. The likelihood function therefore is as follows:\n",
    "$$\n",
    "p(o \\mid H) = P(H \\mid \\text{PCFG}) \\; \\phi(x= o-I(H), \\mu=0, \\sigma=2.)\n",
    "$$\n",
    "as usual, $I$ is the interpretation function, $\\phi$ is the density function of the normal distribution. For instance if the true sentence was `1+1`, we might observe 1.94.\n",
    "\n",
    "2. Write a function `likelihood_f` that calculates the probability of a list of observations given a sentence.\n",
    "> __HINT__ First find the integer $i$ defined by the sentence, then for each observation find the difference between $i$ and the observation, then find the probability of those differences (given that they are samples from a normal with $\\mu=0$ and $\\sigma=2$), and multiply those probabilities together.\n",
    "3. Write a function to calculate the unnormalized posterior. This is essentially what the `define_unnorm_posterior` function above does.\n",
    "\n",
    "4. Write a transition function: a function that takes a current sentence $x$ and returns a randomly generated proposal $x'$. You can modify the subtree-regeneration above to adapt it to this case.\n",
    "5. Using mcmc, draw 100000 samples from $P(H \\mid D)$."
   ]
  },
  {
   "cell_type": "markdown",
   "id": "4f5359be-fce1-49a2-b510-c5312e1dbca2",
   "metadata": {},
   "source": [
    "## Implemented MHMC"
   ]
  },
  {
   "cell_type": "code",
   "execution_count": 35,
   "id": "186134a3-8c0c-48ff-81fd-75df2ae04a44",
   "metadata": {},
   "outputs": [],
   "source": [
    "def mcmc(nsamples, unnorm_prob_f, proposalf, burnin=100, initial=0.):\n",
    "    \"\"\"\n",
    "    Parameters\n",
    "    ----------\n",
    "    nsamples: int\n",
    "        Number of samples to draw (includes burnin)\n",
    "    unnorm_prob_f: func\n",
    "        Function taking a point in the support and\n",
    "        returning its unnormalized probability\n",
    "    proposalf: func\n",
    "        Function that takes current position\n",
    "        and returns a proposal for where to move next\n",
    "    burnin: int\n",
    "        Number of initial samples to exclude\n",
    "    initial: float or func\n",
    "        If float, starts from that point.\n",
    "        If func, starts from the output of initial()\n",
    "    Returns\n",
    "    -------\n",
    "    list\n",
    "        A list of samples\n",
    "    \"\"\"\n",
    "    \n",
    "    current = initial() if callable(initial) else initial\n",
    "    curr_prob = unnorm_prob_f(current)\n",
    "    \n",
    "    # we put the samples in list 'states'\n",
    "    states = []\n",
    "    for i in range(nsamples):\n",
    "        \n",
    "        # append current position to states\n",
    "        states.append(current)\n",
    "        \n",
    "        # proposes a new point\n",
    "        movement = proposalf(current)\n",
    "        \n",
    "        # calculate unnormalized probability \n",
    "        # at proposed point\n",
    "        move_prob = unnorm_prob_f(movement)\n",
    "        \n",
    "        # calculates probability of acceptance\n",
    "        acceptance = min(move_prob/curr_prob,1)\n",
    "        \n",
    "        # if acceptance is higher than random btw 0 and 1,\n",
    "        # accept move, else stay where you are (i.e. do nothing)\n",
    "        if np.random.random_sample() < acceptance:\n",
    "            current = movement\n",
    "            curr_prob = move_prob\n",
    "    \n",
    "    # return list of samples\n",
    "    return states[burnin:]"
   ]
  }
 ],
 "metadata": {
  "kernelspec": {
   "display_name": "pLoT",
   "language": "python",
   "name": "plot"
  },
  "language_info": {
   "codemirror_mode": {
    "name": "ipython",
    "version": 3
   },
   "file_extension": ".py",
   "mimetype": "text/x-python",
   "name": "python",
   "nbconvert_exporter": "python",
   "pygments_lexer": "ipython3",
   "version": "3.10.2"
  }
 },
 "nbformat": 4,
 "nbformat_minor": 5
}
