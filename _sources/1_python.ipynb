{
 "cells": [
  {
   "cell_type": "markdown",
   "metadata": {},
   "source": [
    "# (Crash) Intro to python"
   ]
  },
  {
   "cell_type": "markdown",
   "metadata": {},
   "source": [
    "Hello everyone!\n",
    "\n",
    "The first two labs are going to be just an introduction to python. These are just the minimal requirements to follow the rest of the course, and it would be great if you could try to really internalize it and become familiar with it. You do this by going through the lab multiple times, or by looking at other introductions ot python on the internet. The latter might make more sense because the particular way I have to explain this stuff might not click with you; seeing different approaches is always useful.\n",
    "\n",
    "> __NOTE__ Much of what I will say here is not strictly true from a programming point of view, but it is true enough for our purposes. If you want to know more I can give you pointers for more in-depth treatments.\n",
    "\n",
    "Unfortunately, *familiarity with programming takes time* - no way around that!"
   ]
  },
  {
   "cell_type": "markdown",
   "metadata": {},
   "source": [
    "## Colab"
   ]
  },
  {
   "cell_type": "markdown",
   "metadata": {},
   "source": [
    "If you want to run this code on the server (not in your laptop), you should be seeing this document on colab. Colab. Colab is a product from Google that allows anyone to write and run python code through the browser. This way, you don't need to set up and keep track of a python environment, which can be painful, and also we can make sure that we are all working on the same system, which helps with managing packages and avoiding surprises.\n",
    "\n",
    "While colab works pretty well for our purposes, it has some disadvantages. First, it limits the amount of computation you can do. Second, it makes it more complicated to manage files if you make changes to the notebooks I'll provide. If you do, you'll have to save your version of the notebook on your laptop and then re-upload it on colab to keep working on it."
   ]
  },
  {
   "cell_type": "markdown",
   "metadata": {},
   "source": [
    "## Jupyter notebooks"
   ]
  },
  {
   "cell_type": "markdown",
   "metadata": {},
   "source": [
    "The labs (including the one you are working on right now!) will be written in Jupyter notebooks. Jupyter notebooks are files that contain a combination of text and code. Each notebook consists of a series of _cells_, and each cell is either a text cell or a code cell. \n",
    "\n",
    "Various things to keep in mind:\n",
    "- You can select a cell by clicking on it.\n",
    "- You can edit both code and text cells. To edit a code text, press twice on it. To edit a code cell, just click on it.\n",
    "- You can run a cell by selecting it and then pressing ctrl+enter. If the cell is a text cell, it will render. If the cell is a code cell, it will run the code. \n",
    "- To add new code cells, select a cell, press Esc, and then click `a` to create a new cell above and `b` to create a new cell below the selected one.\n",
    "- You can move between cells also by pressing `k` to move to the cell above and `j` to move to the cell below."
   ]
  },
  {
   "cell_type": "markdown",
   "metadata": {},
   "source": [
    "> **__Exercises__** \n",
    "> - Add a new cell below this one."
   ]
  },
  {
   "cell_type": "markdown",
   "metadata": {},
   "source": [
    "## Some programming concepts in python"
   ]
  },
  {
   "cell_type": "markdown",
   "metadata": {},
   "source": [
    "### Spaces and indentation"
   ]
  },
  {
   "cell_type": "markdown",
   "metadata": {},
   "source": [
    "Spaces in python are part of the code, so adding or removing spaces can change the meaning of the code or break it. For instance, this should run fine:"
   ]
  },
  {
   "cell_type": "code",
   "execution_count": 2,
   "metadata": {},
   "outputs": [
    {
     "name": "stdout",
     "output_type": "stream",
     "text": [
      "012"
     ]
    }
   ],
   "source": [
    "for i in range(3):\n",
    "    print(i, end='')"
   ]
  },
  {
   "cell_type": "markdown",
   "metadata": {},
   "source": [
    "while this, which is only different in the spaces, should throw an error:"
   ]
  },
  {
   "cell_type": "code",
   "execution_count": 3,
   "metadata": {},
   "outputs": [
    {
     "ename": "IndentationError",
     "evalue": "expected an indented block after 'for' statement on line 1 (3243958857.py, line 2)",
     "output_type": "error",
     "traceback": [
      "\u001b[0;36m  Input \u001b[0;32mIn [3]\u001b[0;36m\u001b[0m\n\u001b[0;31m    print(i, end='')\u001b[0m\n\u001b[0m    ^\u001b[0m\n\u001b[0;31mIndentationError\u001b[0m\u001b[0;31m:\u001b[0m expected an indented block after 'for' statement on line 1\n"
     ]
    }
   ],
   "source": [
    "for i in range(3):\n",
    "print(i, end='')"
   ]
  },
  {
   "cell_type": "markdown",
   "metadata": {},
   "source": [
    "### Printing and commands"
   ]
  },
  {
   "cell_type": "markdown",
   "metadata": {},
   "source": [
    "As is traditional when learning a programming language, let's start with how you print the string 'Hello world'. Strings in python are written with single or double quotation marks (they aren't quite the same, but that doesn't matter here). For instance, the string containing the sentence 'Hello world' can be written as `\"Hello world\"` or as `'Hello world'`. \n",
    "\n",
    "The way we print a string is by passing the string as an argument to the `print` function. Here's the code:"
   ]
  },
  {
   "cell_type": "code",
   "execution_count": 8,
   "metadata": {},
   "outputs": [
    {
     "name": "stdout",
     "output_type": "stream",
     "text": [
      "Hello world\n"
     ]
    }
   ],
   "source": [
    "print('Hello world')"
   ]
  },
  {
   "cell_type": "markdown",
   "metadata": {},
   "source": [
    "> **__Exercises__** \n",
    "> - Create a new cell and print your name!"
   ]
  },
  {
   "cell_type": "markdown",
   "metadata": {},
   "source": [
    "### Comments"
   ]
  },
  {
   "cell_type": "markdown",
   "metadata": {},
   "source": [
    "Comments are parts of the code that are not ran when you run the code. You can add them to your code to add explanations about what your code is doing. In python, if we want to only comment one line, we use the symbol `#`: everything after `#` will be a comment. If we want the comment to span over multiple lines, we use three quotation marks to mark the beginning of the comment and then three more to mark its end (possibly on a different line).\n",
    "\n",
    "For instance, suppose we wanted to comment the code above to explain what we are doing. We could do it so:"
   ]
  },
  {
   "cell_type": "code",
   "execution_count": 9,
   "metadata": {},
   "outputs": [
    {
     "name": "stdout",
     "output_type": "stream",
     "text": [
      "Hello world\n"
     ]
    }
   ],
   "source": [
    "# We are printing the sentence 'Hello world'\n",
    "print('Hello world')"
   ]
  },
  {
   "cell_type": "markdown",
   "metadata": {},
   "source": [
    "And suppose we wanted a longer comment over multiple lines:"
   ]
  },
  {
   "cell_type": "code",
   "execution_count": 10,
   "metadata": {},
   "outputs": [
    {
     "name": "stdout",
     "output_type": "stream",
     "text": [
      "Hello world\n"
     ]
    }
   ],
   "source": [
    "\"\"\"\n",
    "Here comes the first line of comment\n",
    "and here comes the second\n",
    "\"\"\"\n",
    "print('Hello world')"
   ]
  },
  {
   "cell_type": "markdown",
   "metadata": {},
   "source": [
    "Python doesn't see the comments!"
   ]
  },
  {
   "cell_type": "markdown",
   "metadata": {},
   "source": [
    "### Variables in python"
   ]
  },
  {
   "cell_type": "markdown",
   "metadata": {},
   "source": [
    "The topic of variables is huge and we can't do it justice in the little space we have available here. But just to give you an idea, you can think of a variable as a letter or word that has some content.\n",
    "\n",
    "In python, variables are defined with the symbol `=`. On the left of the symbol you specify the name of your variable, and on the right the (initial) value, which you can generally change later. For instance, suppose we want to create a variable called `name` that has as value the string `John`. We could do it as follows:"
   ]
  },
  {
   "cell_type": "code",
   "execution_count": 11,
   "metadata": {},
   "outputs": [],
   "source": [
    "name = 'John'"
   ]
  },
  {
   "cell_type": "markdown",
   "metadata": {},
   "source": [
    "> __NOTE__ Once you have defined a variable by running a cell in the notebook, the variable is accessible in other cells too!\n",
    "\n",
    "Let's verify this by printing the value of `name` in a different cell:"
   ]
  },
  {
   "cell_type": "code",
   "execution_count": 12,
   "metadata": {},
   "outputs": [
    {
     "name": "stdout",
     "output_type": "stream",
     "text": [
      "John\n"
     ]
    }
   ],
   "source": [
    "print(name)"
   ]
  },
  {
   "cell_type": "markdown",
   "metadata": {},
   "source": [
    "> **__Exercises__** \n",
    "> - Define a new variable called `myname` that has your name as its value.\n",
    "> - Print `myname`."
   ]
  },
  {
   "cell_type": "markdown",
   "metadata": {},
   "source": [
    "We can also print more than one variable in one go by passing multiple arguments to `print`, separated by commas:"
   ]
  },
  {
   "cell_type": "code",
   "execution_count": 13,
   "metadata": {},
   "outputs": [
    {
     "name": "stdout",
     "output_type": "stream",
     "text": [
      "John Rawls\n"
     ]
    }
   ],
   "source": [
    "second_name = 'Rawls'\n",
    "\n",
    "print(name, second_name)"
   ]
  },
  {
   "cell_type": "markdown",
   "metadata": {},
   "source": [
    "Note that not all sequence of symbols can be used for variable names in python. Here's some criteria for a variable name:\n",
    "- It must start with a letter or the underscore character, but not a number or other symbols.\n",
    "- It can only contain letters, numbers, and underscores (A-z, 0-9, and _ )\n",
    "- It is case-sensitive (name and Name are two different variables)\n",
    "\n",
    "We will follow the convention that when a variable name contains more than one word we want to separate, we use an underscore. For instance, we will write `first_name` rather than for instance `firstName`.\n",
    "\n",
    "> __NOTE__ Always give your variables meaningful names or your code will be very confusing!"
   ]
  },
  {
   "cell_type": "markdown",
   "metadata": {},
   "source": [
    "### Operators"
   ]
  },
  {
   "cell_type": "markdown",
   "metadata": {},
   "source": [
    "We have seen how to define string and variables containing string. But what if you wanted to combine two or more strings into a longer string? This is an example of what an _operator_ can do. You can think of an operator as a python keyword to do something to an object, for example a string.\n",
    "\n",
    "In the case of combining string, we can use the operator `+`. We can do it as follows:"
   ]
  },
  {
   "cell_type": "code",
   "execution_count": 16,
   "metadata": {},
   "outputs": [
    {
     "name": "stdout",
     "output_type": "stream",
     "text": [
      "John Rawls\n"
     ]
    }
   ],
   "source": [
    "full_name = 'John' + ' ' + 'Rawls'\n",
    "print(full_name)"
   ]
  },
  {
   "cell_type": "markdown",
   "metadata": {},
   "source": [
    "Note that we can use the operator on the variables as well, and not just on the string themselves. The operator then will be applied to the _content_ of the variables. For instance:"
   ]
  },
  {
   "cell_type": "code",
   "execution_count": 18,
   "metadata": {},
   "outputs": [
    {
     "name": "stdout",
     "output_type": "stream",
     "text": [
      "John Rawls\n"
     ]
    }
   ],
   "source": [
    "full_name = name + ' ' + second_name\n",
    "print(full_name)"
   ]
  },
  {
   "cell_type": "markdown",
   "metadata": {},
   "source": [
    "### Equality sign"
   ]
  },
  {
   "cell_type": "markdown",
   "metadata": {},
   "source": [
    "The equality sign in programming in a sense is close to what in English is expressed by the word 'is'. However, note that there is a fundamental difference between two sense of '`a` is 3': \n",
    "1. We are _giving_ `a` the value 3\n",
    "1. We are _claiming_ that the (previously defined) variable `a` has value 3\n",
    "The former expression is not making a claim, it's changing something, and therefore is neither true nor false. The latter expression is true or false depending on whether we gave `a` the value 3. \n",
    "\n",
    "In python, these two senses are written differently. We saw above that we use a single equality sign to attribute a value to a variable, which is the first sense defined above. For the second sense, we use _two_ equality signs. For example:"
   ]
  },
  {
   "cell_type": "code",
   "execution_count": 39,
   "metadata": {},
   "outputs": [
    {
     "name": "stdout",
     "output_type": "stream",
     "text": [
      "True\n",
      "False\n"
     ]
    }
   ],
   "source": [
    "# here we are giving a value to a with a single equality sign\n",
    "a = 3\n",
    "# here we are checking the value of a with two equality signs\n",
    "print(a == 3)\n",
    "\n",
    "# Now let's try with a false one!\n",
    "a = 4\n",
    "print(a == 3)"
   ]
  },
  {
   "cell_type": "markdown",
   "metadata": {},
   "source": [
    "### Data types and their operators"
   ]
  },
  {
   "cell_type": "markdown",
   "metadata": {},
   "source": [
    "Things in python can be of different _types_, and depending on what type they are you can do different things with them and use different operators. To check the type of any object, use the keyword `type`. For instance, the following tells us that `a` is a string (`'str'`) and that `b` is an integer (`'int'`):"
   ]
  },
  {
   "cell_type": "code",
   "execution_count": 29,
   "metadata": {},
   "outputs": [
    {
     "name": "stdout",
     "output_type": "stream",
     "text": [
      "a is of type:  <class 'str'>\n",
      "b is of type:  <class 'int'>\n"
     ]
    }
   ],
   "source": [
    "a = 'Hello Mr. Fodor!'\n",
    "print('a is of type: ', type(a))\n",
    "\n",
    "b = 12\n",
    "print('b is of type: ', type(b))"
   ]
  },
  {
   "cell_type": "markdown",
   "metadata": {},
   "source": [
    "Let's consider some important types one by one (not exhaustive!). "
   ]
  },
  {
   "cell_type": "markdown",
   "metadata": {},
   "source": [
    "#### Strings: str"
   ]
  },
  {
   "cell_type": "markdown",
   "metadata": {},
   "source": [
    "We have already briefly seen strings above. Basically, you can use them to encode text. You can join multiple strings with `+`, as we saw above. You can also do loads of other stuff with strings!"
   ]
  },
  {
   "cell_type": "code",
   "execution_count": 46,
   "metadata": {},
   "outputs": [
    {
     "name": "stdout",
     "output_type": "stream",
     "text": [
      "This is a good string\n",
      "THIS IS A GOOD STRING\n"
     ]
    }
   ],
   "source": [
    "a = 'this is a good string'\n",
    "\n",
    "print(a.capitalize())\n",
    "print(a.swapcase())"
   ]
  },
  {
   "cell_type": "markdown",
   "metadata": {},
   "source": [
    "Etcetera. If you want to know more about what you can do with strings, have a look [here](https://docs.python.org/3/library/string.html)."
   ]
  },
  {
   "cell_type": "markdown",
   "metadata": {},
   "source": [
    "#### Integers: int"
   ]
  },
  {
   "cell_type": "markdown",
   "metadata": {},
   "source": [
    "Integers are just numbers without a fractional part. They can be positive or negative. Note that there are limits to the size of integers in python (and to the size of variables of every other type, too).\n",
    "\n",
    "You can do with ints everything you'd expect to be able to do: "
   ]
  },
  {
   "cell_type": "code",
   "execution_count": 48,
   "metadata": {},
   "outputs": [
    {
     "name": "stdout",
     "output_type": "stream",
     "text": [
      "8\n",
      "-6\n",
      "False\n",
      "15\n",
      "3.0\n",
      "9\n"
     ]
    }
   ],
   "source": [
    "# add them\n",
    "print(3 + 5)\n",
    "\n",
    "# subtract them\n",
    "print(4 - 10)\n",
    "\n",
    "# check for equality\n",
    "print(3 == 5)\n",
    "\n",
    "# multiply them\n",
    "print(3 * 5)\n",
    "\n",
    "# divide them \n",
    "# NOTE: result is a float rather than an int\n",
    "print(6 / 2)\n",
    "\n",
    "# raise them to a power\n",
    "print(3 ** 2)"
   ]
  },
  {
   "cell_type": "markdown",
   "metadata": {},
   "source": [
    "#### Floats: float"
   ]
  },
  {
   "cell_type": "markdown",
   "metadata": {},
   "source": [
    "Intuitively, these are numbers with a comma. You can do with them everything you can do with integers, and it behaves as you'd expect. Moreover, note that equality doesn't care about the type:"
   ]
  },
  {
   "cell_type": "code",
   "execution_count": 50,
   "metadata": {},
   "outputs": [
    {
     "name": "stdout",
     "output_type": "stream",
     "text": [
      "<class 'int'>\n",
      "<class 'float'>\n",
      "True\n"
     ]
    }
   ],
   "source": [
    "a = 3\n",
    "print(type(a))\n",
    "\n",
    "b = 3.0\n",
    "print(type(b))\n",
    "\n",
    "print(a == b)"
   ]
  },
  {
   "cell_type": "markdown",
   "metadata": {
    "tags": []
   },
   "source": [
    "#### Lists: list"
   ]
  },
  {
   "cell_type": "markdown",
   "metadata": {},
   "source": [
    "You can think of lists as ordered sets of values of any type. \n",
    "\n",
    "You can define them as follows:"
   ]
  },
  {
   "cell_type": "code",
   "execution_count": 51,
   "metadata": {},
   "outputs": [
    {
     "name": "stdout",
     "output_type": "stream",
     "text": [
      "<class 'list'>\n"
     ]
    }
   ],
   "source": [
    "# create a list \n",
    "# whose first value is 1,\n",
    "# whose second value is 2,\n",
    "# and whose third value is 3\n",
    "a = [1, 2, 3]\n",
    "\n",
    "print(type(a))"
   ]
  },
  {
   "cell_type": "markdown",
   "metadata": {},
   "source": [
    "You can add a value to the end of a list with the keyword `append`, as follows:"
   ]
  },
  {
   "cell_type": "code",
   "execution_count": 55,
   "metadata": {},
   "outputs": [
    {
     "name": "stdout",
     "output_type": "stream",
     "text": [
      "['first', 'second', 'third']\n"
     ]
    }
   ],
   "source": [
    "# first define a list with two strings\n",
    "a = ['first', 'second']\n",
    "# add a new string to the end of the list\n",
    "a.append('third')\n",
    "print(a)"
   ]
  },
  {
   "cell_type": "markdown",
   "metadata": {},
   "source": [
    "You can also access elements of a list as follows:"
   ]
  },
  {
   "cell_type": "code",
   "execution_count": 56,
   "metadata": {},
   "outputs": [
    {
     "name": "stdout",
     "output_type": "stream",
     "text": [
      "first\n",
      "second\n"
     ]
    },
    {
     "ename": "IndexError",
     "evalue": "list index out of range",
     "output_type": "error",
     "traceback": [
      "\u001b[0;31m---------------------------------------------------------------------------\u001b[0m",
      "\u001b[0;31mIndexError\u001b[0m                                Traceback (most recent call last)",
      "Input \u001b[0;32mIn [56]\u001b[0m, in \u001b[0;36m<cell line: 12>\u001b[0;34m()\u001b[0m\n\u001b[1;32m      8\u001b[0m \u001b[38;5;28mprint\u001b[39m(a[\u001b[38;5;241m1\u001b[39m])\n\u001b[1;32m     10\u001b[0m \u001b[38;5;66;03m# try to get the fourth element\u001b[39;00m\n\u001b[1;32m     11\u001b[0m \u001b[38;5;66;03m# (note that the list only has three elements!)\u001b[39;00m\n\u001b[0;32m---> 12\u001b[0m \u001b[38;5;28mprint\u001b[39m(\u001b[43ma\u001b[49m\u001b[43m[\u001b[49m\u001b[38;5;241;43m3\u001b[39;49m\u001b[43m]\u001b[49m)\n",
      "\u001b[0;31mIndexError\u001b[0m: list index out of range"
     ]
    }
   ],
   "source": [
    "a = ['first', 'second', 'third']\n",
    "\n",
    "# get the first element of the list\n",
    "# NOTE: the index of the first element is 0!\n",
    "print(a[0])\n",
    "\n",
    "# get the second element\n",
    "print(a[1])\n",
    "\n",
    "# try to get the fourth element\n",
    "# (note that the list only has three elements!)\n",
    "print(a[3])"
   ]
  },
  {
   "cell_type": "markdown",
   "metadata": {},
   "source": [
    "#### Boolean: bool"
   ]
  },
  {
   "cell_type": "markdown",
   "metadata": {},
   "source": [
    "Boolean values are truth values, and there's two of them: `True` and `False`. We can manipulate Booleans as you learned in logic 1. For instance, we can use the Boolean operators to calculate a function of multiple Boolean values:"
   ]
  },
  {
   "cell_type": "code",
   "execution_count": 36,
   "metadata": {},
   "outputs": [
    {
     "name": "stdout",
     "output_type": "stream",
     "text": [
      "False\n",
      "True\n",
      "True\n",
      "False\n",
      "True\n",
      "False\n"
     ]
    }
   ],
   "source": [
    "print(not True)\n",
    "print(not False)\n",
    "print(True and True)\n",
    "print(True and False)\n",
    "print(True or False)\n",
    "print(False or False)"
   ]
  },
  {
   "cell_type": "markdown",
   "metadata": {},
   "source": [
    "Some expressions in python (e.g., ones containing equality) _are_ Boolean values. For instance, the whole expression `3==(1+2)` is just the Boolean value `True`:"
   ]
  },
  {
   "cell_type": "code",
   "execution_count": 32,
   "metadata": {},
   "outputs": [
    {
     "name": "stdout",
     "output_type": "stream",
     "text": [
      "True\n",
      "True\n"
     ]
    }
   ],
   "source": [
    "a = 3 == (1+2)\n",
    "print(a)\n",
    "print(a is True)"
   ]
  },
  {
   "cell_type": "markdown",
   "metadata": {},
   "source": [
    "### Conditionals"
   ]
  },
  {
   "cell_type": "markdown",
   "metadata": {},
   "source": [
    "Suppose you want one thing to happen if a condition obtains and another thing to happen if it doesn't. We can use the 'if-else' construction to achieve this. The way it works is:\n",
    "- The first line of the if-else construct is like:\n",
    "```\n",
    "if <condition>:\n",
    "```\n",
    "where `<condition>` is some expression with a Boolean value.\n",
    "- Then there is one or more lines of indented code with the stuff you want to happen if the condition obtains.\n",
    "- Then optionally there is a line that says:\n",
    "```\n",
    "else:\n",
    "```\n",
    "followed by one or more lines of indented code with the code you want to run if the condition does _not_ hold.\n",
    "\n",
    "For instance, suppose you want to print `The variable is true` if a variable has Boolean value True and print `The variable is false` otherwise. You can do it as follows:"
   ]
  },
  {
   "cell_type": "code",
   "execution_count": 26,
   "metadata": {},
   "outputs": [
    {
     "name": "stdout",
     "output_type": "stream",
     "text": [
      "The variable is true\n"
     ]
    }
   ],
   "source": [
    "a_boolean_variable = True\n",
    "\n",
    "if a_boolean_variable:\n",
    "    print('The variable is true')\n",
    "else:\n",
    "    print('The variable is false')"
   ]
  },
  {
   "cell_type": "markdown",
   "metadata": {},
   "source": [
    "### `for` loops"
   ]
  },
  {
   "cell_type": "markdown",
   "metadata": {},
   "source": [
    "Suppose you want to go through the elements of a list one by one. One way to do it would be to just do it by hand. But for long lists that would become impractical, and the point of programming is automation. A better way is to use a _for_ loop. The idea is that you run some piece of code repeatedly, and a variables you specify takes on each value in the list in turn. \n",
    "\n",
    "The syntax to do this is:\n",
    "1. The first line of the loop says `for <varname> in <list>`, where `<varname>` is the name of a (new) variable and `<list>` is a list.\n",
    "1. Then there is one or more lines of indented code, a so-called _block_ of code. The code in the block is called one for every element of the list, and the variable `<varname>` takes on each value of the list in turn.\n",
    "\n",
    "To see how this works, suppose we have a list of words and we want to print each word along with its index in the list. We could do it as follows:"
   ]
  },
  {
   "cell_type": "code",
   "execution_count": 24,
   "metadata": {},
   "outputs": [
    {
     "name": "stdout",
     "output_type": "stream",
     "text": [
      "0 first\n",
      "1 second\n",
      "2 third\n"
     ]
    }
   ],
   "source": [
    "useful_list = ['first', 'second', 'third']\n",
    "for i in [0,1,2]:\n",
    "    print(i, useful_list[i])"
   ]
  },
  {
   "cell_type": "markdown",
   "metadata": {},
   "source": [
    "### Some other important keywords"
   ]
  },
  {
   "cell_type": "markdown",
   "metadata": {},
   "source": [
    "`range`: Often, we want to loop over successive integers. `range` allows us to do this easily. Specifically, suppose we want to loop from number 0 to number 9. Then we could write `for i in range(10)`. Let's test it:"
   ]
  },
  {
   "cell_type": "code",
   "execution_count": 20,
   "metadata": {},
   "outputs": [
    {
     "name": "stdout",
     "output_type": "stream",
     "text": [
      "0\n",
      "1\n",
      "2\n",
      "3\n",
      "4\n",
      "5\n",
      "6\n",
      "7\n",
      "8\n",
      "9\n"
     ]
    }
   ],
   "source": [
    "for i in range(10):\n",
    "    print(i)"
   ]
  },
  {
   "cell_type": "markdown",
   "metadata": {},
   "source": [
    "Note how `range(n)` loop from 0 to $n-1$ rather than from 0 to $n$!\n",
    "\n",
    "However, suppose we want to start from number $m$ rather than starting from 0. `range` can do this too. We just need to write `range(m, n)` and we can loop from $m$ to $n-1$. Let's try it:"
   ]
  },
  {
   "cell_type": "code",
   "execution_count": 21,
   "metadata": {},
   "outputs": [
    {
     "name": "stdout",
     "output_type": "stream",
     "text": [
      "10\n",
      "11\n",
      "12\n",
      "13\n",
      "14\n",
      "15\n"
     ]
    }
   ],
   "source": [
    "for i in range(10, 16):\n",
    "    print(i)"
   ]
  },
  {
   "cell_type": "markdown",
   "metadata": {},
   "source": [
    "Finally, suppose we don't want all the integers, but only every three integers. Then we can write `range(m, n, 3)`. Let's test this:"
   ]
  },
  {
   "cell_type": "code",
   "execution_count": 23,
   "metadata": {},
   "outputs": [
    {
     "name": "stdout",
     "output_type": "stream",
     "text": [
      "10\n",
      "13\n",
      "16\n",
      "19\n",
      "22\n",
      "25\n",
      "28\n"
     ]
    }
   ],
   "source": [
    "for i in range(10, 30, 3):\n",
    "    print(i)"
   ]
  },
  {
   "cell_type": "markdown",
   "metadata": {},
   "source": [
    "`enumerate`: Recall the code above where we printed each word in a list of words along with its index. Wouldn't it be cool if there was a way of getting the word _along with_ the index, without having to take the word from the index? There is! That's what `enumerate` is for. We use it as follows:"
   ]
  },
  {
   "cell_type": "code",
   "execution_count": 25,
   "metadata": {},
   "outputs": [
    {
     "name": "stdout",
     "output_type": "stream",
     "text": [
      "0 first\n",
      "1 second\n",
      "2 third\n"
     ]
    }
   ],
   "source": [
    "for i, word in enumerate(['first', 'second', 'third']):\n",
    "    print(i, word)"
   ]
  },
  {
   "cell_type": "markdown",
   "metadata": {},
   "source": [
    "`import`: While 'base' python defines some useful by default (e.g., all the stuff we've seen above), often you'll need to use functions and other things that are not defined in python by default. One option is to write them yourself, but often someone else has done that already, and if that someone else was organized enough, they put it in a library and now we can use it too! The way we do it is by first installing the library (there's various ways of doing this, but I'll mostly do it for you in this course) and then calling `import <libraryname>`, where `<libraryname>` stands for the name of the library you want to import."
   ]
  },
  {
   "cell_type": "markdown",
   "metadata": {},
   "source": [
    "### The meaning of the dot '.'"
   ]
  },
  {
   "cell_type": "markdown",
   "metadata": {},
   "source": [
    "You'll see that in python you often write things like `foo.bar`, where `foo` and `bar` are some words. The meaning of the dot is that you are accessing an attribute (e.g., `bar`) from an object (e.g., `foo`). E.g., it could be something like `person.age` or `person.calculate_age()`, where you are accessing the attribute `age` from the object `person`. \n",
    "\n",
    "Objects can be all sorts of things in python (and you use the dot for things that aren't objects, too), and this is a huge topic. But I hope that this gives you a first intuition.\n",
    "\n",
    "In practice, you'll soon encounter this when using a library. After we import a library, e.g., we import numpy with `import numpy as np`, we can access the things defined within the library with the dot notation. For instance, if we want to get the function `sum` from numpy, we could write `np.sum`"
   ]
  },
  {
   "cell_type": "markdown",
   "metadata": {},
   "source": [
    "## On googling problems"
   ]
  },
  {
   "cell_type": "markdown",
   "metadata": {},
   "source": [
    "Finally, a short comment on googling stuff. Finding stuff on google is an absolutely social skill for programming, whether you get an error and you have no idea what it means or you need to finds a way of doing something complicated. An important part of this skill is to learn how to _phrase_ your problem in a way that relevant results come up. This skill is hard to teach, and often you need several tries before something relevant comes up, but some words of advice:\n",
    "- Python is incredibly popular and the community is huge. If you have a problem, it's most likely that someone else already had it and there's a discussion / solution out there on the internet.\n",
    "- Don't try to google your whole problem. Think whether you can break it down in smaller problems and google the smaller ones. While it's possible that nobody was in the exact same situation as you, the features of your situation probably are pretty common. To give an extreme example, if you encounter a programming problem in this course you wouldn't google 'Fausto probabilistic LoT why is sum not working', but rather just something about the sum. _Think what's essential to your problem_.\n",
    "- Googling technical questions is not necessarily 'cheating', and normal programming involves constant googling. You need to ask yourself if the googling you are doing is a normal part of the programming. A possible rule of thumb in the context of this course is: Think about how much time you can spend on the exercise, if you have a problem stop and think before you google, but if you feel you're stuck and can't finish within the self-allotted time or if you don't see a way to proceed after a good think, google it. "
   ]
  },
  {
   "cell_type": "markdown",
   "metadata": {},
   "source": [
    "## Some exercises"
   ]
  },
  {
   "cell_type": "markdown",
   "metadata": {},
   "source": [
    "Please make sure you can do these exercises:\n",
    "1. Write a loop that prints the characters in the string 'Fodor was a great writer'. The output should be:\n",
    "\n",
    "```\n",
    "F\n",
    "o\n",
    "d\n",
    "o\n",
    "r\n",
    " \n",
    "w\n",
    "a\n",
    "s\n",
    "```\n",
    "etc.\n",
    "\n",
    "2. Write a conditional that prints 'Odd' if a variable's value is odd and 'Even' otherwise.\n",
    "1. Write a loop that prints the first 50 even numbers.\n",
    "1. Write a loop that given a string prints each character in the string twice.\n",
    "1. Print the first 20 even numbers without calling `range` with three arguments."
   ]
  },
  {
   "cell_type": "markdown",
   "metadata": {},
   "source": [
    "## One more word on programming"
   ]
  },
  {
   "cell_type": "markdown",
   "metadata": {},
   "source": [
    "This was a super super condensed introduction / refresher on python, but of course it could only scratch the surface of the tip of the iceberg (metaphor parkour!). \n",
    "\n",
    "If this stuff was all familiar and easy peasy, steady on. However, if you found it new / difficult / confusing, I recommend that you try to familiarize yourself with these concepts as soon as possible. Also, let me know and if there is enough interest I can arrange a separate class for a more thorough introduction to programming. \n",
    "\n",
    "<font size=10>Don't lose the thread of the course!</font>"
   ]
  }
 ],
 "metadata": {
  "kernelspec": {
   "display_name": "Python 3 (ipykernel)",
   "language": "python",
   "name": "python3"
  },
  "language_info": {
   "codemirror_mode": {
    "name": "ipython",
    "version": 3
   },
   "file_extension": ".py",
   "mimetype": "text/x-python",
   "name": "python",
   "nbconvert_exporter": "python",
   "pygments_lexer": "ipython3",
   "version": "3.10.2"
  }
 },
 "nbformat": 4,
 "nbformat_minor": 4
}
