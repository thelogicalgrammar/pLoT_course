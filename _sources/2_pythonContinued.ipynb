{
 "cells": [
  {
   "cell_type": "markdown",
   "id": "2defd266-cc5b-48c6-aeca-9f6c1466885f",
   "metadata": {},
   "source": [
    "# More python!"
   ]
  }
 ],
 "metadata": {
  "kernelspec": {
   "display_name": "pLoT",
   "language": "python",
   "name": "plot"
  },
  "language_info": {
   "codemirror_mode": {
    "name": "ipython",
    "version": 3
   },
   "file_extension": ".py",
   "mimetype": "text/x-python",
   "name": "python",
   "nbconvert_exporter": "python",
   "pygments_lexer": "ipython3",
   "version": "3.10.2"
  }
 },
 "nbformat": 4,
 "nbformat_minor": 5
}
