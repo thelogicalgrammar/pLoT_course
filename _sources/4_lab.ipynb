{
 "cells": [
  {
   "cell_type": "markdown",
   "id": "2defd266-cc5b-48c6-aeca-9f6c1466885f",
   "metadata": {},
   "source": [
    "# Formal Grammars "
   ]
  },
  {
   "cell_type": "markdown",
   "id": "89d8edcd-b6e5-454a-ba12-a0575f45c9bf",
   "metadata": {},
   "source": [
    "## A new piece of python syntax: generators"
   ]
  },
  {
   "cell_type": "code",
   "execution_count": null,
   "id": "e90dfe91-0bd2-4cc5-adc9-49ccf35328e7",
   "metadata": {},
   "outputs": [],
   "source": []
  },
  {
   "cell_type": "markdown",
   "id": "21f74c25-4798-4fbb-a106-e66c698de0ab",
   "metadata": {},
   "source": [
    "## Using dictionaries"
   ]
  },
  {
   "cell_type": "code",
   "execution_count": null,
   "id": "7e956874-4a88-4fa5-b46d-037d87cfb2a9",
   "metadata": {},
   "outputs": [],
   "source": []
  },
  {
   "cell_type": "markdown",
   "id": "ccfee587-ad52-4fc4-b442-6ca634cb97d4",
   "metadata": {},
   "source": [
    "## Using classes"
   ]
  },
  {
   "cell_type": "markdown",
   "id": "7f51f62a-6a87-42ab-a038-c24ad88f2731",
   "metadata": {},
   "source": [
    "### Defining a grammars class"
   ]
  },
  {
   "cell_type": "markdown",
   "id": "636e0576-7daf-4bfb-bc86-71766ca6904f",
   "metadata": {},
   "source": [
    "Write a Grammar class to create context-free grammars. The `__init__` method should take a `start` argument with the starting nonterminal symbol.\n",
    "\n",
    "The class should also have the following method (i.e., function):\n",
    "- `add_rule`: add a rule to the grammar. The arguments of `add_rule` are: \n",
    "    1. The nonterminal on the left-hand side of the rule\n",
    "    1. The string on the right side of the rule, containing `%s` wherever a non-terminal appears\n",
    "    1. A list of non-terminal symbols, one for each `%s`, saying which non-terminals correspond to each %s."
   ]
  },
  {
   "cell_type": "code",
   "execution_count": null,
   "id": "89944f91-82a7-43a0-bead-25832d0eb260",
   "metadata": {},
   "outputs": [],
   "source": [
    "#### your class definition here!\n",
    "\n"
   ]
  },
  {
   "cell_type": "markdown",
   "id": "79d89232-adf7-4f21-9457-963a9ee63985",
   "metadata": {},
   "source": [
    "Once this is defined, you should be able to run the following code to define the grammar for palindrome which we discussed in class:\n",
    "\n",
    "```python\n",
    "grammar = Grammar(start='S')\n",
    "\n",
    "grammar.add_rule('S', 'a%sa', ['S'])\n",
    "grammar.add_rule('S', 'b%sb', ['S'])\n",
    "grammar.add_rule('S', '')\n",
    "```"
   ]
  },
  {
   "cell_type": "code",
   "execution_count": null,
   "id": "87c69442-2ae2-4df7-ae30-1fea1ac28a08",
   "metadata": {},
   "outputs": [],
   "source": [
    "#### Define the palindrome grammar here!\n",
    "\n"
   ]
  },
  {
   "cell_type": "markdown",
   "id": "3dcddbbb-a713-408a-abbf-6799a850af86",
   "metadata": {},
   "source": [
    "### Finding minimal formulas (more difficult!)"
   ]
  },
  {
   "cell_type": "markdown",
   "id": "5577281d-6906-41a5-98b2-28a251507d0b",
   "metadata": {},
   "source": [
    "Now add another method `compute_first` to the class above which generates the `n` shortest strings in the language.\n",
    "\n",
    "You should be able to run for instance (given the palindrome grammar above):\n",
    "\n",
    "```python\n",
    "grammar.compute_first(5)\n",
    "```\n",
    "\n",
    "Which should print out:\n",
    "\n",
    "```python\n",
    "aa\n",
    "bb\n",
    "abba\n",
    "aaaa\n",
    "baab\n",
    "```"
   ]
  },
  {
   "cell_type": "code",
   "execution_count": null,
   "id": "0bcdea87-83a6-4e40-8534-048c654dcbd3",
   "metadata": {},
   "outputs": [],
   "source": [
    "#### Test compute_first here!\n",
    "\n"
   ]
  },
  {
   "cell_type": "markdown",
   "id": "f309fb28-7217-4f1f-9ee5-23b6300e38e2",
   "metadata": {},
   "source": [
    "### Probabilistic context-free grammar"
   ]
  },
  {
   "cell_type": "markdown",
   "id": "6bd3545f-7502-4761-a729-0264d57dbd79",
   "metadata": {},
   "source": [
    "Expand the Grammar class once more so that `add_rule` takes one more argument: The (unnormalized) probability of applying the rule rather than the other rules with the same left-hand side.\n",
    "\n",
    "The following code for instance redefines the palindrome grammar above but with probabilities:\n",
    "```python\n",
    "grammar = Grammar(start='S')\n",
    "\n",
    "grammar.add_rule('S', 'a%sa', ['S'], 1)\n",
    "grammar.add_rule('S', 'b%sb', ['S'], 1)\n",
    "grammar.add_rule('S', '', 1)\n",
    "```"
   ]
  },
  {
   "cell_type": "code",
   "execution_count": null,
   "id": "4b40a7d5-5786-43b4-87a7-bd12d445c1f1",
   "metadata": {},
   "outputs": [],
   "source": [
    "#### your class definition here!\n",
    "\n"
   ]
  },
  {
   "cell_type": "markdown",
   "id": "67d5b4ee-e58c-4c68-be5b-c809ca7af9d0",
   "metadata": {},
   "source": [
    "Add a method `generate` to Grammar to generate a random string in the language by iteratively applying the rules according to the defined probabilities. The following code should run (but possibly give a different answer on different runs):\n",
    "\n",
    "```python\n",
    "grammar.generate()\n",
    "```\n",
    "\n",
    "printing e.g.,\n",
    "```python\n",
    "aabbaa\n",
    "```"
   ]
  },
  {
   "cell_type": "code",
   "execution_count": null,
   "id": "bd159fee-b89b-403e-a461-b0ee49dd84d6",
   "metadata": {},
   "outputs": [],
   "source": [
    "#### Test generate here!\n",
    "\n"
   ]
  },
  {
   "cell_type": "markdown",
   "id": "7a4eac63-0d2f-42e3-aa78-eecc794340ea",
   "metadata": {},
   "source": [
    "What happens when we increase...\n",
    "\n",
    "- the probability of the rule $S \\rightarrow aSa$?\n",
    "- the probability of the rule $S \\rightarrow bSb$?\n",
    "- the probability of the rule $S \\rightarrow \\epsilon$?"
   ]
  }
 ],
 "metadata": {
  "kernelspec": {
   "display_name": "pLoT",
   "language": "python",
   "name": "plot"
  },
  "language_info": {
   "codemirror_mode": {
    "name": "ipython",
    "version": 3
   },
   "file_extension": ".py",
   "mimetype": "text/x-python",
   "name": "python",
   "nbconvert_exporter": "python",
   "pygments_lexer": "ipython3",
   "version": "3.10.2"
  }
 },
 "nbformat": 4,
 "nbformat_minor": 5
}
