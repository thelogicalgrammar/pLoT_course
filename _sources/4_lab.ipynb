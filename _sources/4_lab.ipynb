{
 "cells": [
  {
   "cell_type": "markdown",
   "id": "2defd266-cc5b-48c6-aeca-9f6c1466885f",
   "metadata": {},
   "source": [
    "# Formal Grammars "
   ]
  },
  {
   "cell_type": "code",
   "execution_count": 135,
   "id": "7afbccc7-4dd4-4bfe-98d1-7c5cafd6d3dd",
   "metadata": {},
   "outputs": [],
   "source": [
    "from numpy.random import choice"
   ]
  },
  {
   "cell_type": "markdown",
   "id": "21f74c25-4798-4fbb-a106-e66c698de0ab",
   "metadata": {},
   "source": [
    "## Using dictionaries"
   ]
  },
  {
   "cell_type": "markdown",
   "id": "a9d7a497-a96e-45f5-920d-8645c3bb13ac",
   "metadata": {},
   "source": [
    "One simple and intuitive way of implementing a grammar in python is as a dictionary:\n",
    "- The keys are the left hand side rules \n",
    "- The values are lists containing the possible strings that can be substituted by the key\n",
    "\n",
    "> __NOTE__: To see why we need to use lists as values rather than using a different key for each rule, try to repeat the same key more than once. What happens?\n",
    "\n",
    "For instance, let's write the grammar with the following rules:\n",
    "$$\n",
    "S \\rightarrow aS | bS | \\epsilon\n",
    "$$"
   ]
  },
  {
   "cell_type": "code",
   "execution_count": 129,
   "id": "7e956874-4a88-4fa5-b46d-037d87cfb2a9",
   "metadata": {},
   "outputs": [],
   "source": [
    "grammar = {\n",
    "    'S': [\n",
    "        'aS', \n",
    "        'bS', \n",
    "        ''\n",
    "    ]\n",
    "}"
   ]
  },
  {
   "cell_type": "markdown",
   "id": "898eb923-8fdf-43a4-8a80-81103abb55a8",
   "metadata": {},
   "source": [
    "One thing we can do with this way of defining grammars is writing a function that randomly applies rule until we get to a string consisting only of terminals:"
   ]
  },
  {
   "cell_type": "code",
   "execution_count": 134,
   "id": "0c76c0bb-f3dc-4ded-a18a-a594d5508d3f",
   "metadata": {},
   "outputs": [
    {
     "name": "stdout",
     "output_type": "stream",
     "text": [
      "String:  abaaa\n"
     ]
    }
   ],
   "source": [
    "# always start with the starting symbol\n",
    "current_sentence = 'S'\n",
    "# while there is a non-terminal in the sentence\n",
    "while 'S' in current_sentence:\n",
    "    # substitute the first occurrence of S\n",
    "    # with a randomly chosen substitution rule\n",
    "    current_sentence = current_sentence.replace(\n",
    "        'S', \n",
    "        choice((grammar['S'])),\n",
    "        # NOTE: in this particular case there will always\n",
    "        # only be one S, but this is not true for \n",
    "        # all grammars!\n",
    "        1\n",
    "    )\n",
    "print('String: ', current_sentence)"
   ]
  },
  {
   "cell_type": "markdown",
   "id": "f552022f-72fe-46df-840e-a32750ecc08d",
   "metadata": {},
   "source": [
    "Write a function that takes a grammar, a set of terminals, and a set of nonterminals, and determines where the grammar is in the Chomsky hierarchy:"
   ]
  },
  {
   "cell_type": "code",
   "execution_count": null,
   "id": "c389c2fb-f9a1-44c5-9351-7727318edcc1",
   "metadata": {},
   "outputs": [],
   "source": [
    "# Your function here\n",
    "\n",
    "\n"
   ]
  },
  {
   "cell_type": "markdown",
   "id": "a988834d-92c3-4339-b100-7c57f5617c98",
   "metadata": {},
   "source": [
    "## A new piece of python syntax: generators"
   ]
  },
  {
   "cell_type": "markdown",
   "id": "68bbeadb-2dc1-403c-bca8-147e3e768043",
   "metadata": {},
   "source": [
    "Before we move onto defining classes to model grammars, which allow richer structures than dictionaries, we need to briefly talk about generators. A generator is basically _a function with a memory_, which can return multiple things in succession. Suppose you have a generator called `gen`. A typical use case is to use it in a construction like `for i in gen():`, where `i` will take on in succession the values returned by the generator.\n",
    "\n",
    "The definition is almost like a function, except generators have the keyword `yield` where functions have `return`, and the execution doesn't stop at the return but can continue as long as future yield are possible.\n",
    "\n",
    "The simple example is a generator that first yields (returns) 1 and then 2:"
   ]
  },
  {
   "cell_type": "code",
   "execution_count": 136,
   "id": "1b5444b9-5718-4581-b36c-0c9054a2c175",
   "metadata": {},
   "outputs": [
    {
     "name": "stdout",
     "output_type": "stream",
     "text": [
      "1\n",
      "2\n"
     ]
    }
   ],
   "source": [
    "def simple_generator():\n",
    "    # when getting things out of a generator,\n",
    "    # the generator will return in the order\n",
    "    # the yield statements are encountered\n",
    "    \n",
    "    # This is encountered first\n",
    "    yield 1\n",
    "    # Then this is encountered\n",
    "    yield 2\n",
    "    \n",
    "for i in simple_generator():\n",
    "    print(i)"
   ]
  },
  {
   "cell_type": "markdown",
   "id": "78aaeca3-87bb-494b-94af-5aac84f01221",
   "metadata": {},
   "source": [
    "A slightly more complex generator simply counts the odd integers starting with 1:"
   ]
  },
  {
   "cell_type": "code",
   "execution_count": 139,
   "id": "d5d6888f-f3cd-4304-8829-c38c01bd9cb9",
   "metadata": {},
   "outputs": [],
   "source": [
    "def odd_counter():\n",
    "    i = 0\n",
    "    while True:\n",
    "        yield i*2+1\n",
    "        i += 1"
   ]
  },
  {
   "cell_type": "code",
   "execution_count": 140,
   "id": "52d4674a-cc10-4903-9752-e054a60de89e",
   "metadata": {},
   "outputs": [
    {
     "name": "stdout",
     "output_type": "stream",
     "text": [
      "1, 3, 5, 7, 9, 11, 13, 15, 17, 19, "
     ]
    }
   ],
   "source": [
    "for i in odd_counter():\n",
    "    if i <= 20:\n",
    "        print(i, end=', ')\n",
    "    else:\n",
    "        break"
   ]
  },
  {
   "cell_type": "markdown",
   "id": "ffe34dbe-8f8f-4a6f-bdbc-3ba81fafacff",
   "metadata": {},
   "source": [
    "Note that generators can also call themselves, like functions. Then we get recursive generators:"
   ]
  },
  {
   "cell_type": "code",
   "execution_count": 156,
   "id": "5d8462b3-8f33-4734-a13d-4d090c5f2229",
   "metadata": {},
   "outputs": [],
   "source": [
    "# Can you figure out what this generator does?\n",
    "def recursive_gen(current_options, n):\n",
    "    new_options = []\n",
    "    for i in current_options:\n",
    "        if sum(i) == n:\n",
    "            yield i\n",
    "        else:\n",
    "            new_options.append(i+[1])\n",
    "            new_options.append(i+[2])\n",
    "    if all([sum(j)>=n for j in new_options]):\n",
    "        return \n",
    "    for i in recursive_gen(new_options, n):\n",
    "        yield i"
   ]
  },
  {
   "cell_type": "code",
   "execution_count": 159,
   "id": "2e98dfbd-4a4a-45e2-88d5-8fb71a737126",
   "metadata": {},
   "outputs": [
    {
     "name": "stdout",
     "output_type": "stream",
     "text": [
      "[2, 2, 2]\n",
      "[1, 1, 2, 2]\n",
      "[1, 2, 1, 2]\n",
      "[1, 2, 2, 1]\n",
      "[2, 1, 1, 2]\n",
      "[2, 1, 2, 1]\n",
      "[2, 2, 1, 1]\n",
      "[1, 1, 1, 1, 2]\n",
      "[1, 1, 1, 2, 1]\n",
      "[1, 1, 2, 1, 1]\n",
      "[1, 2, 1, 1, 1]\n",
      "[2, 1, 1, 1, 1]\n"
     ]
    }
   ],
   "source": [
    "for i in recursive_gen([[1],[2]], 6):\n",
    "    print(i)"
   ]
  },
  {
   "cell_type": "markdown",
   "id": "bda32335-b147-4e31-afc4-c1a4bea5d5ad",
   "metadata": {},
   "source": [
    "Try to write the recursive_gen just as a normal function with `return` statements."
   ]
  },
  {
   "cell_type": "code",
   "execution_count": null,
   "id": "ddb6c674-7bf7-40f3-9272-fcc7410bdefd",
   "metadata": {},
   "outputs": [],
   "source": [
    "# Your code here!\n",
    "\n",
    "\n"
   ]
  },
  {
   "cell_type": "markdown",
   "id": "ccfee587-ad52-4fc4-b442-6ca634cb97d4",
   "metadata": {},
   "source": [
    "## Using classes"
   ]
  },
  {
   "cell_type": "markdown",
   "id": "7f51f62a-6a87-42ab-a038-c24ad88f2731",
   "metadata": {},
   "source": [
    "### Defining a grammars class"
   ]
  },
  {
   "cell_type": "markdown",
   "id": "636e0576-7daf-4bfb-bc86-71766ca6904f",
   "metadata": {},
   "source": [
    "Write a Grammar class to create context-free grammars. The `__init__` method should take a `start` argument with the starting nonterminal symbol.\n",
    "\n",
    "The class should also have the following method (i.e., function):\n",
    "- `add_rule`: add a rule to the grammar. The arguments of `add_rule` are: \n",
    "    1. The nonterminal on the left-hand side of the rule\n",
    "    1. The string on the right side of the rule, containing `%s` wherever a non-terminal appears\n",
    "    1. A list of non-terminal symbols, one for each `%s`, saying which non-terminals correspond to each %s."
   ]
  },
  {
   "cell_type": "code",
   "execution_count": null,
   "id": "89944f91-82a7-43a0-bead-25832d0eb260",
   "metadata": {},
   "outputs": [],
   "source": [
    "#### your class definition here!\n",
    "\n"
   ]
  },
  {
   "cell_type": "markdown",
   "id": "79d89232-adf7-4f21-9457-963a9ee63985",
   "metadata": {},
   "source": [
    "Once this is defined, you should be able to run the following code to define the grammar for palindrome which we discussed in class:\n",
    "\n",
    "```python\n",
    "grammar = Grammar(start='S')\n",
    "\n",
    "grammar.add_rule('S', 'a%sa', ['S'])\n",
    "grammar.add_rule('S', 'b%sb', ['S'])\n",
    "grammar.add_rule('S', '')\n",
    "```"
   ]
  },
  {
   "cell_type": "code",
   "execution_count": null,
   "id": "87c69442-2ae2-4df7-ae30-1fea1ac28a08",
   "metadata": {},
   "outputs": [],
   "source": [
    "#### Define the palindrome grammar here!\n",
    "\n"
   ]
  },
  {
   "cell_type": "markdown",
   "id": "3dcddbbb-a713-408a-abbf-6799a850af86",
   "metadata": {},
   "source": [
    "### Finding minimal formulas (more difficult!)"
   ]
  },
  {
   "cell_type": "markdown",
   "id": "5577281d-6906-41a5-98b2-28a251507d0b",
   "metadata": {},
   "source": [
    "Now add another method `compute_first` to the class above which generates the `n` shortest strings in the language.\n",
    "\n",
    "You should be able to run for instance (given the palindrome grammar above):\n",
    "\n",
    "```python\n",
    "grammar.compute_first(6)\n",
    "```\n",
    "\n",
    "Which should print out:\n",
    "\n",
    "```python\n",
    "aa\n",
    "bb\n",
    "aaaa\n",
    "abba\n",
    "baab\n",
    "bbbb\n",
    "```\n",
    "\n",
    "> __HINT__: Think about this as exploring a tree (branches separating whenever more than one rule can be applied), and use the power of recursion to explore the tree. The recursive function can take a 'present' layer (the strings at the current nesting level) and progressively build the next layer by applying every rule to every sentence with nonterminals in the current layer, while yielding the sentences that only contain terminals. Then, yield the results of running the function on the next layer in a loop. "
   ]
  },
  {
   "cell_type": "code",
   "execution_count": 68,
   "id": "0bcdea87-83a6-4e40-8534-048c654dcbd3",
   "metadata": {},
   "outputs": [],
   "source": [
    "#### Test compute_first here!\n",
    "\n",
    "def enumerate_palindromes(layer):\n",
    "    # your function here\n",
    "\n",
    "\n",
    "def compute_first(n):\n",
    "    for i, m in enumerate(enumerate_palindromes(['S'])):\n",
    "        if i <= n:\n",
    "            print(m)\n",
    "        else:\n",
    "            break"
   ]
  },
  {
   "cell_type": "code",
   "execution_count": 67,
   "id": "447730f4-b02c-45d2-9dfc-b65eb2da6d5b",
   "metadata": {},
   "outputs": [
    {
     "name": "stdout",
     "output_type": "stream",
     "text": [
      "\n",
      "aa\n",
      "bb\n",
      "aaaa\n",
      "abba\n"
     ]
    }
   ],
   "source": [
    "compute_first(4)"
   ]
  },
  {
   "cell_type": "markdown",
   "id": "f309fb28-7217-4f1f-9ee5-23b6300e38e2",
   "metadata": {},
   "source": [
    "### Probabilistic context-free grammar"
   ]
  },
  {
   "cell_type": "markdown",
   "id": "6bd3545f-7502-4761-a729-0264d57dbd79",
   "metadata": {},
   "source": [
    "Expand the Grammar class once more so that `add_rule` takes one more argument: The (unnormalized) probability of applying the rule rather than the other rules with the same left-hand side.\n",
    "\n",
    "The following code for instance redefines the palindrome grammar above but with probabilities:\n",
    "```python\n",
    "grammar = Grammar(start='S')\n",
    "\n",
    "grammar.add_rule('S', 'a%sa', ['S'], 1)\n",
    "grammar.add_rule('S', 'b%sb', ['S'], 1)\n",
    "grammar.add_rule('S', '', 1)\n",
    "```"
   ]
  },
  {
   "cell_type": "code",
   "execution_count": null,
   "id": "4b40a7d5-5786-43b4-87a7-bd12d445c1f1",
   "metadata": {},
   "outputs": [],
   "source": [
    "#### your class definition here!\n",
    "\n"
   ]
  },
  {
   "cell_type": "markdown",
   "id": "67d5b4ee-e58c-4c68-be5b-c809ca7af9d0",
   "metadata": {},
   "source": [
    "Add a method `generate` to Grammar to generate a random string in the language by iteratively applying the rules according to the defined probabilities. The following code should run (but possibly give a different answer on different runs):\n",
    "\n",
    "```python\n",
    "grammar.generate()\n",
    "```\n",
    "\n",
    "printing e.g.,\n",
    "```python\n",
    "aabbaa\n",
    "```"
   ]
  },
  {
   "cell_type": "code",
   "execution_count": null,
   "id": "bd159fee-b89b-403e-a461-b0ee49dd84d6",
   "metadata": {},
   "outputs": [],
   "source": [
    "#### Test generate here!\n",
    "\n"
   ]
  },
  {
   "cell_type": "markdown",
   "id": "7a4eac63-0d2f-42e3-aa78-eecc794340ea",
   "metadata": {},
   "source": [
    "What happens when we increase...\n",
    "\n",
    "- the probability of the rule $S \\rightarrow aSa$?\n",
    "- the probability of the rule $S \\rightarrow bSb$?\n",
    "- the probability of the rule $S \\rightarrow \\epsilon$?"
   ]
  }
 ],
 "metadata": {
  "kernelspec": {
   "display_name": "pLoT",
   "language": "python",
   "name": "plot"
  },
  "language_info": {
   "codemirror_mode": {
    "name": "ipython",
    "version": 3
   },
   "file_extension": ".py",
   "mimetype": "text/x-python",
   "name": "python",
   "nbconvert_exporter": "python",
   "pygments_lexer": "ipython3",
   "version": "3.10.2"
  }
 },
 "nbformat": 4,
 "nbformat_minor": 5
}
