{
 "cells": [
  {
   "cell_type": "markdown",
   "id": "08e45eee-6888-4947-be6c-b248ec58598e",
   "metadata": {
    "tags": []
   },
   "source": [
    "# The LOTlib3 library"
   ]
  },
  {
   "cell_type": "markdown",
   "id": "17559afa-ed12-45bb-81ff-6b86b6aa4017",
   "metadata": {},
   "source": [
    "> __**NOTE**__ This is based on Piantadosi's introduction to LOTlib3, which you can find [here](https://github.com/piantado/LOTlib3/blob/master/Documentation/Tutorial.md)."
   ]
  },
  {
   "cell_type": "markdown",
   "id": "ecfbeb3e-fa8e-466e-a735-dc344496fc8f",
   "metadata": {},
   "source": [
    "This week we're learning about Piantadosi's LOTlib3 library!\n",
    "\n",
    "To run the code, let's first download the library into the folder:"
   ]
  },
  {
   "cell_type": "code",
   "execution_count": 1,
   "id": "7cffd3dc-44e8-41cc-819b-3f0bc6f28f08",
   "metadata": {},
   "outputs": [
    {
     "name": "stdout",
     "output_type": "stream",
     "text": [
      "Not in colab!\n"
     ]
    }
   ],
   "source": [
    "try:\n",
    "    # in colab\n",
    "    import google.colab\n",
    "    print('In colab, downloading LOTlib3')\n",
    "    !git clone https://github.com/piantado/LOTlib3\n",
    "except:\n",
    "    # not in colab\n",
    "    print('Not in colab!')"
   ]
  },
  {
   "cell_type": "markdown",
   "id": "9284ac03-139b-4d49-a216-2deaf4998ddc",
   "metadata": {},
   "source": [
    "## Imports"
   ]
  },
  {
   "cell_type": "markdown",
   "id": "ccf769d5-fa8e-4682-8e22-28ad71b3b514",
   "metadata": {},
   "source": [
    "First we need to import a bunch of stuff:"
   ]
  },
  {
   "cell_type": "code",
   "execution_count": 2,
   "id": "ad9bcf47-102b-432d-ae81-a3522e2fe3d9",
   "metadata": {},
   "outputs": [],
   "source": [
    "import numpy as np"
   ]
  },
  {
   "cell_type": "code",
   "execution_count": 3,
   "id": "ac1342f3-ea28-457b-a0b8-33f065dfd928",
   "metadata": {},
   "outputs": [],
   "source": [
    "from LOTlib3.Miscellaneous import q, random\n",
    "from LOTlib3.Grammar import Grammar\n",
    "from LOTlib3.DataAndObjects import FunctionData, Obj\n",
    "from LOTlib3.Hypotheses.LOTHypothesis import LOTHypothesis\n",
    "from LOTlib3.Hypotheses.Priors.RationalRules import RationaRulesPrior\n",
    "from LOTlib3.Hypotheses.Likelihoods.BinaryLikelihood import BinaryLikelihood\n",
    "from LOTlib3.Eval import primitive\n",
    "from LOTlib3.Miscellaneous import qq\n",
    "from LOTlib3.TopN import TopN\n",
    "from LOTlib3.Samplers.MetropolisHastings import MetropolisHastingsSampler"
   ]
  }
 ],
 "metadata": {
  "kernelspec": {
   "display_name": "pLoT",
   "language": "python",
   "name": "plot"
  },
  "language_info": {
   "codemirror_mode": {
    "name": "ipython",
    "version": 3
   },
   "file_extension": ".py",
   "mimetype": "text/x-python",
   "name": "python",
   "nbconvert_exporter": "python",
   "pygments_lexer": "ipython3",
   "version": "3.10.2"
  }
 },
 "nbformat": 4,
 "nbformat_minor": 5
}
