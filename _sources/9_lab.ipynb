{
 "cells": [
  {
   "cell_type": "markdown",
   "id": "08e45eee-6888-4947-be6c-b248ec58598e",
   "metadata": {
    "tags": []
   },
   "source": [
    "# The LOTlib3 library - continued"
   ]
  },
  {
   "cell_type": "markdown",
   "id": "17559afa-ed12-45bb-81ff-6b86b6aa4017",
   "metadata": {},
   "source": [
    "> __**NOTE**__ This is based on Piantadosi's introduction to LOTlib3, which you can find [here](https://github.com/piantado/LOTlib3/blob/master/Documentation/Tutorial.md)."
   ]
  },
  {
   "cell_type": "code",
   "execution_count": 1,
   "id": "5e320148-a0d3-4c41-b3af-cd32de94adec",
   "metadata": {},
   "outputs": [
    {
     "name": "stdout",
     "output_type": "stream",
     "text": [
      "Not in colab!\n"
     ]
    }
   ],
   "source": [
    "try:\n",
    "    # in colab\n",
    "    import google.colab\n",
    "    print('In colab, downloading LOTlib3')\n",
    "    !git clone https://github.com/thelogicalgrammar/LOTlib3\n",
    "except:\n",
    "    # not in colab\n",
    "    print('Not in colab!')"
   ]
  },
  {
   "cell_type": "code",
   "execution_count": 149,
   "id": "11b3f59b-5544-4a1c-893f-f113218020c3",
   "metadata": {},
   "outputs": [],
   "source": [
    "from LOTlib3.Grammar import Grammar\n",
    "from LOTlib3.Hypotheses.LOTHypothesis import LOTHypothesis\n",
    "from math import log, exp\n",
    "from LOTlib3.DataAndObjects import FunctionData\n",
    "from LOTlib3.Samplers.MetropolisHastings import MetropolisHastingsSampler\n",
    "from collections import Counter\n",
    "from LOTlib3.Miscellaneous import logsumexp\n",
    "import numpy as np\n",
    "import matplotlib.pyplot as plt"
   ]
  },
  {
   "cell_type": "markdown",
   "id": "e4954087-b0ef-4ffd-97f6-8c7170057b7f",
   "metadata": {},
   "source": [
    "## Primitives"
   ]
  },
  {
   "cell_type": "markdown",
   "id": "b9ecdfb7-8d91-4dfe-b13e-f755890b371c",
   "metadata": {},
   "source": [
    "In the last lab, we have seen how to define custom interpreted operations in our LOTlib3 (interpreted) grammars: we can use arbitrary Python in the function argument. However, there are two more ways to make this more convenient when you need more complex interpretations: built-in LOTlib3 operations and your own custom operations. Let's look at them in turn."
   ]
  },
  {
   "cell_type": "markdown",
   "id": "7c2190e9-b8f1-4d2d-b2ab-c167e7c4f5a2",
   "metadata": {},
   "source": [
    "### Builtin LOTlib3 operations"
   ]
  },
  {
   "cell_type": "markdown",
   "id": "b1cc9571-5f51-4293-8400-e8debdb3730e",
   "metadata": {},
   "source": [
    "LOTlib3 defines a number of primitive operations (you can find them in `LOTlib3.Primitives`). When these are supplied as the `<FUNCTION>` in grammar rule, they act as functions that get called. **By convention, LOTlib3 internal primitives end in an underscore**. Here is an example equivalent to the grammar from last week, but using LOTlib3 function calls:"
   ]
  },
  {
   "cell_type": "code",
   "execution_count": 71,
   "id": "e2d7ffac-86d0-4cfc-8f3f-2dd721c0a2d7",
   "metadata": {},
   "outputs": [],
   "source": [
    "def produce_grammar(numerals_weight=10):\n",
    "    \n",
    "    grammar = Grammar(start='EXPR')\n",
    "    \n",
    "    grammar.add_rule(\n",
    "        'EXPR', \n",
    "        'plus_', \n",
    "        ['EXPR', 'EXPR'], \n",
    "        1.0\n",
    "    )\n",
    "    \n",
    "    grammar.add_rule(\n",
    "        'EXPR', \n",
    "        'times_', \n",
    "        ['EXPR', 'EXPR'], \n",
    "        1.0\n",
    "    )\n",
    "    \n",
    "    grammar.add_rule(\n",
    "        'EXPR', \n",
    "        'divide_(float(%s),float(%s))', \n",
    "        ['EXPR', 'EXPR'], \n",
    "        1.0\n",
    "    )\n",
    "    \n",
    "    grammar.add_rule(\n",
    "        'EXPR', \n",
    "        'neg_', \n",
    "        ['EXPR'], \n",
    "        1.0\n",
    "    )\n",
    "    \n",
    "    for n in range(1,10):\n",
    "        grammar.add_rule('EXPR', str(n), None, numerals_weight/(n**2))\n",
    "\n",
    "    return grammar"
   ]
  },
  {
   "cell_type": "code",
   "execution_count": 72,
   "id": "488d503d-5ac0-45af-abc7-ce79d240d7fb",
   "metadata": {},
   "outputs": [],
   "source": [
    "grammar = produce_grammar(10)"
   ]
  },
  {
   "attachments": {},
   "cell_type": "markdown",
   "id": "6f066943-a387-449c-bfea-40e01204ea94",
   "metadata": {},
   "source": [
    "Note that when these are rendered into strings, they appear as function calls (and not just string substitutions to make python code) as in:\n",
    "\n",
    "```\n",
    "times_(plus_(x,neg_(1)), plus_(1,1))\n",
    "```"
   ]
  },
  {
   "cell_type": "markdown",
   "id": "5d827bca-884a-44c8-924b-93fd0c6f24bf",
   "metadata": {},
   "source": [
    "There are many functions built-in to python, including a number of operations for manipulating sets, numbers, and logic. The code for `divide_` shows that it does not cast its arguments to floats: here we have to do so using string substitution as above.  For simple thing it is up to you to decide if you like to use the built in python operators (e.g. '+') or the LOTLib3 primitive ('plus_') as they are basically the same."
   ]
  },
  {
   "cell_type": "markdown",
   "id": "3020fcf6-5688-40a2-82ed-83fdddf444cc",
   "metadata": {},
   "source": [
    "### Custom operations"
   ]
  },
  {
   "cell_type": "markdown",
   "id": "1e41b648-83bd-4ca5-9d35-479e1055249e",
   "metadata": {},
   "source": [
    "You can also create new primitives which extends the functionality of LOTlib3 in many interesting way. Unfortunately, if you just define a new function in the script, you cannot directly use it in the grammar. Let's try, first defining the primitive as a regular function and then adding it as part of a rule:"
   ]
  },
  {
   "cell_type": "code",
   "execution_count": 74,
   "id": "c565f656-0173-43d9-ba91-4eedbfa6b220",
   "metadata": {},
   "outputs": [
    {
     "data": {
      "text/plain": [
       "EXPR -> my_silly_primitive_['EXPR']\tw/ p=1.0"
      ]
     },
     "execution_count": 74,
     "metadata": {},
     "output_type": "execute_result"
    }
   ],
   "source": [
    "def my_silly_primitive(x):\n",
    "    return x+222\n",
    "\n",
    "grammar = produce_grammar(2)\n",
    "grammar.add_rule('EXPR', 'my_silly_primitive_', ['EXPR'], 1.0)"
   ]
  },
  {
   "cell_type": "markdown",
   "id": "9dde69b1-51a3-4c85-97d8-ed55b752087b",
   "metadata": {},
   "source": [
    "Let's make sure that the rule was added:"
   ]
  },
  {
   "cell_type": "code",
   "execution_count": 75,
   "id": "5ca187cd-5a26-41da-ac49-2cc2eafe2feb",
   "metadata": {},
   "outputs": [
    {
     "name": "stdout",
     "output_type": "stream",
     "text": [
      "EXPR -> plus_['EXPR', 'EXPR']\tw/ p=1.0\n",
      "EXPR -> times_['EXPR', 'EXPR']\tw/ p=1.0\n",
      "EXPR -> divide_(float(%s),float(%s))['EXPR', 'EXPR']\tw/ p=1.0\n",
      "EXPR -> neg_['EXPR']\tw/ p=1.0\n",
      "EXPR -> 1\tw/ p=2.0\n",
      "EXPR -> 2\tw/ p=0.5\n",
      "EXPR -> 3\tw/ p=0.2222222222222222\n",
      "EXPR -> 4\tw/ p=0.125\n",
      "EXPR -> 5\tw/ p=0.08\n",
      "EXPR -> 6\tw/ p=0.05555555555555555\n",
      "EXPR -> 7\tw/ p=0.04081632653061224\n",
      "EXPR -> 8\tw/ p=0.03125\n",
      "EXPR -> 9\tw/ p=0.024691358024691357\n",
      "EXPR -> my_silly_primitive_['EXPR']\tw/ p=1.0\n"
     ]
    }
   ],
   "source": [
    "grammar.display_rules()"
   ]
  },
  {
   "cell_type": "markdown",
   "id": "1ad381d3-54a3-4cba-9b5d-25c064e4fd3c",
   "metadata": {},
   "source": [
    "And now let's try to interpret:"
   ]
  },
  {
   "cell_type": "markdown",
   "id": "1eda3c6b-dabd-4ab5-87ed-f9efa46bb70f",
   "metadata": {},
   "source": [
    "We can then generate new rules until we find something that contains `my_silly_primitive`:"
   ]
  },
  {
   "cell_type": "code",
   "execution_count": 83,
   "id": "25ade71a-10fd-4d84-ba1c-8e58d8075ede",
   "metadata": {},
   "outputs": [
    {
     "name": "stdout",
     "output_type": "stream",
     "text": [
      "neg_(my_silly_primitive_(divide_(float(neg_(divide_(float(neg_(2)),float(1)))),float(1))))\n"
     ]
    }
   ],
   "source": [
    "generation = grammar.\n",
    "print(generation)"
   ]
  },
  {
   "cell_type": "markdown",
   "id": "db2fc55d-721f-403e-aae1-c1faf6e0637f",
   "metadata": {},
   "source": [
    "And now, if we initialize a hypothesis with our generation and then try to call it, it will raise a NameError:"
   ]
  },
  {
   "cell_type": "code",
   "execution_count": 92,
   "id": "dd63bd93-3019-4280-8c49-3e7e64d310ad",
   "metadata": {},
   "outputs": [
    {
     "name": "stdout",
     "output_type": "stream",
     "text": [
      "NameError in function call:  name 'my_silly_primitive_' is not defined  ;  lambda: neg_(my_silly_primitive_(divide_(float(neg_(divide_(float(neg_(2)),float(1)))),float(1)))) ()\n",
      "\n"
     ]
    }
   ],
   "source": [
    "h = LOTHypothesis(\n",
    "    grammar=grammar,\n",
    "    value=generation,\n",
    "    display=\"lambda: %s\"\n",
    ")\n",
    "\n",
    "try:\n",
    "    h()\n",
    "except NameError as e:\n",
    "    print(e)"
   ]
  },
  {
   "cell_type": "markdown",
   "id": "c872daf6-6d0d-406f-9b7b-480a7b64c308",
   "metadata": {},
   "source": [
    "To make a custom function accessible to LOTlib3's evaluator, use the `@primitive` decorator:"
   ]
  },
  {
   "cell_type": "code",
   "execution_count": 93,
   "id": "3aa8b8e4-2f90-4025-8196-8f5503b21023",
   "metadata": {},
   "outputs": [],
   "source": [
    "from LOTlib3.Eval import primitive\n",
    "\n",
    "@primitive\n",
    "def my_silly_primitive_(x):\n",
    "    return x+222"
   ]
  },
  {
   "cell_type": "markdown",
   "id": "6f95fd1f-4f18-498c-a9f3-b9539e8cbc86",
   "metadata": {},
   "source": [
    "Now if you use `my_stupid_primitive_` in a grammar rule, it can be \"run\" just like any normal python code"
   ]
  },
  {
   "cell_type": "code",
   "execution_count": 94,
   "id": "6e3ea648-0bcb-4513-9c0a-4d60afb54ac0",
   "metadata": {},
   "outputs": [
    {
     "data": {
      "text/plain": [
       "EXPR -> my_silly_primitive_['EXPR']\tw/ p=1.0"
      ]
     },
     "execution_count": 94,
     "metadata": {},
     "output_type": "execute_result"
    }
   ],
   "source": [
    "grammar = produce_grammar()\n",
    "grammar.add_rule('EXPR', 'my_silly_primitive_', ['EXPR'], 1.0)"
   ]
  },
  {
   "cell_type": "code",
   "execution_count": 95,
   "id": "0772f9fd-b0aa-4a12-beca-fb2c21ac3c23",
   "metadata": {},
   "outputs": [
    {
     "name": "stdout",
     "output_type": "stream",
     "text": [
      "EXPR -> plus_['EXPR', 'EXPR']\tw/ p=1.0\n",
      "EXPR -> times_['EXPR', 'EXPR']\tw/ p=1.0\n",
      "EXPR -> divide_(float(%s),float(%s))['EXPR', 'EXPR']\tw/ p=1.0\n",
      "EXPR -> neg_['EXPR']\tw/ p=1.0\n",
      "EXPR -> 1\tw/ p=10.0\n",
      "EXPR -> 2\tw/ p=2.5\n",
      "EXPR -> 3\tw/ p=1.1111111111111112\n",
      "EXPR -> 4\tw/ p=0.625\n",
      "EXPR -> 5\tw/ p=0.4\n",
      "EXPR -> 6\tw/ p=0.2777777777777778\n",
      "EXPR -> 7\tw/ p=0.20408163265306123\n",
      "EXPR -> 8\tw/ p=0.15625\n",
      "EXPR -> 9\tw/ p=0.12345679012345678\n",
      "EXPR -> my_silly_primitive_['EXPR']\tw/ p=1.0\n"
     ]
    }
   ],
   "source": [
    "grammar.display_rules()"
   ]
  },
  {
   "cell_type": "markdown",
   "id": "42409ce5-7797-40c4-87e8-1639deb59c89",
   "metadata": {},
   "source": [
    "It is generally more friendly to give it an underscore to make sure it's not confused for a normal python function."
   ]
  },
  {
   "cell_type": "markdown",
   "id": "e298c4a9-9168-4c1d-84ee-7840a35f0845",
   "metadata": {},
   "source": [
    "## Nonterminals in the grammar"
   ]
  },
  {
   "cell_type": "markdown",
   "id": "d5f30a14-d049-4fc3-bfad-2e42d4a40adc",
   "metadata": {},
   "source": [
    "Up to this point, our grammar only contained a single non-terminal symbol, `EXPR`, representing a number. But what if we have more than one kind of expression, e.g., numbers _and_ booleans? LOTlib3 can deal with this easily with the arguments to `grammar.add_rule` we saw in the last lab. Recall from last week that these are its arguments:\n",
    "```python\n",
    "grammar.add_rule( <NONTERMINAL>, <FUNCTION>, <ARGUMENTS>, <PROBABILITY>)\n",
    "```\n",
    "\n",
    "Here's how it works:\n",
    "\n",
    "- The `<NONTERMINAL>` part of each grammar rule can be viewed as specifying the *return type* of the function that rule correspond to. For instance, if the rule outputs something of numerical type, this would be `EXPR`, and it the rule outputs something of boolean type, we could call it `BOOL`.\n",
    "- The `<ARGUMENTS>` can be viewed as the types of the *input arguments*.\n",
    "\n",
    "Thus, what a grammar mainly does is ensure that the primitives all get arguments of the correct types. Let's see this in action: suppose we had two kinds of things: booleans (BOOL) and numbers (EXPR). We might write a grammar like this:"
   ]
  },
  {
   "cell_type": "code",
   "execution_count": 105,
   "id": "18d22ec2-0e7f-4505-93cb-233e58a3bdaa",
   "metadata": {},
   "outputs": [
    {
     "data": {
      "text/plain": [
       "EXPR -> 2\tw/ p=4.0"
      ]
     },
     "execution_count": 105,
     "metadata": {},
     "output_type": "execute_result"
    }
   ],
   "source": [
    "grammar = Grammar(start='EXPR')\n",
    "\n",
    "grammar.add_rule('EXPR', 'plus_', ['EXPR', 'EXPR'], 1.0)\n",
    "grammar.add_rule('EXPR', 'times_', ['EXPR', 'EXPR'], 1.0)\n",
    "\n",
    "# Use something that renders into if statements in real python\n",
    "grammar.add_rule('EXPR', '(%s if %s else %s)', ['EXPR', 'BOOL', 'EXPR'], 1.0)\n",
    "\n",
    "# Now how do we get a boolean?\n",
    "grammar.add_rule('BOOL', '(%s > %s)', ['EXPR', 'EXPR'], 1.0)\n",
    "grammar.add_rule('BOOL', '(%s >= %s)', ['EXPR', 'EXPR'], 1.0)\n",
    "\n",
    "# And a terminal\n",
    "grammar.add_rule('EXPR', '1', None, 4.0)\n",
    "grammar.add_rule('EXPR', '2', None, 4.0)"
   ]
  },
  {
   "cell_type": "markdown",
   "id": "786c57d8-b80c-4b22-b69d-ecd6c9f131f0",
   "metadata": {},
   "source": [
    "Here, the second argument to the `if` line must be a `BOOL`, and so we have given LOTlib3 a way to create code that returns `BOOL`s. It just happens that this code is a comparison of numbers, or `EXPR`s. Let's look at some generations:"
   ]
  },
  {
   "cell_type": "code",
   "execution_count": 106,
   "id": "db3696ba-11cf-4d97-a982-f81bf5700fe4",
   "metadata": {},
   "outputs": [
    {
     "name": "stdout",
     "output_type": "stream",
     "text": [
      "1\n",
      "1\n",
      "plus_((1 if (1 >= times_((2 if (2 > 2) else times_(2, 1)), 2)) else 2), 2)\n",
      "times_(times_(2, 1), 2)\n",
      "1\n",
      "plus_(1, 2)\n",
      "2\n",
      "2\n",
      "2\n",
      "2\n"
     ]
    }
   ],
   "source": [
    "for i in range(10):\n",
    "    print(grammar.generate())"
   ]
  },
  {
   "cell_type": "markdown",
   "id": "866d9bdf-ccae-4ecd-a0d2-a69809042057",
   "metadata": {},
   "source": [
    "## The best hypotheses"
   ]
  },
  {
   "cell_type": "markdown",
   "id": "7ed9991e-db08-4554-b90c-abc01f245a7a",
   "metadata": {},
   "source": [
    "Now let's go back to how we can store the results of the inference. First, let's define the Grammar and Hypothesis again:"
   ]
  },
  {
   "cell_type": "code",
   "execution_count": 110,
   "id": "3e2af9c5-df58-4fcb-a598-b93a1fe2dd51",
   "metadata": {},
   "outputs": [],
   "source": [
    "grammar = produce_grammar(10)\n",
    "\n",
    "# define a hypothesis\n",
    "class MyHypothesis(LOTHypothesis):\n",
    "    \n",
    "    def __init__(self, **kwargs):\n",
    "        LOTHypothesis.__init__(\n",
    "            self, \n",
    "            grammar=grammar, \n",
    "            display=\"lambda: %s\", \n",
    "            **kwargs\n",
    "        )\n",
    "\n",
    "    def compute_single_likelihood(self, datum):\n",
    "        \"\"\"Define the loglikelihood function P(datum | self)\"\"\"\n",
    "        prob_of_random_number = (1.0-datum.alpha)/100.\n",
    "        if self(*datum.input) == datum.output:\n",
    "            return log(prob_of_random_number + datum.alpha)\n",
    "        else:\n",
    "            return log(prob_of_random_number) \n",
    "\n",
    "data = [ \n",
    "    FunctionData(\n",
    "        input=[], \n",
    "        output=12, \n",
    "        alpha=0.999\n",
    "    ) \n",
    "]"
   ]
  },
  {
   "cell_type": "markdown",
   "id": "831ac52a-d248-4d71-bac4-086c0abe233e",
   "metadata": {},
   "source": [
    "Very often, models in LOTlib3 approximate the full posterior distribution $P(H|D)$ using the highest posterior hypotheses. There are two main ways to do this. One is a class named `LOTlib3.TopN` which acts like a set--you can add to it, but it keeps only the ones with highest `posterior_score` (or whatever \"key\" is set). It will return them to you in a sorted order:"
   ]
  },
  {
   "cell_type": "code",
   "execution_count": null,
   "id": "81112677-b338-4fcc-a846-78d78389eaf6",
   "metadata": {},
   "outputs": [],
   "source": [
    "from LOTlib3.TopN import TopN\n",
    "\n",
    "# store the top N\n",
    "tn = TopN(N=10)\n",
    "h0 = MyHypothesis()\n",
    "for h in MetropolisHastingsSampler(h0, data, steps=10000):\n",
    "    tn.add(h)"
   ]
  },
  {
   "cell_type": "markdown",
   "id": "6ad1fd75-53ee-4312-b763-cdd67ec29323",
   "metadata": {},
   "source": [
    "We can see the best formulas as follows:"
   ]
  },
  {
   "cell_type": "code",
   "execution_count": 116,
   "id": "d9a9f8f3-9b88-4baf-99b4-b05e6df7121c",
   "metadata": {},
   "outputs": [
    {
     "name": "stdout",
     "output_type": "stream",
     "text": [
      "-12.888815174461108 lambda: times_(times_(4, 1), 3) 12\n",
      "-12.888815174461108 lambda: times_(divide_(float(4),float(1)), 3) 12.0\n",
      "-12.888815174461108 lambda: times_(4, times_(1, 3)) 12\n",
      "-12.888815174461108 lambda: times_(plus_(2, 2), 3) 12\n",
      "-12.313451029557548 lambda: times_(plus_(1, 3), 3) 12\n",
      "-12.313451029557548 lambda: times_(plus_(3, 1), 3) 12\n",
      "-12.175493704674896 lambda: 1 1\n",
      "-12.07788495824478 lambda: times_(4, plus_(1, 2)) 12\n",
      "-12.07788495824478 lambda: times_(4, plus_(2, 1)) 12\n",
      "-9.261093602057727 lambda: times_(4, 3) 12\n"
     ]
    }
   ],
   "source": [
    "for h in tn.get_all(sorted=True):\n",
    "    print(h.posterior_score, h, h())"
   ]
  },
  {
   "cell_type": "markdown",
   "id": "cfc88bfc-a0fc-4d6d-a8fa-3d599f08ef69",
   "metadata": {},
   "source": [
    "There's also a friendly way to interface with `TopN`:"
   ]
  },
  {
   "cell_type": "code",
   "execution_count": 112,
   "id": "fbdc11c2-d930-4eab-bae3-e7ea31cb114c",
   "metadata": {},
   "outputs": [],
   "source": [
    "for h in MetropolisHastingsSampler(h0, data, steps=10000):\n",
    "    tn << h"
   ]
  },
  {
   "cell_type": "code",
   "execution_count": 121,
   "id": "797612b5-fef5-40e5-bc40-775719286473",
   "metadata": {},
   "outputs": [
    {
     "name": "stdout",
     "output_type": "stream",
     "text": [
      "-12.888815174461108 lambda: times_(times_(4, 1), 3) 12\n",
      "-12.888815174461108 lambda: times_(divide_(float(4),float(1)), 3) 12.0\n",
      "-12.888815174461108 lambda: times_(4, times_(1, 3)) 12\n",
      "-12.888815174461108 lambda: times_(plus_(2, 2), 3) 12\n",
      "-12.313451029557548 lambda: times_(plus_(1, 3), 3) 12\n",
      "-12.313451029557548 lambda: times_(plus_(3, 1), 3) 12\n",
      "-12.175493704674896 lambda: 1 1\n",
      "-12.07788495824478 lambda: times_(4, plus_(1, 2)) 12\n",
      "-12.07788495824478 lambda: times_(4, plus_(2, 1)) 12\n",
      "-9.261093602057727 lambda: times_(4, 3) 12\n"
     ]
    }
   ],
   "source": [
    "for h in tn.get_all(sorted=True):\n",
    "    print(h.posterior_score, h, h())"
   ]
  },
  {
   "cell_type": "markdown",
   "id": "e416f5e2-3441-4109-a01f-5c34356e6346",
   "metadata": {},
   "source": [
    "Productions the results in the output 12 have high posterior scores and are in general among the best hypotheses.  However, some very simple and short programs like a single number output (like 0) might still appear among the \"top\" hypotheses. This is because the prior might make them still quite likely given the specified level of noise $\\alpha$, i.e., the observation might have been a mistake. This shows the importance of thinking about the nature of your prior and the likelihood function for your problem."
   ]
  },
  {
   "cell_type": "markdown",
   "id": "6c008a78-96e2-4be6-84e8-86d9d312b519",
   "metadata": {},
   "source": [
    "## Hypotheses as functions"
   ]
  },
  {
   "cell_type": "markdown",
   "id": "31336221-1609-4c66-9d4a-fd67ba2a0652",
   "metadata": {},
   "source": [
    "When we defined MyHypothesis, we passed `display=\"lambda: %s\"` to `LOTHypothesis.__init__`. That meant that a hypothesis was not a function of any arguments, since the `lambda` has no arguments. You may have noticed that when a hypothesis is converting to a string (for printing or evaling) it acquires this additional `lambda` on the outside, indicating that the hypothesis was a function of no arguments, or a [thunk](https://en.wikipedia.org/wiki/Thunk). \n",
    "\n",
    "However, often we want our hypotheses to be a function with arguments! Then, our observations can be sets of (input, output) tuples, and the hypothesis can be a function that given each input returns each output. Let's define a new grammar that allows us to encode functions, and a corresponding MyHypothesis that requires an argument. "
   ]
  },
  {
   "cell_type": "code",
   "execution_count": 122,
   "id": "483801a6-c160-43b2-811b-c6c84b352e81",
   "metadata": {},
   "outputs": [],
   "source": [
    "grammar = Grammar(start='EXPR')\n",
    "\n",
    "grammar.add_rule('EXPR', '(%s + %s)', ['EXPR', 'EXPR'], 1.0)\n",
    "grammar.add_rule('EXPR', '(%s * %s)', ['EXPR', 'EXPR'], 1.0)\n",
    "grammar.add_rule('EXPR', '(float(%s) / float(%s))', ['EXPR', 'EXPR'], 1.0)\n",
    "grammar.add_rule('EXPR', '(-%s)', ['EXPR'], 1.0)\n",
    "\n",
    "# Now define how the grammar uses x. The string 'x' must\n",
    "# be the same as used in the args below.\n",
    "# Basically, x will now sometimes appear in the formulas,\n",
    "# and in those cases it can be bound in Hypothesis.\n",
    "grammar.add_rule('EXPR', 'x', None, 1.0) \n",
    "\n",
    "for n in range(0,10):\n",
    "    grammar.add_rule('EXPR', str(n), None, 10.0/((n+1)**2))"
   ]
  },
  {
   "cell_type": "markdown",
   "id": "bfcb8c75-9dcb-40b9-ba8e-90740d39d15a",
   "metadata": {},
   "source": [
    "Let's define the Hypothesis:"
   ]
  },
  {
   "cell_type": "code",
   "execution_count": 143,
   "id": "412c2665-10e8-4494-8da3-b4708a49c958",
   "metadata": {},
   "outputs": [],
   "source": [
    "class MyHypothesisX(LOTHypothesis):\n",
    "    def __init__(self, **kwargs):\n",
    "        LOTHypothesis.__init__(\n",
    "            self, \n",
    "            grammar=grammar, \n",
    "            # NOTE: now we pass an argument\n",
    "            # to the lambda function\n",
    "            display=\"lambda x: %s\", \n",
    "            **kwargs\n",
    "        )\n",
    "\n",
    "    def __call__(self, *args):\n",
    "        try:\n",
    "            # try to do it from the superclass\n",
    "            return LOTHypothesis.__call__(self, *args)\n",
    "        except ZeroDivisionError:\n",
    "            # and if we get an error, return nan\n",
    "            return float(\"nan\")\n",
    "\n",
    "    def compute_single_likelihood(self, datum):\n",
    "        call_output = self(*datum.input)\n",
    "        if call_output == 'nan':\n",
    "            return -float('inf')\n",
    "        elif call_output == datum.output:\n",
    "            return log((1.0-datum.alpha)/100. + datum.alpha)\n",
    "        else:\n",
    "            return log((1.0-datum.alpha)/100.)"
   ]
  },
  {
   "cell_type": "markdown",
   "id": "737e8687-c43d-4c87-957a-b8f03ce1f487",
   "metadata": {},
   "source": [
    "Now, when the hypothesis renders, it comes with a `lambda x` in front, rather than just a `lambda`. The grammar now has to allow the argument (`x`) to be produced in expressions.\n",
    "\n",
    "We also define the `datum.input` so that it has an input, which gets bound to `x` when the function is evaluated:"
   ]
  },
  {
   "cell_type": "code",
   "execution_count": 134,
   "id": "181a8b3a-27a3-4ba6-884e-b62a8423390e",
   "metadata": {},
   "outputs": [],
   "source": [
    "# Now our data takes input x=3 and maps it to 12\n",
    "# What could the function be?\n",
    "data = [ \n",
    "    FunctionData(\n",
    "        input=[3], \n",
    "        output=12, \n",
    "        alpha=0.99\n",
    "    ) \n",
    "]"
   ]
  },
  {
   "cell_type": "markdown",
   "id": "1f832539-bb57-4d40-bb42-e05edb1d21b9",
   "metadata": {},
   "source": [
    "Let's actually run this and see what it comes up with:"
   ]
  },
  {
   "cell_type": "code",
   "execution_count": 135,
   "id": "a892ad7f-d7f4-40d5-b8ba-aa76e0c2f11e",
   "metadata": {},
   "outputs": [],
   "source": [
    "tn = TopN(N=10) \n",
    "h0 = MyHypothesisX()\n",
    "\n",
    "for h in MetropolisHastingsSampler(h0, data, steps=100000):\n",
    "    tn << h"
   ]
  },
  {
   "cell_type": "code",
   "execution_count": 136,
   "id": "bca4e46d-9f1c-4270-8fc3-4d1c3a714449",
   "metadata": {},
   "outputs": [
    {
     "name": "stdout",
     "output_type": "stream",
     "text": [
      "-11.84347278665917 lambda x: (9 + 3)\n",
      "-11.373469157413435 lambda x: (9 + x)\n",
      "-11.373469157413435 lambda x: (x + 9)\n",
      "-11.314361217957266 lambda x: 1\n",
      "-10.554758753878144 lambda x: (2 * 6)\n",
      "-10.457178425539281 lambda x: (4 * 3)\n",
      "-10.457178425539281 lambda x: (3 * 4)\n",
      "-9.987174796293544 lambda x: (x * 4)\n",
      "-9.987174796293544 lambda x: (4 * x)\n",
      "-9.928066856837376 lambda x: 0\n"
     ]
    }
   ],
   "source": [
    "for h in tn.get_all(sorted=True):\n",
    "    print(h.posterior_score, h)"
   ]
  },
  {
   "cell_type": "markdown",
   "id": "b119cfcf-5b13-464a-aecb-4bcbf3cdb7f1",
   "metadata": {},
   "source": [
    "Why does this matter? Well now instead of just explaining the data we saw, we can use the hypothesis to generalize to *new*, unseen data. For instance, we can take each hypothesis and see what it has to say about other numbers"
   ]
  },
  {
   "cell_type": "code",
   "execution_count": 137,
   "id": "7b7e0d58-5419-40a0-96c2-9a26ff6cfaf8",
   "metadata": {},
   "outputs": [
    {
     "name": "stdout",
     "output_type": "stream",
     "text": [
      "-11.84347278665917 lambda x: (9 + 3) [12, 12, 12, 12, 12, 12, 12, 12, 12, 12]\n",
      "-11.373469157413435 lambda x: (9 + x) [9, 10, 11, 12, 13, 14, 15, 16, 17, 18]\n",
      "-11.373469157413435 lambda x: (x + 9) [9, 10, 11, 12, 13, 14, 15, 16, 17, 18]\n",
      "-11.314361217957266 lambda x: 1 [1, 1, 1, 1, 1, 1, 1, 1, 1, 1]\n",
      "-10.554758753878144 lambda x: (2 * 6) [12, 12, 12, 12, 12, 12, 12, 12, 12, 12]\n",
      "-10.457178425539281 lambda x: (4 * 3) [12, 12, 12, 12, 12, 12, 12, 12, 12, 12]\n",
      "-10.457178425539281 lambda x: (3 * 4) [12, 12, 12, 12, 12, 12, 12, 12, 12, 12]\n",
      "-9.987174796293544 lambda x: (x * 4) [0, 4, 8, 12, 16, 20, 24, 28, 32, 36]\n",
      "-9.987174796293544 lambda x: (4 * x) [0, 4, 8, 12, 16, 20, 24, 28, 32, 36]\n",
      "-9.928066856837376 lambda x: 0 [0, 0, 0, 0, 0, 0, 0, 0, 0, 0]\n"
     ]
    }
   ],
   "source": [
    "# For each top N hypothesis, we'll see what it maps 0..9 to \n",
    "for h in tn.get_all(sorted=True):\n",
    "    print(h.posterior_score, h, list(map(h, range(0,10))))"
   ]
  },
  {
   "cell_type": "markdown",
   "id": "3076cf08-e7e8-4c9b-8159-d1388331594c",
   "metadata": {},
   "source": [
    "Thus, we have taken a single data point and used it to infer a function that can *generalize* to new, unseen data or arguments. Note, though, that there is no requirement that `x` is used in each hypothesis. (If we wanted that, a LOTlib3ian way to do it would be to modify the prior to assign trees that don't use `x` to have `-Infinity` log prior). \n",
    "\n",
    "Just for fun here, let's take the posterior predictive and see how likely we are to generalize this function to every other number. "
   ]
  },
  {
   "cell_type": "code",
   "execution_count": 144,
   "id": "76f89592-88e4-4015-8582-9c4d00aaffb4",
   "metadata": {},
   "outputs": [],
   "source": [
    "tn = TopN(1000) \n",
    "\n",
    "h0 = MyHypothesisX()\n",
    "for h in MetropolisHastingsSampler(h0, data, steps=100000):\n",
    "    tn.add(h)\n",
    "\n",
    "# store these in a list (tn.get_all is defaultly a generator)\n",
    "hypotheses = list(tn.get_all())"
   ]
  },
  {
   "cell_type": "code",
   "execution_count": null,
   "id": "91feb139-7d63-4d80-837f-866c8270cd8e",
   "metadata": {},
   "outputs": [],
   "source": [
    "# Compute the normalizing constant\n",
    "z = logsumexp([h.posterior_score for h in hypotheses])\n",
    "\n",
    "# Now compute a matrix of how likely each input is to go\n",
    "# to each output.\n",
    "# An MxM matrix of values\n",
    "M = 20\n",
    "\n",
    "# The probability of generalizing\n",
    "G = np.zeros((M,M))\n",
    "\n",
    "# Now add in each hypothesis' predictive\n",
    "for h in hypotheses:\n",
    "    # the (normalized) posterior probability of this hypothesis\n",
    "    p = np.exp(h.posterior_score - z)\n",
    "\n",
    "    for x in range(M):\n",
    "        try:\n",
    "            output = int(h(x))\n",
    "        except ValueError:\n",
    "            continue\n",
    "\n",
    "        # only keep those that are in the right range\n",
    "        if 0 <= output < M:\n",
    "            G[x][int(output)] += p"
   ]
  },
  {
   "cell_type": "code",
   "execution_count": 160,
   "id": "b8d422c7-3b85-40da-90cc-0518ae3af365",
   "metadata": {},
   "outputs": [
    {
     "data": {
      "image/png": "[encoded data removed]",
      "text/plain": [
       "<Figure size 640x480 with 1 Axes>"
      ]
     },
     "metadata": {},
     "output_type": "display_data"
    }
   ],
   "source": [
    "# And show the output\n",
    "plt.imshow(np.array(G).T)\n",
    "plt.xticks(np.arange(0,20,3))\n",
    "plt.yticks(np.arange(0,20,3))\n",
    "plt.xlabel('Input')\n",
    "plt.ylabel('Output')\n",
    "plt.show()"
   ]
  },
  {
   "cell_type": "markdown",
   "id": "fd30d16d-597d-4b55-8d40-9fda34a3e01e",
   "metadata": {},
   "source": [
    "As you can see from the complexity of this array which shows the probabilities for different outputs given different inputs, observing that some (unseen) function maps 3->12 gives rise to nontrivial beliefs about the function underlying this transformation. "
   ]
  },
  {
   "cell_type": "markdown",
   "id": "694ec8e3-a027-4bda-a42f-668cd4a75ce6",
   "metadata": {},
   "source": [
    "## Lambdas"
   ]
  },
  {
   "cell_type": "markdown",
   "id": "98880067-d58e-4a18-9620-1a52c0d6e893",
   "metadata": {},
   "source": [
    "The power of this kind of representation comes not only from an ability to learn such simple functions, but to also learn functions with new kinds of abstractions. In programming languages, the simplest kind of abstraction is a variable--a value that is stored for later use. The variable `x` is created above on the level of a LOTHypothesis, but where things get more interesting is when the lower down values in a grammar can be used to define variables. Let's look at a grammar with two additional pieces"
   ]
  },
  {
   "cell_type": "code",
   "execution_count": null,
   "id": "04befce8-b9ae-4629-a87c-1ea6377a648b",
   "metadata": {},
   "outputs": [],
   "source": [
    "from LOTlib3.Grammar import Grammar\n",
    "grammar = Grammar(start='EXPR')\n",
    "\n",
    "grammar.add_rule('EXPR', '(%s + %s)', ['EXPR', 'EXPR'], 1.0)\n",
    "grammar.add_rule('EXPR', '(%s * %s)', ['EXPR', 'EXPR'], 1.0)\n",
    "grammar.add_rule('EXPR', '(float(%s) / float(%s))', ['EXPR', 'EXPR'], 1.0)\n",
    "grammar.add_rule('EXPR', '(-%s)', ['EXPR'], 1.0)\n",
    "\n",
    "grammar.add_rule('EXPR', 'x', None, 1.0) \n",
    "\n",
    "for n in range(1,10):\n",
    "    # We'll make these lower probability so we can see more lambdas below\n",
    "    grammar.add_rule('EXPR', str(n), None, 5.0/n**2)"
   ]
  },
  {
   "cell_type": "code",
   "execution_count": null,
   "id": "051e179b-9172-424d-acd0-2f4f4c5ce49f",
   "metadata": {},
   "outputs": [],
   "source": [
    "# And allow lambda abstraction\n",
    "# First we define the application of a new nonterminal, FUNC, to a term EXPR\n",
    "grammar.add_rule('EXPR', '(%s)(%s)', ['FUNC', 'EXPR'], 1.0)\n",
    "# Here, FUNC should be thought of as a function\n",
    "grammar.add_rule('FUNC', 'lambda', ['EXPR'], 1.0, bv_type='EXPR')"
   ]
  },
  {
   "cell_type": "markdown",
   "id": "d339430d-04f9-42db-a4c9-6f9fa8d43ea6",
   "metadata": {},
   "source": [
    "Here, `lambda` is a special LOTlib3 keyword that *introduces a bound variable* with a unique name in expanding the <ARGUMENT>s. In other words, when the grammar happens to sample a rule whose <FUNCTION> is `'lambda'`, it creates a new variable name, allows `bv_type` to expand to this variable, expands the <ARGUMENTS> to `lambda` (here, `EXPR`), and then removes the rule from the grammar. Let's look at some productions:"
   ]
  },
  {
   "cell_type": "code",
   "execution_count": null,
   "id": "beb319df-7081-4fad-89eb-db2a0c35791f",
   "metadata": {},
   "outputs": [],
   "source": []
  },
  {
   "cell_type": "code",
   "execution_count": null,
   "id": "22ea8524-4661-40d0-b5e6-4baeafee9426",
   "metadata": {},
   "outputs": [],
   "source": [
    "for _ in range(1000):\n",
    "    print(grammar.generate())"
   ]
  },
  {
   "cell_type": "markdown",
   "id": "2bc0a1ea-55dd-4894-a390-9b1e35f9ca2d",
   "metadata": {},
   "source": [
    "Now some of the trees contain `lambda` expressions, which bind a variable (defaultly rendered as `y1`). The variable `y1` can only be used below its corresponding lambda, making the grammar in LOTlib3 technically not context-free, but very weakly context-sensitive. The variables like `y1` are called **bound variables** in LOTlib3. Note that they are numbered by their height in the tree, making them unique to the nodes below, but neither sequential, nor unique in the whole tree (underlyingly, they have unique names no matter what, but not when rendered into strings). \n",
    "\n",
    "These bound variables count towards the prior (when using `grammar.log_probability`) in exactly the way they should: when a nonterminal (specified in `bv_type`) can expand to a given bound variable, that costs probability, and other expansions must lose probability. The default in LOTlib3 is to always renormalize the probabilities specified. Note that in the `add_rule` command, we can change the probability that a EXPR->yi rule has by passing in a bv_p argument:"
   ]
  },
  {
   "cell_type": "code",
   "execution_count": null,
   "id": "13fd290f-3e0f-4a59-a71a-0578de82807e",
   "metadata": {},
   "outputs": [],
   "source": [
    "# make using yi 10x more likely than before\n",
    "grammar.add_rule('FUNC', 'lambda', ['EXPR'], 1.0, bv_type='EXPR', bv_p=10.0)"
   ]
  },
  {
   "cell_type": "markdown",
   "id": "2091606b-466f-4d88-ab00-512645cd410b",
   "metadata": {},
   "source": [
    "Lambdas like these play the role of variable declarations in a normal programming language. But note that the variables aren't guaranteed to be useful. In fact, very often variables are stupid, as in the expression"
   ]
  },
  {
   "cell_type": "code",
   "execution_count": null,
   "id": "53cd0e24-4e67-460f-a756-9fdc96abfe00",
   "metadata": {},
   "outputs": [],
   "source": [
    "(lambda y1: y1)((1 * 1))"
   ]
  },
  {
   "cell_type": "markdown",
   "id": "72d69b74-d184-4582-a182-e60ac450135f",
   "metadata": {},
   "source": [
    "where the lambda defines a variable that is used immediately without modification. This expression is therefore equivalent to "
   ]
  },
  {
   "cell_type": "code",
   "execution_count": null,
   "id": "40d92359-6948-41a8-93c7-eee510215978",
   "metadata": {},
   "outputs": [],
   "source": [
    "(1 * 1)"
   ]
  },
  {
   "cell_type": "markdown",
   "id": "3b3a45d7-d00a-4d10-a601-95af214988ff",
   "metadata": {},
   "source": [
    "in terms of its function, but not in terms of its prior. \n",
    "\n",
    "We can also change the name that bound variables get by setting `bv_prefix`:"
   ]
  },
  {
   "cell_type": "code",
   "execution_count": null,
   "id": "78f3cad9-b7eb-45e0-b2af-243a83eec9a6",
   "metadata": {},
   "outputs": [],
   "source": [
    "grammar.add_rule('FUNC', 'lambda', ['EXPR'], 1.0, bv_type='EXPR', bv_prefix='v')"
   ]
  },
  {
   "cell_type": "markdown",
   "id": "ccf0a6a4-b16e-4db7-b1ea-7027b067c139",
   "metadata": {},
   "source": [
    "will make bound variables named `v1`, `v2`, etc. "
   ]
  },
  {
   "cell_type": "markdown",
   "id": "6192edfc-051f-4ce4-8ea2-e863963bc827",
   "metadata": {},
   "source": [
    "## Here's where things get crazy"
   ]
  },
  {
   "cell_type": "markdown",
   "id": "95a6cd42-0507-4b48-8318-9d7db664f001",
   "metadata": {},
   "source": [
    "Of course, the true art of lambdas is not just that they can define variables, but that the variables themselves can be functions! This corresponds to *function declarations* in ordinary programming languages. If this is foreign or weird, I'd suggest reading [The Structure and Interpretation of Computer Programs](https://mitpress.mit.edu/sicp/). \n",
    "\n",
    "To define lambdas as functions, we only need to specify a `bv_args` list in the `lambda` declaration. `bv_args` is the type of arguments that are passed to each use of a bound variable each time it is used. But... then we have a problem of needing to bind that variable to something. If `yi` is itself a function of an EXPR, then its argument *also* has to be a function. That requires two lambdas. Here's how it works:"
   ]
  },
  {
   "cell_type": "code",
   "execution_count": null,
   "id": "692c7266-279a-4646-9e18-b6ca57009edb",
   "metadata": {},
   "outputs": [],
   "source": [
    "from LOTlib3.Grammar import Grammar\n",
    "grammar = Grammar(start='EXPR')\n",
    "\n",
    "grammar.add_rule('EXPR', '(%s + %s)', ['EXPR', 'EXPR'], 1.0)\n",
    "grammar.add_rule('EXPR', '(%s * %s)', ['EXPR', 'EXPR'], 1.0)\n",
    "grammar.add_rule('EXPR', '(float(%s) / float(%s))', ['EXPR', 'EXPR'], 1.0)\n",
    "grammar.add_rule('EXPR', '(-%s)', ['EXPR'], 1.0)\n",
    "\n",
    "grammar.add_rule('EXPR', 'x', None, 1.0)  \n",
    "\n",
    "for n in xrange(1,10):\n",
    "    grammar.add_rule('EXPR', str(n), None, 5.0/n**2)\n",
    "\n",
    "# Allow ourselves to define functions. This means creating a bound \n",
    "# variable that can be bound to a FUNC. Where, the bound variable\n",
    "# is defined (here, FUNCDEF) we are allowed to use it. \n",
    "grammar.add_rule('EXPR', '((%s)(%s))',  ['FUNCDEF', 'FUNC'], 1.0)\n",
    "\n",
    "# The function definition has a bound variable who can be applied as\n",
    "# a function, whose arguments are an EXPR (set by the type of the FUNC above)\n",
    "# and whose name is F, and who when applied to an EXPR returns an EXPR\n",
    "# We'll also set bv_p here. Feel free to play with it and see what that does. \n",
    "grammar.add_rule('FUNCDEF', 'lambda', ['EXPR'], 1.0, bv_type='EXPR', bv_args=['EXPR'], bv_prefix='F')\n",
    "\n",
    "# and we have to say what a FUNC is. It's a function (lambda) from an EXPR to an EXPR\n",
    "grammar.add_rule('FUNC', 'lambda', ['EXPR'], 1.0, bv_type='EXPR')"
   ]
  },
  {
   "cell_type": "markdown",
   "id": "b1b97d9f-33cf-41e8-bd91-d444f4f3d379",
   "metadata": {},
   "source": [
    "Let's look at some hypotheses. Here, we'll show only those that use `F1` as a function (thus contain the string `\"F1(\"`):"
   ]
  },
  {
   "cell_type": "code",
   "execution_count": null,
   "id": "917ba39e-300d-43be-8329-8f6edb09a281",
   "metadata": {},
   "outputs": [],
   "source": [
    "import re \n",
    "\n",
    "for _ in xrange(50000):\n",
    "    t = grammar.generate()\n",
    "    if re.search(r\"F1\\(\", str(t)):\n",
    "        print t"
   ]
  },
  {
   "attachments": {},
   "cell_type": "markdown",
   "id": "66194e91-7f93-4ca7-9efd-a75c5bdb1735",
   "metadata": {},
   "source": [
    "For instance, this code might generate the following expression, which is obscure, though acceptable, python:\n",
    "\n",
    "```\n",
    "((lambda F1: F1(x+1))(lambda y1: y1+3))\n",
    "```\n",
    "\n",
    "Here, we have define a variable `F1` that really represents the *function* `lambda y1: y1+3`. The value that is returned is the value of applying `F1` to the overall hypothesis value `x` plus `1`. Note that LOTlib3 here has correctly used `F1` in a context where an EXPR is needed (due to `bv_type='EXPR'` on `FUNCDEF`). It knows that the argument to `F1` is also an EXPR, which here happens to be expanded to `x+1`. It also knows that `F1` is itself a function, and it binds this function (through the outermost apply) to `lambda y1: y1+3`. LOTlib3 knows that `F1` can only be used in the left hand side of this apply, and `y1` can only be used on the right. This holds even if multiple bound variables of different types are generated. \n",
    "\n",
    "This ability to define functions provides some of the most interesting learning dynamics for the model. A nice example is provided in LOTlib3.Examples.Magnetism, where learners take data and learn predicates classifying observable objects into two kinds, as well as laws stated over those kinds."
   ]
  },
  {
   "cell_type": "markdown",
   "id": "61175aaa-9473-4e83-bcb9-976570108bfa",
   "metadata": {},
   "source": [
    "## Recursive functions"
   ]
  },
  {
   "cell_type": "markdown",
   "id": "86fdb99b-bd13-429b-9ea5-106b8af25ef5",
   "metadata": {},
   "source": [
    "Well that's wonderful, but what if we want a function to refer to *itself*? This is common in programming languages in the form of [recursive](https://en.wikipedia.org/wiki/Recursion_%28computer_science%29) definitions. This takes a little finagling in the LOTlib3 internals (through ambitious use of the [Y-combinator](https://en.wikipedia.org/wiki/Fixed-point_combinator#Fixed_point_combinators_in_lambda_calculus)) which you don't have to worry about. There is a class that implements recursion straightforwardly: `RecursiveLOTHypothesis`. Internally, hypothesis of this type always have an argument (defaultly called `recurse_`) which binds to themselves! \n",
    "\n",
    "Here is a simple example:"
   ]
  },
  {
   "cell_type": "code",
   "execution_count": null,
   "id": "574c0e4b-37e3-4e9d-8080-bb3206bcb3a1",
   "metadata": {},
   "outputs": [],
   "source": [
    "######################################## \n",
    "## Define the grammar\n",
    "######################################## \n",
    "\n",
    "from LOTlib3.Grammar import Grammar\n",
    "grammar = Grammar(start='EXPR')\n",
    "\n",
    "# for simplicity, two operations\n",
    "grammar.add_rule('EXPR', '(%s + %s)', ['EXPR', 'EXPR'], 1.0)\n",
    "grammar.add_rule('EXPR', '(%s * %s)', ['EXPR', 'EXPR'], 1.0)\n",
    "\n",
    "# we'll just allow two terminals for simplicity\n",
    "# We have to upweight them a little to keep things well-defined\n",
    "grammar.add_rule('EXPR', 'x', None, 10.0) \n",
    "grammar.add_rule('EXPR', '1', None, 10.0) \n",
    "\n",
    "# If we're going to allow recursion, we better have a base case\n",
    "# But this probably requires an \"if\" statement. LOTlib3's \"if_\" \n",
    "# primitive will do the trick\n",
    "grammar.add_rule('EXPR', '(%s if %s else %s)', ['EXPR', 'BOOL', 'EXPR'], 1.0)\n",
    "\n",
    "# and we need to define a boolean. For now, let's just check\n",
    "# if x=1\n",
    "grammar.add_rule('BOOL', 'x==1', None, 1.0)\n",
    "\n",
    "# and the recursive operation -- I am myself a function\n",
    "# from EXPR to EXPR, so recurse should be as well\n",
    "grammar.add_rule('EXPR', 'recurse_', ['x-1'], 1.0) \n",
    "\n",
    "######################################## \n",
    "## Define the hypothesis\n",
    "######################################## \n",
    "from LOTlib3.Hypotheses.RecursiveLOTHypothesis import RecursiveLOTHypothesis\n",
    "\n",
    "class MyRecursiveHypothesis(RecursiveLOTHypothesis):\n",
    "    def __init__(self, **kwargs):\n",
    "        RecursiveLOTHypothesis.__init__(self, grammar=grammar, display=\"lambda recurse_, x: %s\", **kwargs)\n",
    "\n",
    "######################################## \n",
    "## Look at some examples\n",
    "######################################## \n",
    "import re\n",
    "from LOTlib3.Eval import RecursionDepthException\n",
    "\n",
    "for _ in range(50000):\n",
    "    h = MyRecursiveHypothesis()\n",
    "\n",
    "    # Now when we call h, something funny may happen: we may get\n",
    "    # an exception for recursing too deep. If this happens for some \n",
    "    # reasonable xes, let's not print the hypothesis -- it must not \n",
    "    # be well-defined\n",
    "    try:\n",
    "        # try our function out\n",
    "        values = map(h, range(1,10))\n",
    "    except RecursionDepthException:\n",
    "        continue\n",
    "\n",
    "    # if we succeed, let's only show hypotheses that use recurse:\n",
    "    if re.search(r\"recurse_\\(\", str(h)):\n",
    "        print(h) \n",
    "        print(values)"
   ]
  },
  {
   "cell_type": "markdown",
   "id": "681dcc75-5e4a-4f52-b188-ba4a0827c007",
   "metadata": {},
   "source": [
    "Note that there is nothing special about the `recurse_` name: it can be changed by setting `recurse=...` in `RecursiveLOTHypothesis.__init__`, but then the name should also be changed in the grammar. In this tutorial, we have only looked at defining the grammar, not in inferring recursive hypotheses. LOTlib3.Examples.Number is an example of learning a genuinely recursive function from data. "
   ]
  }
 ],
 "metadata": {
  "kernelspec": {
   "display_name": "LoT",
   "language": "python",
   "name": "lot"
  },
  "language_info": {
   "codemirror_mode": {
    "name": "ipython",
    "version": 3
   },
   "file_extension": ".py",
   "mimetype": "text/x-python",
   "name": "python",
   "nbconvert_exporter": "python",
   "pygments_lexer": "ipython3",
   "version": "3.11.3"
  }
 },
 "nbformat": 4,
 "nbformat_minor": 5
}
