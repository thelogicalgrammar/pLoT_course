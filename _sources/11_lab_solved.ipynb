{
 "cells": [
  {
   "cell_type": "markdown",
   "id": "08e45eee-6888-4947-be6c-b248ec58598e",
   "metadata": {
    "tags": []
   },
   "source": [
    "# Encoding binary sequences - solved lab"
   ]
  },
  {
   "cell_type": "markdown",
   "id": "4cebcd0f-8ee3-41cf-941f-717b74ea13b6",
   "metadata": {},
   "source": [
    "The lab this week consists of implementing all together the grammar from this week's reading and fitting some fake data to it. This notebook is a report of what we wrote together!"
   ]
  },
  {
   "cell_type": "code",
   "execution_count": 1,
   "id": "7cffd3dc-44e8-41cc-819b-3f0bc6f28f08",
   "metadata": {},
   "outputs": [
    {
     "name": "stdout",
     "output_type": "stream",
     "text": [
      "Not in colab!\n"
     ]
    }
   ],
   "source": [
    "try:\n",
    "    # in colab\n",
    "    import google.colab\n",
    "    print('In colab, downloading LOTlib3')\n",
    "    !git clone https://github.com/thelogicalgrammar/LOTlib3\n",
    "except:\n",
    "    # not in colab\n",
    "    print('Not in colab!')"
   ]
  },
  {
   "cell_type": "markdown",
   "id": "9284ac03-139b-4d49-a216-2deaf4998ddc",
   "metadata": {},
   "source": [
    "## Imports"
   ]
  },
  {
   "cell_type": "markdown",
   "id": "ccf769d5-fa8e-4682-8e22-28ad71b3b514",
   "metadata": {},
   "source": [
    "First we need to import a bunch of stuff:"
   ]
  },
  {
   "cell_type": "code",
   "execution_count": 1,
   "id": "ac1342f3-ea28-457b-a0b8-33f065dfd928",
   "metadata": {},
   "outputs": [],
   "source": [
    "from LOTlib3.Grammar import Grammar\n",
    "from LOTlib3.DataAndObjects import FunctionData\n",
    "from LOTlib3.Hypotheses.LOTHypothesis import LOTHypothesis\n",
    "from LOTlib3.Hypotheses.Likelihoods.BinaryLikelihood import BinaryLikelihood\n",
    "from LOTlib3.Eval import primitive\n",
    "from LOTlib3.Miscellaneous import qq\n",
    "from LOTlib3.TopN import TopN\n",
    "from LOTlib3.Samplers.MetropolisHastings import MetropolisHastingsSampler"
   ]
  },
  {
   "cell_type": "markdown",
   "id": "dd28ff57-8f4d-4193-b770-b897d5cfe0e8",
   "metadata": {},
   "source": [
    "## Define the grammar"
   ]
  },
  {
   "cell_type": "code",
   "execution_count": 2,
   "id": "1e7ff214-f711-4e79-9f67-6684af43a1d6",
   "metadata": {},
   "outputs": [
    {
     "data": {
      "text/plain": [
       "S -> concat_['S', 'S']\tw/ p=1.0"
      ]
     },
     "execution_count": 2,
     "metadata": {},
     "output_type": "execute_result"
    }
   ],
   "source": [
    "grammar = Grammar(start='S')\n",
    "\n",
    "# repeat the expression\n",
    "grammar.add_rule('S', 'rep_', ['S', 'N', 'BOOL'], 1)\n",
    "\n",
    "# basic symbols\n",
    "grammar.add_rule('S', '\"0\"', None, 1)\n",
    "grammar.add_rule('S', '\"1\"', None, 1)\n",
    "\n",
    "# N\n",
    "grammar.add_rule('N', '1', None, 1)\n",
    "grammar.add_rule('N', '%s+1', ['N'], 1)\n",
    "\n",
    "# BOOL\n",
    "grammar.add_rule('BOOL', '\"+0\"', None, 1)\n",
    "grammar.add_rule('BOOL', '\"b\"', None, 1)\n",
    "\n",
    "# concatenation\n",
    "grammar.add_rule('S', 'concat_', ['S', 'S'], 1)"
   ]
  },
  {
   "cell_type": "code",
   "execution_count": 8,
   "id": "72528957-73be-4b7f-9952-8b15777d8e8e",
   "metadata": {},
   "outputs": [
    {
     "name": "stdout",
     "output_type": "stream",
     "text": [
      " S rep_ \t None\n",
      "  .   S concat_ \t None\n",
      "  .    .   S rep_ \t None\n",
      "  .    .    .   S concat_ \t None\n",
      "  .    .    .    .   S \"1\" \t None\n",
      "  .    .    .    .   S \"1\" \t None\n",
      "  .    .    .   N %s+1 \t None\n",
      "  .    .    .    .   N 1 \t None\n",
      "  .    .    .   BOOL \"b\" \t None\n",
      "  .    .   S rep_ \t None\n",
      "  .    .    .   S concat_ \t None\n",
      "  .    .    .    .   S \"0\" \t None\n",
      "  .    .    .    .   S rep_ \t None\n",
      "  .    .    .    .    .   S \"1\" \t None\n",
      "  .    .    .    .    .   N 1 \t None\n",
      "  .    .    .    .    .   BOOL \"+0\" \t None\n",
      "  .    .    .   N %s+1 \t None\n",
      "  .    .    .    .   N 1 \t None\n",
      "  .    .    .   BOOL \"+0\" \t None\n",
      "  .   N 1 \t None\n",
      "  .   BOOL \"+0\" \t None\n"
     ]
    }
   ],
   "source": [
    "formula = grammar.generate()\n",
    "formula.fullprint()"
   ]
  },
  {
   "cell_type": "markdown",
   "id": "15a203a7-5c2a-4c1e-a741-79399bd634d2",
   "metadata": {},
   "source": [
    "## Define the semantics"
   ]
  },
  {
   "cell_type": "code",
   "execution_count": 12,
   "id": "901af5a8-a5c3-45b1-9a36-cbd10dd4f429",
   "metadata": {},
   "outputs": [],
   "source": [
    "def swap(c):\n",
    "    assert c in '01', 'UNknown character!'\n",
    "    return '0' if c=='1' else '1'\n",
    "\n",
    "@primitive\n",
    "def rep_(S, N, BOOL):\n",
    "    if BOOL == '+0':\n",
    "        return S * N\n",
    "    else:\n",
    "        swapped = ''\n",
    "        for i in range(N):\n",
    "            sw = i%2\n",
    "            if sw:\n",
    "                swapped += ''.join([\n",
    "                    swap(c)\n",
    "                    for c in S\n",
    "                ])\n",
    "            else:\n",
    "                swapped += S\n",
    "        return swapped\n",
    "\n",
    "@primitive\n",
    "def concat_(S1, S2):\n",
    "    return S1 + S2"
   ]
  },
  {
   "cell_type": "code",
   "execution_count": 13,
   "id": "25beca6f-8783-4f99-ac23-4c5ac90e2b21",
   "metadata": {},
   "outputs": [
    {
     "data": {
      "text/plain": [
       "'11000101'"
      ]
     },
     "execution_count": 13,
     "metadata": {},
     "output_type": "execute_result"
    }
   ],
   "source": [
    "eval(str(formula))"
   ]
  },
  {
   "cell_type": "markdown",
   "id": "7fe7525d-3e6d-4419-b07b-67a9451170f6",
   "metadata": {},
   "source": [
    "## Hypothesis and inference"
   ]
  },
  {
   "cell_type": "code",
   "execution_count": 109,
   "id": "41257192-bf21-41c5-aa9c-3e08c005530b",
   "metadata": {},
   "outputs": [],
   "source": [
    "class CoolHypothesis(BinaryLikelihood, LOTHypothesis):\n",
    "    \n",
    "    def __init__(self, **kwargs):\n",
    "        LOTHypothesis.__init__(\n",
    "            self, \n",
    "            grammar=grammar, \n",
    "            display='lambda: %s',\n",
    "            **kwargs\n",
    "        )"
   ]
  },
  {
   "cell_type": "code",
   "execution_count": 110,
   "id": "71986563-49c8-4471-8417-f0083ac9e6bc",
   "metadata": {},
   "outputs": [
    {
     "data": {
      "text/plain": [
       "lambda: concat_(\"1\", \"0\")"
      ]
     },
     "execution_count": 110,
     "metadata": {},
     "output_type": "execute_result"
    }
   ],
   "source": [
    "h = CoolHypothesis()\n",
    "h"
   ]
  },
  {
   "cell_type": "code",
   "execution_count": 114,
   "id": "6f0c6ee4-f087-4d56-997f-ca5a299ca0b5",
   "metadata": {},
   "outputs": [],
   "source": [
    "data = [\n",
    "    FunctionData(input=[], output='0011', alpha=0.95)\n",
    "]*10\n",
    "\n",
    "topn = TopN(6)"
   ]
  },
  {
   "cell_type": "code",
   "execution_count": 115,
   "id": "c2b9eb09-8f7a-4543-8c30-7da90458a01f",
   "metadata": {},
   "outputs": [],
   "source": [
    "for h_new in MetropolisHastingsSampler(h, data, steps=100000):\n",
    "    topn.add(h_new)"
   ]
  },
  {
   "cell_type": "code",
   "execution_count": 116,
   "id": "8c1b3107-a098-470c-b077-f1a3459c90f2",
   "metadata": {},
   "outputs": [
    {
     "name": "stdout",
     "output_type": "stream",
     "text": [
      "-9.957238607682132 -9.704060527839234 -0.253178079842899 \"lambda: concat_(concat_(\"0\", concat_(\"0\", \"1\")), \"1\")\"\n",
      "-9.957238607682132 -9.704060527839234 -0.253178079842899 \"lambda: concat_(concat_(\"0\", \"0\"), concat_(\"1\", \"1\"))\"\n",
      "-9.957238607682132 -9.704060527839234 -0.253178079842899 \"lambda: concat_(\"0\", concat_(\"0\", concat_(\"1\", \"1\")))\"\n",
      "-9.957238607682132 -9.704060527839234 -0.253178079842899 \"lambda: concat_(\"0\", concat_(concat_(\"0\", \"1\"), \"1\"))\"\n",
      "-8.570944246562242 -8.317766166719343 -0.253178079842899 \"lambda: rep_(rep_(\"0\", 1+1, \"+0\"), 1+1, \"b\")\"\n",
      "-7.877797066002297 -7.6246189861593985 -0.253178079842899 \"lambda: rep_(concat_(\"0\", \"0\"), 1+1, \"b\")\"\n"
     ]
    }
   ],
   "source": [
    "for h in topn:\n",
    "    print(h.posterior_score, h.prior, h.likelihood, qq(h))"
   ]
  }
 ],
 "metadata": {
  "kernelspec": {
   "display_name": "LoT",
   "language": "python",
   "name": "lot"
  },
  "language_info": {
   "codemirror_mode": {
    "name": "ipython",
    "version": 3
   },
   "file_extension": ".py",
   "mimetype": "text/x-python",
   "name": "python",
   "nbconvert_exporter": "python",
   "pygments_lexer": "ipython3",
   "version": "3.11.3"
  }
 },
 "nbformat": 4,
 "nbformat_minor": 5
}
