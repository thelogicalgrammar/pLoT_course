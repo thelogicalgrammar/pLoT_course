{
 "cells": [
  {
   "cell_type": "code",
   "execution_count": 192,
   "id": "fc991326-bf4d-496f-a8f3-9bf61d3d365b",
   "metadata": {},
   "outputs": [
    {
     "name": "stdout",
     "output_type": "stream",
     "text": [
      "Collecting ColabTurtlePlus\n",
      "  Downloading ColabTurtlePlus-2.0.1-py3-none-any.whl (31 kB)\n",
      "Installing collected packages: ColabTurtlePlus\n",
      "Successfully installed ColabTurtlePlus-2.0.1\n"
     ]
    }
   ],
   "source": [
    "!pip3 install ColabTurtlePlus"
   ]
  },
  {
   "cell_type": "code",
   "execution_count": 1,
   "id": "10754b6a-f266-4b55-a0e8-dcebfbf52a77",
   "metadata": {},
   "outputs": [],
   "source": [
    "from numpy.random import choice\n",
    "import numpy as np\n",
    "import matplotlib.pyplot as plt\n",
    "\n",
    "import re\n",
    "from ColabTurtlePlus import Turtle as t"
   ]
  },
  {
   "cell_type": "markdown",
   "id": "2defd266-cc5b-48c6-aeca-9f6c1466885f",
   "metadata": {},
   "source": [
    "# Formal semantics"
   ]
  },
  {
   "cell_type": "code",
   "execution_count": 3,
   "id": "fed1911c-e437-4b7b-9f75-5b41c207febd",
   "metadata": {
    "tags": []
   },
   "outputs": [],
   "source": [
    "def normalize(arr):\n",
    "    return arr / np.sum(arr)\n",
    "\n",
    "\n",
    "def apply_rule(match, grammar):\n",
    "    probs, subs = zip(*grammar[match.group(0)])\n",
    "    sub = choice(subs, p=normalize(probs))\n",
    "    return sub"
   ]
  },
  {
   "cell_type": "markdown",
   "id": "4aa24d15-0188-4333-8e2f-af9713d8ab79",
   "metadata": {},
   "source": [
    "## Basic arithmetic as a CFG"
   ]
  },
  {
   "cell_type": "markdown",
   "id": "def98239-7fad-4a3b-a65e-2e742400e6e0",
   "metadata": {},
   "source": [
    "We will use $\\lambda$ expressions to encode the meaning of our operators. Thankfully this is made quite easy by Python's lambda syntax, which we have seen a couple of weeks ago."
   ]
  },
  {
   "cell_type": "code",
   "execution_count": 30,
   "id": "606cb2d0-e9f8-472d-935d-84b27bacbac9",
   "metadata": {},
   "outputs": [],
   "source": [
    "# Let's define some meanings!\n",
    "plusOne = lambda x: x+1\n",
    "one = 1"
   ]
  },
  {
   "cell_type": "code",
   "execution_count": 31,
   "id": "42033f93-e4fe-4012-b3b6-b7d5f3fcf824",
   "metadata": {},
   "outputs": [
    {
     "data": {
      "text/plain": [
       "3"
      ]
     },
     "execution_count": 31,
     "metadata": {},
     "output_type": "execute_result"
    }
   ],
   "source": [
    "plusOne(plusOne(one))"
   ]
  },
  {
   "cell_type": "markdown",
   "id": "20803112-5444-4e83-8d77-1fda0ecfcba6",
   "metadata": {},
   "source": [
    "Python's `eval` function plays the role of the interpretation function which we discussed in class. "
   ]
  },
  {
   "cell_type": "code",
   "execution_count": 32,
   "id": "c4db593f-1303-4147-bdd3-850f49e2fcb5",
   "metadata": {},
   "outputs": [
    {
     "data": {
      "text/plain": [
       "3"
      ]
     },
     "execution_count": 32,
     "metadata": {},
     "output_type": "execute_result"
    }
   ],
   "source": [
    "eval('plusOne(plusOne(one))')"
   ]
  },
  {
   "cell_type": "code",
   "execution_count": 310,
   "id": "62265f1d-c1f5-4eeb-8856-43574cca3d1b",
   "metadata": {},
   "outputs": [],
   "source": [
    "CFG_arithmetic = {\n",
    "    '<S>': ['plusOne(<S>)', 'one']\n",
    "}"
   ]
  },
  {
   "cell_type": "code",
   "execution_count": null,
   "id": "8854d26b-aea5-479c-b28d-7c9ba03a1bc5",
   "metadata": {},
   "outputs": [],
   "source": [
    "tuple"
   ]
  },
  {
   "cell_type": "code",
   "execution_count": 309,
   "id": "db75057b-c797-48fe-aa94-8340647cafdc",
   "metadata": {
    "tags": []
   },
   "outputs": [],
   "source": [
    "def complete(sentence, grammar):\n",
    "    \n",
    "    while '<' in sentence:\n",
    "        sentence = re.sub(\n",
    "            '<(.*?)>', \n",
    "            lambda match: apply_rule(match, grammar), \n",
    "            sentence\n",
    "        )\n",
    "    \n",
    "    return sentence"
   ]
  },
  {
   "cell_type": "code",
   "execution_count": 62,
   "id": "601d4e4b-05ba-4254-8844-f07bae79642c",
   "metadata": {},
   "outputs": [
    {
     "data": {
      "text/plain": [
       "['plusOne(plusOne(plusOne(plusOne(plusOne(plusOne(one))))))']"
      ]
     },
     "execution_count": 62,
     "metadata": {},
     "output_type": "execute_result"
    }
   ],
   "source": [
    "generate_random_sentences(CFG_arithmetic, 1)"
   ]
  },
  {
   "cell_type": "code",
   "execution_count": 63,
   "id": "8c5ff5d4-a613-4280-895b-f227115bb071",
   "metadata": {},
   "outputs": [],
   "source": [
    "# plot distribution of numbers obtained with this grammar\n",
    "numbers = [eval(i) for i in generate_random_sentences(CFG_arithmetic, 10000)]"
   ]
  },
  {
   "cell_type": "markdown",
   "id": "d72aa21b-dd2a-4b8a-893a-26290acd968c",
   "metadata": {},
   "source": [
    "Note that the frequency of $n$ is $2^{-n}$. Can you tell why?"
   ]
  },
  {
   "cell_type": "code",
   "execution_count": 64,
   "id": "90eef33f-76f2-4e13-9c80-a56a8875a62b",
   "metadata": {},
   "outputs": [
    {
     "data": {
      "image/png": "[encoded data removed]",
      "text/plain": [
       "<Figure size 432x288 with 1 Axes>"
      ]
     },
     "metadata": {
      "needs_background": "light"
     },
     "output_type": "display_data"
    }
   ],
   "source": [
    "plt.hist(numbers, density=True, bins=np.arange(1,13))\n",
    "plt.xticks(np.arange(1, 13))\n",
    "plt.show()"
   ]
  },
  {
   "cell_type": "markdown",
   "id": "7ad5f7ce-7e9e-4aa2-9434-86b2a7bc7b1a",
   "metadata": {},
   "source": [
    "## A grammar for shapes"
   ]
  },
  {
   "cell_type": "markdown",
   "id": "7576f1a6-429f-49e1-8fc9-f06fcfdaf512",
   "metadata": {},
   "source": [
    "Instead of defining meanings ourselves, we can rely on already existing libraries, even if they were not meant to be used with a CFG. For instance, consider Python's 'turtle' library."
   ]
  },
  {
   "cell_type": "code",
   "execution_count": 266,
   "id": "5bd02149-0386-44b6-b1d0-bde1016a5e0f",
   "metadata": {},
   "outputs": [],
   "source": [
    "grammar = {\n",
    "    '<drawing>': [\n",
    "        (8, '<movement><drawing>'),\n",
    "        (1, '\\tpass'),\n",
    "        # (1, '\\tt.home()')\n",
    "    ],\n",
    "    '<movement>': [\n",
    "        (1, '\\tt.forward(<distance>) \\n'),\n",
    "        (1, '\\tt.backward(<distance>) \\n'),\n",
    "        (1, '\\tt.right(<angle>) \\n'),\n",
    "        (1, '\\tt.left(<angle>) \\n'),\n",
    "        # (0.5, '\\tt.face(<angle>) \\n'),\n",
    "        (1, '\\tt.circle(<distance>,<angle>) \\n')\n",
    "    ],\n",
    "    '<distance>': [\n",
    "        (1, '10'),\n",
    "        (1, '20'),\n",
    "        (1, '30'),\n",
    "    ],\n",
    "    '<angle>': [\n",
    "        (1, '30'),\n",
    "        (1, '60'),\n",
    "        (1, '90'),\n",
    "        (1, '170')\n",
    "    ]\n",
    "}"
   ]
  },
  {
   "cell_type": "code",
   "execution_count": 307,
   "id": "aba10dfc-2db3-44a3-86a3-8acd42905f95",
   "metadata": {},
   "outputs": [
    {
     "data": {
      "text/html": [
       "\n",
       "      <svg width=\"800\" height=\"600\">  \n",
       "        <rect width=\"100%\" height=\"100%\" style=\"fill:white;stroke:;stroke-width:1\"/>\n",
       "        \n",
       "        \n",
       "        <path d=\"M 400.0 300.0 A 10 10 0 0 0 410.0 290.0\" stroke-linecap=\"round\" \n",
       "            fill=\"transparent\" fill-opacity=\"0\" style=\"stroke:black;stroke-width:1\"/><line x1=\"410.0\" y1=\"290.0\" x2=\"410.0\" y2=\"280.0\" stroke-linecap=\"round\" style=\"stroke:black;stroke-width:1\" /><line x1=\"410.0\" y1=\"280.0\" x2=\"380.0\" y2=\"280.0\" stroke-linecap=\"round\" style=\"stroke:black;stroke-width:1\" /><line x1=\"380.0\" y1=\"280.0\" x2=\"380.0\" y2=\"260.0\" stroke-linecap=\"round\" style=\"stroke:black;stroke-width:1\" /><line x1=\"380.0\" y1=\"260.0\" x2=\"380.0\" y2=\"290.0\" stroke-linecap=\"round\" style=\"stroke:black;stroke-width:1\" /><line x1=\"380.0\" y1=\"290.0\" x2=\"365.0\" y2=\"315.981\" stroke-linecap=\"round\" style=\"stroke:black;stroke-width:1\" /><path d=\"M 365.0 315.981 A 10 10 0 0 0 368.66 329.641\" stroke-linecap=\"round\" \n",
       "            fill=\"transparent\" fill-opacity=\"0\" style=\"stroke:black;stroke-width:1\"/><line x1=\"368.66\" y1=\"329.641\" x2=\"377.32\" y2=\"334.641\" stroke-linecap=\"round\" style=\"stroke:black;stroke-width:1\" /><line x1=\"377.32\" y1=\"334.641\" x2=\"392.32\" y2=\"308.66\" stroke-linecap=\"round\" style=\"stroke:black;stroke-width:1\" /><line x1=\"392.32\" y1=\"308.66\" x2=\"409.641\" y2=\"318.66\" stroke-linecap=\"round\" style=\"stroke:black;stroke-width:1\" /><line x1=\"409.641\" y1=\"318.66\" x2=\"383.66\" y2=\"303.66\" stroke-linecap=\"round\" style=\"stroke:black;stroke-width:1\" /><line x1=\"383.66\" y1=\"303.66\" x2=\"368.66\" y2=\"277.679\" stroke-linecap=\"round\" style=\"stroke:black;stroke-width:1\" /><path d=\"M 368.66 277.679 A 10 10 0 0 0 355.0 274.019\" stroke-linecap=\"round\" \n",
       "            fill=\"transparent\" fill-opacity=\"0\" style=\"stroke:black;stroke-width:1\"/><line x1=\"355.0\" y1=\"274.019\" x2=\"346.34\" y2=\"279.019\" stroke-linecap=\"round\" style=\"stroke:black;stroke-width:1\" /><line x1=\"346.34\" y1=\"279.019\" x2=\"361.34\" y2=\"305.0\" stroke-linecap=\"round\" style=\"stroke:black;stroke-width:1\" /><line x1=\"361.34\" y1=\"305.0\" x2=\"344.019\" y2=\"315.0\" stroke-linecap=\"round\" style=\"stroke:black;stroke-width:1\" /><line x1=\"344.019\" y1=\"315.0\" x2=\"370.0\" y2=\"300.0\" stroke-linecap=\"round\" style=\"stroke:black;stroke-width:1\" /><line x1=\"370.0\" y1=\"300.0\" x2=\"400.0\" y2=\"300.0\" stroke-linecap=\"round\" style=\"stroke:black;stroke-width:1\" /><path d=\"M 400.0 300.0 A 10 10 0 0 0 410.0 290.0\" stroke-linecap=\"round\" \n",
       "            fill=\"transparent\" fill-opacity=\"0\" style=\"stroke:black;stroke-width:1\"/><line x1=\"410.0\" y1=\"290.0\" x2=\"410.0\" y2=\"280.0\" stroke-linecap=\"round\" style=\"stroke:black;stroke-width:1\" /><line x1=\"410.0\" y1=\"280.0\" x2=\"380.0\" y2=\"280.0\" stroke-linecap=\"round\" style=\"stroke:black;stroke-width:1\" /><line x1=\"380.0\" y1=\"280.0\" x2=\"380.0\" y2=\"260.0\" stroke-linecap=\"round\" style=\"stroke:black;stroke-width:1\" /><line x1=\"380.0\" y1=\"260.0\" x2=\"380.0\" y2=\"290.0\" stroke-linecap=\"round\" style=\"stroke:black;stroke-width:1\" /><line x1=\"380.0\" y1=\"290.0\" x2=\"365.0\" y2=\"315.981\" stroke-linecap=\"round\" style=\"stroke:black;stroke-width:1\" /><path d=\"M 365.0 315.981 A 10 10 0 0 0 368.66 329.641\" stroke-linecap=\"round\" \n",
       "            fill=\"transparent\" fill-opacity=\"0\" style=\"stroke:black;stroke-width:1\"/><line x1=\"368.66\" y1=\"329.641\" x2=\"377.32\" y2=\"334.641\" stroke-linecap=\"round\" style=\"stroke:black;stroke-width:1\" /><line x1=\"377.32\" y1=\"334.641\" x2=\"392.32\" y2=\"308.66\" stroke-linecap=\"round\" style=\"stroke:black;stroke-width:1\" /><line x1=\"392.32\" y1=\"308.66\" x2=\"409.641\" y2=\"318.66\" stroke-linecap=\"round\" style=\"stroke:black;stroke-width:1\" /><line x1=\"409.641\" y1=\"318.66\" x2=\"383.66\" y2=\"303.66\" stroke-linecap=\"round\" style=\"stroke:black;stroke-width:1\" /><line x1=\"383.66\" y1=\"303.66\" x2=\"368.66\" y2=\"277.679\" stroke-linecap=\"round\" style=\"stroke:black;stroke-width:1\" /><path d=\"M 368.66 277.679 A 10 10 0 0 0 355.0 274.019\" stroke-linecap=\"round\" \n",
       "            fill=\"transparent\" fill-opacity=\"0\" style=\"stroke:black;stroke-width:1\"/><line x1=\"355.0\" y1=\"274.019\" x2=\"346.34\" y2=\"279.019\" stroke-linecap=\"round\" style=\"stroke:black;stroke-width:1\" /><line x1=\"346.34\" y1=\"279.019\" x2=\"361.34\" y2=\"305.0\" stroke-linecap=\"round\" style=\"stroke:black;stroke-width:1\" /><line x1=\"361.34\" y1=\"305.0\" x2=\"344.019\" y2=\"315.0\" stroke-linecap=\"round\" style=\"stroke:black;stroke-width:1\" /><line x1=\"344.019\" y1=\"315.0\" x2=\"370.0\" y2=\"300.0\" stroke-linecap=\"round\" style=\"stroke:black;stroke-width:1\" /><line x1=\"370.0\" y1=\"300.0\" x2=\"400.0\" y2=\"300.0\" stroke-linecap=\"round\" style=\"stroke:black;stroke-width:1\" /><path d=\"M 400.0 300.0 A 10 10 0 0 0 410.0 290.0\" stroke-linecap=\"round\" \n",
       "            fill=\"transparent\" fill-opacity=\"0\" style=\"stroke:black;stroke-width:1\"/><line x1=\"410.0\" y1=\"290.0\" x2=\"410.0\" y2=\"280.0\" stroke-linecap=\"round\" style=\"stroke:black;stroke-width:1\" /><line x1=\"410.0\" y1=\"280.0\" x2=\"380.0\" y2=\"280.0\" stroke-linecap=\"round\" style=\"stroke:black;stroke-width:1\" /><line x1=\"380.0\" y1=\"280.0\" x2=\"380.0\" y2=\"260.0\" stroke-linecap=\"round\" style=\"stroke:black;stroke-width:1\" /><line x1=\"380.0\" y1=\"260.0\" x2=\"380.0\" y2=\"290.0\" stroke-linecap=\"round\" style=\"stroke:black;stroke-width:1\" /><line x1=\"380.0\" y1=\"290.0\" x2=\"365.0\" y2=\"315.981\" stroke-linecap=\"round\" style=\"stroke:black;stroke-width:1\" /><path d=\"M 365.0 315.981 A 10 10 0 0 0 368.66 329.641\" stroke-linecap=\"round\" \n",
       "            fill=\"transparent\" fill-opacity=\"0\" style=\"stroke:black;stroke-width:1\"/><line x1=\"368.66\" y1=\"329.641\" x2=\"377.32\" y2=\"334.641\" stroke-linecap=\"round\" style=\"stroke:black;stroke-width:1\" /><line x1=\"377.32\" y1=\"334.641\" x2=\"392.32\" y2=\"308.66\" stroke-linecap=\"round\" style=\"stroke:black;stroke-width:1\" /><line x1=\"392.32\" y1=\"308.66\" x2=\"409.641\" y2=\"318.66\" stroke-linecap=\"round\" style=\"stroke:black;stroke-width:1\" /><line x1=\"409.641\" y1=\"318.66\" x2=\"383.66\" y2=\"303.66\" stroke-linecap=\"round\" style=\"stroke:black;stroke-width:1\" /><line x1=\"383.66\" y1=\"303.66\" x2=\"368.66\" y2=\"277.679\" stroke-linecap=\"round\" style=\"stroke:black;stroke-width:1\" /><path d=\"M 368.66 277.679 A 10 10 0 0 0 355.0 274.019\" stroke-linecap=\"round\" \n",
       "            fill=\"transparent\" fill-opacity=\"0\" style=\"stroke:black;stroke-width:1\"/><line x1=\"355.0\" y1=\"274.019\" x2=\"346.34\" y2=\"279.019\" stroke-linecap=\"round\" style=\"stroke:black;stroke-width:1\" /><line x1=\"346.34\" y1=\"279.019\" x2=\"361.34\" y2=\"305.0\" stroke-linecap=\"round\" style=\"stroke:black;stroke-width:1\" /><line x1=\"361.34\" y1=\"305.0\" x2=\"344.019\" y2=\"315.0\" stroke-linecap=\"round\" style=\"stroke:black;stroke-width:1\" /><line x1=\"344.019\" y1=\"315.0\" x2=\"370.0\" y2=\"300.0\" stroke-linecap=\"round\" style=\"stroke:black;stroke-width:1\" /><line x1=\"370.0\" y1=\"300.0\" x2=\"400.0\" y2=\"300.0\" stroke-linecap=\"round\" style=\"stroke:black;stroke-width:1\" /><path d=\"M 400.0 300.0 A 10 10 0 0 0 410.0 290.0\" stroke-linecap=\"round\" \n",
       "            fill=\"transparent\" fill-opacity=\"0\" style=\"stroke:black;stroke-width:1\"/><line x1=\"410.0\" y1=\"290.0\" x2=\"410.0\" y2=\"280.0\" stroke-linecap=\"round\" style=\"stroke:black;stroke-width:1\" /><line x1=\"410.0\" y1=\"280.0\" x2=\"380.0\" y2=\"280.0\" stroke-linecap=\"round\" style=\"stroke:black;stroke-width:1\" /><line x1=\"380.0\" y1=\"280.0\" x2=\"380.0\" y2=\"260.0\" stroke-linecap=\"round\" style=\"stroke:black;stroke-width:1\" /><line x1=\"380.0\" y1=\"260.0\" x2=\"380.0\" y2=\"290.0\" stroke-linecap=\"round\" style=\"stroke:black;stroke-width:1\" /><line x1=\"380.0\" y1=\"290.0\" x2=\"365.0\" y2=\"315.981\" stroke-linecap=\"round\" style=\"stroke:black;stroke-width:1\" /><path d=\"M 365.0 315.981 A 10 10 0 0 0 368.66 329.641\" stroke-linecap=\"round\" \n",
       "            fill=\"transparent\" fill-opacity=\"0\" style=\"stroke:black;stroke-width:1\"/><line x1=\"368.66\" y1=\"329.641\" x2=\"377.32\" y2=\"334.641\" stroke-linecap=\"round\" style=\"stroke:black;stroke-width:1\" /><line x1=\"377.32\" y1=\"334.641\" x2=\"392.32\" y2=\"308.66\" stroke-linecap=\"round\" style=\"stroke:black;stroke-width:1\" /><line x1=\"392.32\" y1=\"308.66\" x2=\"409.641\" y2=\"318.66\" stroke-linecap=\"round\" style=\"stroke:black;stroke-width:1\" /><line x1=\"409.641\" y1=\"318.66\" x2=\"383.66\" y2=\"303.66\" stroke-linecap=\"round\" style=\"stroke:black;stroke-width:1\" /><line x1=\"383.66\" y1=\"303.66\" x2=\"368.66\" y2=\"277.679\" stroke-linecap=\"round\" style=\"stroke:black;stroke-width:1\" /><path d=\"M 368.66 277.679 A 10 10 0 0 0 355.0 274.019\" stroke-linecap=\"round\" \n",
       "            fill=\"transparent\" fill-opacity=\"0\" style=\"stroke:black;stroke-width:1\"/><line x1=\"355.0\" y1=\"274.019\" x2=\"346.34\" y2=\"279.019\" stroke-linecap=\"round\" style=\"stroke:black;stroke-width:1\" /><line x1=\"346.34\" y1=\"279.019\" x2=\"361.34\" y2=\"305.0\" stroke-linecap=\"round\" style=\"stroke:black;stroke-width:1\" /><line x1=\"361.34\" y1=\"305.0\" x2=\"344.019\" y2=\"315.0\" stroke-linecap=\"round\" style=\"stroke:black;stroke-width:1\" /><line x1=\"344.019\" y1=\"315.0\" x2=\"370.0\" y2=\"300.0\" stroke-linecap=\"round\" style=\"stroke:black;stroke-width:1\" /><line x1=\"370.0\" y1=\"300.0\" x2=\"400.0\" y2=\"300.0\" stroke-linecap=\"round\" style=\"stroke:black;stroke-width:1\" /><path d=\"M 400.0 300.0 A 10 10 0 0 0 410.0 290.0\" stroke-linecap=\"round\" \n",
       "            fill=\"transparent\" fill-opacity=\"0\" style=\"stroke:black;stroke-width:1\"/><line x1=\"410.0\" y1=\"290.0\" x2=\"410.0\" y2=\"280.0\" stroke-linecap=\"round\" style=\"stroke:black;stroke-width:1\" /><line x1=\"410.0\" y1=\"280.0\" x2=\"380.0\" y2=\"280.0\" stroke-linecap=\"round\" style=\"stroke:black;stroke-width:1\" /><line x1=\"380.0\" y1=\"280.0\" x2=\"380.0\" y2=\"260.0\" stroke-linecap=\"round\" style=\"stroke:black;stroke-width:1\" /><line x1=\"380.0\" y1=\"260.0\" x2=\"380.0\" y2=\"290.0\" stroke-linecap=\"round\" style=\"stroke:black;stroke-width:1\" /><line x1=\"380.0\" y1=\"290.0\" x2=\"365.0\" y2=\"315.981\" stroke-linecap=\"round\" style=\"stroke:black;stroke-width:1\" /><path d=\"M 365.0 315.981 A 10 10 0 0 0 368.66 329.641\" stroke-linecap=\"round\" \n",
       "            fill=\"transparent\" fill-opacity=\"0\" style=\"stroke:black;stroke-width:1\"/><line x1=\"368.66\" y1=\"329.641\" x2=\"377.32\" y2=\"334.641\" stroke-linecap=\"round\" style=\"stroke:black;stroke-width:1\" /><line x1=\"377.32\" y1=\"334.641\" x2=\"392.32\" y2=\"308.66\" stroke-linecap=\"round\" style=\"stroke:black;stroke-width:1\" /><line x1=\"392.32\" y1=\"308.66\" x2=\"409.641\" y2=\"318.66\" stroke-linecap=\"round\" style=\"stroke:black;stroke-width:1\" /><line x1=\"409.641\" y1=\"318.66\" x2=\"383.66\" y2=\"303.66\" stroke-linecap=\"round\" style=\"stroke:black;stroke-width:1\" /><line x1=\"383.66\" y1=\"303.66\" x2=\"368.66\" y2=\"277.679\" stroke-linecap=\"round\" style=\"stroke:black;stroke-width:1\" /><path d=\"M 368.66 277.679 A 10 10 0 0 0 355.0 274.019\" stroke-linecap=\"round\" \n",
       "            fill=\"transparent\" fill-opacity=\"0\" style=\"stroke:black;stroke-width:1\"/><line x1=\"355.0\" y1=\"274.019\" x2=\"346.34\" y2=\"279.019\" stroke-linecap=\"round\" style=\"stroke:black;stroke-width:1\" /><line x1=\"346.34\" y1=\"279.019\" x2=\"361.34\" y2=\"305.0\" stroke-linecap=\"round\" style=\"stroke:black;stroke-width:1\" /><line x1=\"361.34\" y1=\"305.0\" x2=\"344.019\" y2=\"315.0\" stroke-linecap=\"round\" style=\"stroke:black;stroke-width:1\" /><line x1=\"344.019\" y1=\"315.0\" x2=\"370.0\" y2=\"300.0\" stroke-linecap=\"round\" style=\"stroke:black;stroke-width:1\" /><line x1=\"370.0\" y1=\"300.0\" x2=\"400.0\" y2=\"300.0\" stroke-linecap=\"round\" style=\"stroke:black;stroke-width:1\" /><path d=\"M 400.0 300.0 A 10 10 0 0 0 410.0 290.0\" stroke-linecap=\"round\" \n",
       "            fill=\"transparent\" fill-opacity=\"0\" style=\"stroke:black;stroke-width:1\"/><line x1=\"410.0\" y1=\"290.0\" x2=\"410.0\" y2=\"280.0\" stroke-linecap=\"round\" style=\"stroke:black;stroke-width:1\" /><line x1=\"410.0\" y1=\"280.0\" x2=\"380.0\" y2=\"280.0\" stroke-linecap=\"round\" style=\"stroke:black;stroke-width:1\" /><line x1=\"380.0\" y1=\"280.0\" x2=\"380.0\" y2=\"260.0\" stroke-linecap=\"round\" style=\"stroke:black;stroke-width:1\" /><line x1=\"380.0\" y1=\"260.0\" x2=\"380.0\" y2=\"290.0\" stroke-linecap=\"round\" style=\"stroke:black;stroke-width:1\" /><line x1=\"380.0\" y1=\"290.0\" x2=\"365.0\" y2=\"315.981\" stroke-linecap=\"round\" style=\"stroke:black;stroke-width:1\" /><path d=\"M 365.0 315.981 A 10 10 0 0 0 368.66 329.641\" stroke-linecap=\"round\" \n",
       "            fill=\"transparent\" fill-opacity=\"0\" style=\"stroke:black;stroke-width:1\"/><line x1=\"368.66\" y1=\"329.641\" x2=\"377.32\" y2=\"334.641\" stroke-linecap=\"round\" style=\"stroke:black;stroke-width:1\" /><line x1=\"377.32\" y1=\"334.641\" x2=\"392.32\" y2=\"308.66\" stroke-linecap=\"round\" style=\"stroke:black;stroke-width:1\" /><line x1=\"392.32\" y1=\"308.66\" x2=\"409.641\" y2=\"318.66\" stroke-linecap=\"round\" style=\"stroke:black;stroke-width:1\" /><line x1=\"409.641\" y1=\"318.66\" x2=\"383.66\" y2=\"303.66\" stroke-linecap=\"round\" style=\"stroke:black;stroke-width:1\" /><line x1=\"383.66\" y1=\"303.66\" x2=\"368.66\" y2=\"277.679\" stroke-linecap=\"round\" style=\"stroke:black;stroke-width:1\" /><path d=\"M 368.66 277.679 A 10 10 0 0 0 355.0 274.019\" stroke-linecap=\"round\" \n",
       "            fill=\"transparent\" fill-opacity=\"0\" style=\"stroke:black;stroke-width:1\"/><line x1=\"355.0\" y1=\"274.019\" x2=\"346.34\" y2=\"279.019\" stroke-linecap=\"round\" style=\"stroke:black;stroke-width:1\" /><line x1=\"346.34\" y1=\"279.019\" x2=\"361.34\" y2=\"305.0\" stroke-linecap=\"round\" style=\"stroke:black;stroke-width:1\" /><line x1=\"361.34\" y1=\"305.0\" x2=\"344.019\" y2=\"315.0\" stroke-linecap=\"round\" style=\"stroke:black;stroke-width:1\" /><line x1=\"344.019\" y1=\"315.0\" x2=\"370.0\" y2=\"300.0\" stroke-linecap=\"round\" style=\"stroke:black;stroke-width:1\" /><line x1=\"370.0\" y1=\"300.0\" x2=\"400.0\" y2=\"300.0\" stroke-linecap=\"round\" style=\"stroke:black;stroke-width:1\" /><path d=\"M 400.0 300.0 A 10 10 0 0 0 410.0 290.0\" stroke-linecap=\"round\" \n",
       "            fill=\"transparent\" fill-opacity=\"0\" style=\"stroke:black;stroke-width:1\"/><line x1=\"410.0\" y1=\"290.0\" x2=\"410.0\" y2=\"280.0\" stroke-linecap=\"round\" style=\"stroke:black;stroke-width:1\" /><line x1=\"410.0\" y1=\"280.0\" x2=\"380.0\" y2=\"280.0\" stroke-linecap=\"round\" style=\"stroke:black;stroke-width:1\" /><line x1=\"380.0\" y1=\"280.0\" x2=\"380.0\" y2=\"260.0\" stroke-linecap=\"round\" style=\"stroke:black;stroke-width:1\" /><line x1=\"380.0\" y1=\"260.0\" x2=\"380.0\" y2=\"290.0\" stroke-linecap=\"round\" style=\"stroke:black;stroke-width:1\" /><line x1=\"380.0\" y1=\"290.0\" x2=\"365.0\" y2=\"315.981\" stroke-linecap=\"round\" style=\"stroke:black;stroke-width:1\" /><path d=\"M 365.0 315.981 A 10 10 0 0 0 368.66 329.641\" stroke-linecap=\"round\" \n",
       "            fill=\"transparent\" fill-opacity=\"0\" style=\"stroke:black;stroke-width:1\"/><line x1=\"368.66\" y1=\"329.641\" x2=\"377.32\" y2=\"334.641\" stroke-linecap=\"round\" style=\"stroke:black;stroke-width:1\" /><line x1=\"377.32\" y1=\"334.641\" x2=\"392.32\" y2=\"308.66\" stroke-linecap=\"round\" style=\"stroke:black;stroke-width:1\" /><line x1=\"392.32\" y1=\"308.66\" x2=\"409.641\" y2=\"318.66\" stroke-linecap=\"round\" style=\"stroke:black;stroke-width:1\" /><line x1=\"409.641\" y1=\"318.66\" x2=\"383.66\" y2=\"303.66\" stroke-linecap=\"round\" style=\"stroke:black;stroke-width:1\" /><line x1=\"383.66\" y1=\"303.66\" x2=\"378.66\" y2=\"294.99974596215566\" stroke-linecap=\"round\" style=\"stroke:black;stroke-width:1\" /><line x1=\"378.66\" y1=\"294.99974596215566\" x2=\"373.66\" y2=\"286.3394919243113\" stroke-linecap=\"round\" style=\"stroke:black;stroke-width:1\" /><line x1=\"373.66\" y1=\"286.3394919243113\" x2=\"368.66\" y2=\"277.6792378864669\" stroke-linecap=\"round\" style=\"stroke:black;stroke-width:1\" />\n",
       "        \n",
       "        \n",
       "        <g id=\"classic\" visibility=\"hidden\" transform=\"rotate(150.0,368.66,277.6792378864669) translate(368.66, 277.6792378864669)\">\n",
       "<polygon points=\"-5,-4.5 0,-2.5 5,-4.5 0,4.5\" transform=\"skewX(0) scale(1,1)\" style=\"stroke:black;fill:black;stroke-width:1\" />\n",
       "</g>\n",
       "      </svg>\n",
       "    "
      ],
      "text/plain": [
       "<IPython.core.display.HTML object>"
      ]
     },
     "metadata": {},
     "output_type": "display_data"
    }
   ],
   "source": [
    "instructions = complete('<drawing>', grammar)\n",
    "\n",
    "program = f\"\"\"\n",
    "t.clearscreen()\n",
    "t.initializeTurtle()\n",
    "t.hideturtle()\n",
    "t.color('black')\n",
    "t.speed(13)\n",
    "for i in range(20):\n",
    "{instructions}\n",
    "if -10 > t.getx() > 10:\n",
    "    t.home()\n",
    "\"\"\"\n",
    "\n",
    "exec(program)"
   ]
  }
 ],
 "metadata": {
  "kernelspec": {
   "display_name": "pLoT",
   "language": "python",
   "name": "plot"
  },
  "language_info": {
   "codemirror_mode": {
    "name": "ipython",
    "version": 3
   },
   "file_extension": ".py",
   "mimetype": "text/x-python",
   "name": "python",
   "nbconvert_exporter": "python",
   "pygments_lexer": "ipython3",
   "version": "3.10.2"
  }
 },
 "nbformat": 4,
 "nbformat_minor": 5
}
