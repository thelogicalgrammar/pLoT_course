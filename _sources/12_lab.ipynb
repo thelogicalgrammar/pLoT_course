{
 "cells": [
  {
   "cell_type": "markdown",
   "id": "08e45eee-6888-4947-be6c-b248ec58598e",
   "metadata": {
    "tags": []
   },
   "source": [
    "# Learning functions"
   ]
  },
  {
   "cell_type": "code",
   "execution_count": 1,
   "id": "7cffd3dc-44e8-41cc-819b-3f0bc6f28f08",
   "metadata": {},
   "outputs": [
    {
     "name": "stdout",
     "output_type": "stream",
     "text": [
      "Not in colab!\n"
     ]
    }
   ],
   "source": [
    "try:\n",
    "    # in colab\n",
    "    import google.colab\n",
    "    print('In colab, downloading LOTlib3')\n",
    "    !git clone https://github.com/piantado/LOTlib3\n",
    "except:\n",
    "    # not in colab\n",
    "    print('Not in colab!')"
   ]
  },
  {
   "cell_type": "markdown",
   "id": "9284ac03-139b-4d49-a216-2deaf4998ddc",
   "metadata": {},
   "source": [
    "## Imports"
   ]
  },
  {
   "cell_type": "markdown",
   "id": "ccf769d5-fa8e-4682-8e22-28ad71b3b514",
   "metadata": {},
   "source": [
    "First we need to import a bunch of stuff:"
   ]
  },
  {
   "cell_type": "code",
   "execution_count": 13,
   "id": "ad9bcf47-102b-432d-ae81-a3522e2fe3d9",
   "metadata": {},
   "outputs": [],
   "source": [
    "import numpy as np\n",
    "from pprint import pprint\n",
    "import matplotlib.pyplot as plt"
   ]
  },
  {
   "cell_type": "code",
   "execution_count": 101,
   "id": "ac1342f3-ea28-457b-a0b8-33f065dfd928",
   "metadata": {},
   "outputs": [],
   "source": [
    "from LOTlib3.Miscellaneous import q, random\n",
    "from LOTlib3.Grammar import Grammar\n",
    "from LOTlib3.DataAndObjects import FunctionData, Obj\n",
    "from LOTlib3.Hypotheses.LOTHypothesis import LOTHypothesis\n",
    "from LOTlib3.Hypotheses.Likelihoods.BinaryLikelihood import BinaryLikelihood\n",
    "from LOTlib3.Eval import primitive\n",
    "from LOTlib3.Miscellaneous import qq\n",
    "from LOTlib3.TopN import TopN\n",
    "from LOTlib3.Samplers.MetropolisHastings import MetropolisHastingsSampler"
   ]
  },
  {
   "cell_type": "markdown",
   "id": "07e1989c-9d4f-4b39-93a2-5d617dd30c0e",
   "metadata": {},
   "source": [
    "## The model"
   ]
  },
  {
   "cell_type": "markdown",
   "id": "b7d89826-733e-4fac-8632-1e864f67d1b6",
   "metadata": {},
   "source": [
    "The aim here is to define a language that recovers the explicit form for a mathematical function most likely to have generated a certain set of input-output pairs. \n",
    "\n",
    "For instance, to start with we might want: addition, product, power, log, exp.\n",
    "\n",
    "If we want to make it fancier, we can add recursion up to a level (which allows us to do e.g. series)\n",
    "    \n",
    "> __**AIMS**__ \n",
    "> - Pick a set of mathematical primitives that seem likely\n",
    "> - Define a grammar\n",
    "> - Define likelihood, e.g., sum of squares minimization\n",
    "> - Run inference algo on the example datasets below!"
   ]
  },
  {
   "cell_type": "markdown",
   "id": "fb983793-616b-4dba-9f1c-4e11b7b00ba2",
   "metadata": {},
   "source": [
    "Some hidden data to recover (Don't look at it yet!)"
   ]
  },
  {
   "cell_type": "code",
   "execution_count": 45,
   "id": "779762bc-3d55-4680-a218-4400c4deeeda",
   "metadata": {
    "tags": [
     "hide-input"
    ]
   },
   "outputs": [],
   "source": [
    "x = np.linspace(1, 20, 30)\n",
    "\n",
    "y = 1 - np.log(x) + np.random.normal(scale=0.1, size=len(x))\n",
    "f1 = np.array(list(zip(x, y)))\n",
    "\n",
    "y = 1 + 3 * x**2 + np.random.normal(scale=0.1, size=len(x))\n",
    "f2 = np.array(list(zip(x, y)))\n",
    "\n",
    "y = 4 * x - 0.5 * x**2 + np.random.normal(scale=0.1, size=len(x))\n",
    "f3 = np.array(list(zip(x, y)))"
   ]
  },
  {
   "cell_type": "code",
   "execution_count": 46,
   "id": "07092b13-52a7-474b-92fd-7fa5dc1f851f",
   "metadata": {},
   "outputs": [
    {
     "name": "stdout",
     "output_type": "stream",
     "text": [
      "Data: \n",
      "array([[ 1.        ,  0.96693628],\n",
      "       [ 1.65517241,  0.44488931],\n",
      "       [ 2.31034483,  0.11111997],\n",
      "       [ 2.96551724, -0.05388751],\n",
      "       [ 3.62068966, -0.08770159],\n",
      "       [ 4.27586207, -0.34701368],\n",
      "       [ 4.93103448, -0.5312597 ],\n",
      "       [ 5.5862069 , -0.56654964],\n",
      "       [ 6.24137931, -0.98309806],\n",
      "       [ 6.89655172, -0.87024759],\n",
      "       [ 7.55172414, -1.02468311],\n",
      "       [ 8.20689655, -1.07690071],\n",
      "       [ 8.86206897, -1.3229659 ],\n",
      "       [ 9.51724138, -1.26628302],\n",
      "       [10.17241379, -1.26076366],\n",
      "       [10.82758621, -1.29232939],\n",
      "       [11.48275862, -1.47545188],\n",
      "       [12.13793103, -1.53730544],\n",
      "       [12.79310345, -1.72121669],\n",
      "       [13.44827586, -1.59430107],\n",
      "       [14.10344828, -1.6440229 ],\n",
      "       [14.75862069, -1.74346587],\n",
      "       [15.4137931 , -1.89063419],\n",
      "       [16.06896552, -1.87860771],\n",
      "       [16.72413793, -1.73337155],\n",
      "       [17.37931034, -1.74285824],\n",
      "       [18.03448276, -1.82462328],\n",
      "       [18.68965517, -2.13664592],\n",
      "       [19.34482759, -1.87158473],\n",
      "       [20.        , -1.96221768]])\n"
     ]
    },
    {
     "data": {
      "image/png": "[encoded data removed]",
      "text/plain": [
       "<Figure size 432x288 with 1 Axes>"
      ]
     },
     "metadata": {
      "needs_background": "light"
     },
     "output_type": "display_data"
    },
    {
     "name": "stdout",
     "output_type": "stream",
     "text": [
      "\n",
      "\n",
      "Data: \n",
      "array([[1.00000000e+00, 3.71191585e+00],\n",
      "       [1.65517241e+00, 9.24602588e+00],\n",
      "       [2.31034483e+00, 1.71111810e+01],\n",
      "       [2.96551724e+00, 2.74461376e+01],\n",
      "       [3.62068966e+00, 4.04248405e+01],\n",
      "       [4.27586207e+00, 5.58883272e+01],\n",
      "       [4.93103448e+00, 7.39602616e+01],\n",
      "       [5.58620690e+00, 9.45716098e+01],\n",
      "       [6.24137931e+00, 1.17768463e+02],\n",
      "       [6.89655172e+00, 1.43745608e+02],\n",
      "       [7.55172414e+00, 1.72014815e+02],\n",
      "       [8.20689655e+00, 2.03113066e+02],\n",
      "       [8.86206897e+00, 2.36586296e+02],\n",
      "       [9.51724138e+00, 2.72592478e+02],\n",
      "       [1.01724138e+01, 3.11500578e+02],\n",
      "       [1.08275862e+01, 3.52680831e+02],\n",
      "       [1.14827586e+01, 3.96347343e+02],\n",
      "       [1.21379310e+01, 4.42937224e+02],\n",
      "       [1.27931034e+01, 4.91952665e+02],\n",
      "       [1.34482759e+01, 5.43415913e+02],\n",
      "       [1.41034483e+01, 5.97790718e+02],\n",
      "       [1.47586207e+01, 6.54449584e+02],\n",
      "       [1.54137931e+01, 7.13693393e+02],\n",
      "       [1.60689655e+01, 7.75636386e+02],\n",
      "       [1.67241379e+01, 8.39996211e+02],\n",
      "       [1.73793103e+01, 9.07024122e+02],\n",
      "       [1.80344828e+01, 9.76727694e+02],\n",
      "       [1.86896552e+01, 1.04889184e+03],\n",
      "       [1.93448276e+01, 1.12381860e+03],\n",
      "       [2.00000000e+01, 1.20102847e+03]])\n"
     ]
    },
    {
     "data": {
      "image/png": "[encoded data removed]",
      "text/plain": [
       "<Figure size 432x288 with 1 Axes>"
      ]
     },
     "metadata": {
      "needs_background": "light"
     },
     "output_type": "display_data"
    },
    {
     "name": "stdout",
     "output_type": "stream",
     "text": [
      "\n",
      "\n",
      "Data: \n",
      "array([[   1.        ,    3.4938151 ],\n",
      "       [   1.65517241,    5.44628788],\n",
      "       [   2.31034483,    6.53998577],\n",
      "       [   2.96551724,    7.67421996],\n",
      "       [   3.62068966,    7.89516258],\n",
      "       [   4.27586207,    8.02252067],\n",
      "       [   4.93103448,    7.55957521],\n",
      "       [   5.5862069 ,    6.68554562],\n",
      "       [   6.24137931,    5.49661335],\n",
      "       [   6.89655172,    3.78650889],\n",
      "       [   7.55172414,    1.76357834],\n",
      "       [   8.20689655,   -0.95288503],\n",
      "       [   8.86206897,   -3.56660826],\n",
      "       [   9.51724138,   -7.30943747],\n",
      "       [  10.17241379,  -11.0152518 ],\n",
      "       [  10.82758621,  -15.41306886],\n",
      "       [  11.48275862,  -20.02607231],\n",
      "       [  12.13793103,  -25.05703701],\n",
      "       [  12.79310345,  -30.66109506],\n",
      "       [  13.44827586,  -36.58291196],\n",
      "       [  14.10344828,  -43.09300853],\n",
      "       [  14.75862069,  -49.80759178],\n",
      "       [  15.4137931 ,  -57.20869912],\n",
      "       [  16.06896552,  -64.76773707],\n",
      "       [  16.72413793,  -72.90556438],\n",
      "       [  17.37931034,  -81.42918673],\n",
      "       [  18.03448276,  -90.50159589],\n",
      "       [  18.68965517,  -99.98277275],\n",
      "       [  19.34482759, -109.61216676],\n",
      "       [  20.        , -120.07684039]])\n"
     ]
    },
    {
     "data": {
      "image/png": "[encoded data removed]",
      "text/plain": [
       "<Figure size 432x288 with 1 Axes>"
      ]
     },
     "metadata": {
      "needs_background": "light"
     },
     "output_type": "display_data"
    },
    {
     "name": "stdout",
     "output_type": "stream",
     "text": [
      "\n",
      "\n"
     ]
    }
   ],
   "source": [
    "for f in [f1, f2, f3]:\n",
    "    print('Data: ')\n",
    "    pprint(f)\n",
    "    plt.scatter(*f.T)\n",
    "    plt.show()\n",
    "    print('\\n')"
   ]
  }
 ],
 "metadata": {
  "kernelspec": {
   "display_name": "pLoT",
   "language": "python",
   "name": "plot"
  },
  "language_info": {
   "codemirror_mode": {
    "name": "ipython",
    "version": 3
   },
   "file_extension": ".py",
   "mimetype": "text/x-python",
   "name": "python",
   "nbconvert_exporter": "python",
   "pygments_lexer": "ipython3",
   "version": "3.10.2"
  }
 },
 "nbformat": 4,
 "nbformat_minor": 5
}
