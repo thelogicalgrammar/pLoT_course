{
 "cells": [
  {
   "cell_type": "markdown",
   "id": "2defd266-cc5b-48c6-aeca-9f6c1466885f",
   "metadata": {},
   "source": [
    "# Python refresher: Part II"
   ]
  },
  {
   "cell_type": "markdown",
   "id": "fe992bae-8e77-4b29-a873-ceab35b94409",
   "metadata": {},
   "source": [
    "Last week, we have seen some basic python, which you should be familiar with by now. This includes comments, data types and some of the operators that can be used with them, and other tids and bits.\n",
    "\n",
    "This week, we're going to look at some slightly more complex topics that are needed to work with the code in the second section of the course. Specifically, some concepts that we need to use Piantadosi's LOTlib3 library.\n",
    "\n",
    "I expect the topics in this lab will be familiar to different extents to different people. Therefore, rather than explaining everything in huge detail, it's easier if you just ask if you get stuck on a point, and we explore it more in detail."
   ]
  },
  {
   "cell_type": "markdown",
   "id": "b6b8d405-5090-44dd-b09b-59c736af59af",
   "metadata": {},
   "source": [
    "## Importing and using libraries"
   ]
  },
  {
   "cell_type": "markdown",
   "id": "6856e92b-e231-4dca-8638-bc61a5549e20",
   "metadata": {},
   "source": [
    "### What is a library?"
   ]
  },
  {
   "cell_type": "markdown",
   "id": "124370f0-3a56-43f6-a9ac-9e7a38744ab1",
   "metadata": {},
   "source": [
    "Roughly, a library is a collection of useful stuff. This can include functions / variables / classes / other stuff. For instance, to do maths in python we usually import the 'numpy' library, to do plotting we use 'matplotlib' or 'seaborn', etc. LOTlib3, which we will use in the second half of this course, is one such library.\n",
    "\n",
    "Using libraries allows us to not rewrite stuff that someone else has already written."
   ]
  },
  {
   "cell_type": "markdown",
   "id": "9d81e1a5-7761-430d-a281-80aaa28c4f45",
   "metadata": {},
   "source": [
    "### How do we import and use libraries?"
   ]
  },
  {
   "cell_type": "markdown",
   "id": "417a21e1-699a-4e00-b509-bb18f968afda",
   "metadata": {},
   "source": [
    "To import a library we write `import` follows by the name of the library, as follows:\n",
    "```python\n",
    "import numpy\n",
    "```"
   ]
  },
  {
   "cell_type": "markdown",
   "id": "c5d68d7e-5843-4b9c-858c-1f2640e59969",
   "metadata": {},
   "source": [
    "To use the stuff in the library we use the library name followed by a dot followed by the name of what we want from the library. For instance:\n",
    "```python\n",
    "numpy.pi\n",
    "```\n",
    "to get the number $\\pi$.\n",
    "\n",
    "However, often we do not want to use the full name of the library, but rather some abbreviation. In this case, we can write as follows:\n",
    "```python\n",
    "import numpy as np\n",
    "```"
   ]
  },
  {
   "cell_type": "code",
   "execution_count": 64,
   "id": "aa4c6b77-861d-4a4e-878c-32ec86d6f199",
   "metadata": {},
   "outputs": [],
   "source": [
    "import numpy as np"
   ]
  },
  {
   "cell_type": "markdown",
   "id": "b6b6b543-e489-4378-ac91-a8dbfd7d0cc5",
   "metadata": {},
   "source": [
    "and then we can just write:\n",
    "```python\n",
    "np.pi\n",
    "```\n",
    "which is shorter."
   ]
  },
  {
   "cell_type": "code",
   "execution_count": 65,
   "id": "7ba98112-291b-4d27-ac94-78f7b4022f1f",
   "metadata": {},
   "outputs": [
    {
     "data": {
      "text/plain": [
       "3.141592653589793"
      ]
     },
     "execution_count": 65,
     "metadata": {},
     "output_type": "execute_result"
    }
   ],
   "source": [
    "np.pi"
   ]
  },
  {
   "cell_type": "markdown",
   "id": "7bc029a3-4332-4d82-acdf-79ff5ebc02c8",
   "metadata": {},
   "source": [
    "If we do not want the full library but rather just one thing from it, we can write:\n",
    "```python\n",
    "from numpy import pi\n",
    "```\n",
    "and then we can just use `pi` directly without needing the `np.`. "
   ]
  },
  {
   "cell_type": "code",
   "execution_count": 66,
   "id": "aad14a7f-a6b1-4059-a941-dc28fce0695c",
   "metadata": {},
   "outputs": [],
   "source": [
    "from numpy import pi"
   ]
  },
  {
   "cell_type": "code",
   "execution_count": 67,
   "id": "002c1195-1c88-4ab7-9af1-3d284b3792b4",
   "metadata": {},
   "outputs": [
    {
     "data": {
      "text/plain": [
       "3.141592653589793"
      ]
     },
     "execution_count": 67,
     "metadata": {},
     "output_type": "execute_result"
    }
   ],
   "source": [
    "pi"
   ]
  },
  {
   "cell_type": "markdown",
   "id": "ed7c1c53-d559-4f46-8e21-0974ecba391c",
   "metadata": {},
   "source": [
    "## Functions"
   ]
  },
  {
   "cell_type": "markdown",
   "id": "4223da5e-193f-4690-967d-035243962243",
   "metadata": {},
   "source": [
    "### Motivation"
   ]
  },
  {
   "cell_type": "markdown",
   "id": "7e8c1152-5f8c-4ac4-b800-441743cadebd",
   "metadata": {},
   "source": [
    "Often when programming you repeatedly need some code that 'does the same thing', e.g. multiply two numbers, or take a string and transform it in some way. You can think of a function in python as a way of dealing with this without having to repeatedly write the same code (this is not all that a function is good for, but it is one thing that functions are good for). Basically, you give a name to the 'piece of code' that you repeatedly need, and use the name instead of the code itself.\n",
    "\n",
    "Let's look at an example to understand this better. Suppose you have to write some code that takes a string, changes the first letter to 'A', and returns the first 10 characters. You can write it as follows:"
   ]
  },
  {
   "cell_type": "code",
   "execution_count": 4,
   "id": "e657ba0a-bbb1-40ad-a443-4aefd188c51f",
   "metadata": {},
   "outputs": [
    {
     "name": "stdout",
     "output_type": "stream",
     "text": [
      "Aello worl\n"
     ]
    }
   ],
   "source": [
    "string = 'hello world'\n",
    "string = 'A' + string[1:]\n",
    "string = string[:10]\n",
    "print(string)"
   ]
  },
  {
   "cell_type": "markdown",
   "id": "b687e445-bd3f-4d86-ac6b-c5657a3fbe33",
   "metadata": {},
   "source": [
    "Now suppose that you need to perform the procedure above for each element in a list of strings. You can do this by putting the code above in a loop:"
   ]
  },
  {
   "cell_type": "code",
   "execution_count": 5,
   "id": "44803252-927e-43f5-af5d-8a2f2abeabde",
   "metadata": {},
   "outputs": [
    {
     "name": "stdout",
     "output_type": "stream",
     "text": [
      "['Aello worl', 'Aonversati', 'Aoodbye wo']\n"
     ]
    }
   ],
   "source": [
    "strings = ['hello world', 'conversation world', 'goodbye world']\n",
    "results = []\n",
    "for string in strings:\n",
    "    string = 'A' + string[1:]\n",
    "    string = string[:10]\n",
    "    results.append(string)\n",
    "print(results)"
   ]
  },
  {
   "cell_type": "markdown",
   "id": "0e281c44-72e5-4fb4-a43d-1ac892a4f7c0",
   "metadata": {},
   "source": [
    "But now suppose that you don't know a priori whether you're getting a list or a single word, and you need to adapt. One natural way to do it would be:"
   ]
  },
  {
   "cell_type": "code",
   "execution_count": 6,
   "id": "de4391d6-9161-4fcb-ba10-3efaa9eacd76",
   "metadata": {},
   "outputs": [
    {
     "name": "stdout",
     "output_type": "stream",
     "text": [
      "Ala bla bl\n"
     ]
    }
   ],
   "source": [
    "variable = 'bla bla bla'\n",
    "\n",
    "# check if the variable is a list\n",
    "if type(variable) is list:\n",
    "    for string in variable:\n",
    "        string = 'A' + string[1:]\n",
    "        string = string[:10]\n",
    "        results.append(string)\n",
    "    print(results)\n",
    "else:\n",
    "    variable = 'A' + variable[1:]\n",
    "    variable = variable[:10]\n",
    "    print(variable)"
   ]
  },
  {
   "cell_type": "markdown",
   "id": "8f56887c-ddd6-420e-993d-435030d3938f",
   "metadata": {},
   "source": [
    "But notes that some lines are repeated, namely\n",
    "```python\n",
    "string = 'A' + string[1:]\n",
    "string = string[:10]\n",
    "```\n",
    "We would like a way to only write them once and use them in two places. A natural solution to this is a function that takes a string and performs the transformation we want."
   ]
  },
  {
   "cell_type": "markdown",
   "id": "b76d1fb6-ec60-44fd-9b43-a679e469f07f",
   "metadata": {},
   "source": [
    "### Standard function definition in python"
   ]
  },
  {
   "cell_type": "markdown",
   "id": "549f3aa9-da18-40bb-ad46-06fe3ecf8052",
   "metadata": {},
   "source": [
    "To define a function in python we do the following:\n",
    "- start with the keyword `def`\n",
    "- followed by the name of the function\n",
    "- followed by an open `(` \n",
    "- followed by zero or more arguments divided by commas\n",
    "- followed by `):`\n",
    "- followed by one or more lines at the next indentation level \n",
    "- In the points where you want a function to return a value, you can optionally put a `return` statement followed by the value you want the function to return.\n",
    "\n",
    "For instance:\n",
    "```python\n",
    "def name(argument1, argument2):\n",
    "    first line in function\n",
    "    second line in function\n",
    "    return value\n",
    "```"
   ]
  },
  {
   "cell_type": "markdown",
   "id": "0f5f712b-8311-491f-ac80-2a2beae6087e",
   "metadata": {},
   "source": [
    "To solve the problem above we could use:"
   ]
  },
  {
   "cell_type": "code",
   "execution_count": 8,
   "id": "af82b0fa-3062-4c16-8f00-fad006a58b24",
   "metadata": {},
   "outputs": [],
   "source": [
    "def transform_string(string_to_transform):\n",
    "    string_to_transform = 'A' + string_to_transform[1:]\n",
    "    string_to_transform = string_to_transform[:10]\n",
    "    return string_to_transform"
   ]
  },
  {
   "cell_type": "markdown",
   "id": "a25f61fe-ae40-47cb-ba90-f482b3714a9c",
   "metadata": {},
   "source": [
    "### Calling a function"
   ]
  },
  {
   "cell_type": "markdown",
   "id": "150d30a4-5093-483f-9ca2-2e25d8d0c2fb",
   "metadata": {},
   "source": [
    "Then, we can rewrite the above as:"
   ]
  },
  {
   "cell_type": "code",
   "execution_count": 9,
   "id": "436dffa7-3884-4eef-bb94-f9f6e3dbd1ea",
   "metadata": {},
   "outputs": [
    {
     "name": "stdout",
     "output_type": "stream",
     "text": [
      "Aoodbye wo\n"
     ]
    }
   ],
   "source": [
    "variable = 'bla bla bla'\n",
    "\n",
    "# check if the variable is a list\n",
    "if type(variable) is list:\n",
    "    for string in variable:\n",
    "        results.append(transform_string(string))\n",
    "    print(results)\n",
    "else:\n",
    "    print(transform_string(string))"
   ]
  },
  {
   "cell_type": "markdown",
   "id": "d77492cc-dd40-4828-afac-c27e91c9cd11",
   "metadata": {},
   "source": [
    "Basically what we have done it _called_ a function on a certain input (`transform_string(string)`), which is the same as running the input through the code in the function and getting the return values of the function.\n",
    "\n",
    "Now we only repeat one word rather than several lines, and also if it turns out we want to change the transformation later, we only need to do it once rather than changing it independently multiple times!"
   ]
  },
  {
   "cell_type": "markdown",
   "id": "7f0959db-f6cb-4d47-8ef9-638e9aca6027",
   "metadata": {},
   "source": [
    "### $\\lambda$ ('lambda') functions"
   ]
  },
  {
   "cell_type": "markdown",
   "id": "787fb20a-15d3-4e85-8aa1-18d8558a5ccd",
   "metadata": {},
   "source": [
    "At this point it is worth mentioning that there is another notation for defining functions that doesn't use the `def` keyword. Namely, we write `lambda` followed by a space, zero or more comma-separated arguments, a colon, and a single statement.\n",
    "\n",
    "For example, suppose we want to sum two variables. We could define a function that does it as follows:"
   ]
  },
  {
   "cell_type": "code",
   "execution_count": 11,
   "id": "5a779131-5a37-4f72-8626-4afc227d9c24",
   "metadata": {},
   "outputs": [
    {
     "name": "stdout",
     "output_type": "stream",
     "text": [
      "5\n"
     ]
    }
   ],
   "source": [
    "sum_function = lambda x, y: x+y\n",
    "\n",
    "print(sum_function(2, 3))"
   ]
  },
  {
   "cell_type": "markdown",
   "id": "06fd812c-6636-49a5-ad67-aa63167d8607",
   "metadata": {},
   "source": [
    "One case where this might be useful is in conjunction with `map`, which is an operation that takes two arguments, a function and a list, and applies the function to each element of the list. E.g., in the following example:"
   ]
  },
  {
   "cell_type": "code",
   "execution_count": 17,
   "id": "39534899-c433-4608-a3ff-fca2d766e25c",
   "metadata": {},
   "outputs": [
    {
     "data": {
      "text/plain": [
       "[3, 8, 4]"
      ]
     },
     "execution_count": 17,
     "metadata": {},
     "output_type": "execute_result"
    }
   ],
   "source": [
    "list(map(\n",
    "    lambda x: x[0]+x[1], \n",
    "    [[1,2], [4, 4], [1,3]]\n",
    "))"
   ]
  },
  {
   "cell_type": "markdown",
   "id": "ceb481d4-f1f2-4142-949a-1c4119697548",
   "metadata": {},
   "source": [
    "Lambda functions are usually a slightly more advanced topic, but they'll come up a lot in the rest of the course, so it's good to start getting used to them already."
   ]
  },
  {
   "cell_type": "markdown",
   "id": "d025f0af-cae9-488a-b63d-6833a4f9fbf6",
   "metadata": {},
   "source": [
    "### Recursive functions"
   ]
  },
  {
   "cell_type": "markdown",
   "id": "36acb02b-585b-4ca8-9ddd-9a39240f5ed8",
   "metadata": {},
   "source": [
    "This is a slighlty mindbending concept: functions can _call themselves_. This means that inside a function $f$, $f$ itself can be called and the return value can be used inside $f$. Of course, this can easily lead to functions that never terminate, but rather keep calling themselves, forever increasing the level of nested calls. For instance, try to think what is happening here:"
   ]
  },
  {
   "cell_type": "code",
   "execution_count": 21,
   "id": "b3336f1f-59ff-40c5-a536-5d03ec0cf885",
   "metadata": {},
   "outputs": [
    {
     "ename": "RecursionError",
     "evalue": "maximum recursion depth exceeded",
     "output_type": "error",
     "traceback": [
      "\u001b[0;31m---------------------------------------------------------------------------\u001b[0m",
      "\u001b[0;31mRecursionError\u001b[0m                            Traceback (most recent call last)",
      "Input \u001b[0;32mIn [21]\u001b[0m, in \u001b[0;36m<cell line: 5>\u001b[0;34m()\u001b[0m\n\u001b[1;32m      2\u001b[0m     y \u001b[38;5;241m=\u001b[39m x\u001b[38;5;241m+\u001b[39m\u001b[38;5;241m1\u001b[39m\n\u001b[1;32m      3\u001b[0m     bad_recursive_function(y)\n\u001b[0;32m----> 5\u001b[0m \u001b[43mbad_recursive_function\u001b[49m\u001b[43m(\u001b[49m\u001b[38;5;241;43m1\u001b[39;49m\u001b[43m)\u001b[49m\n",
      "Input \u001b[0;32mIn [21]\u001b[0m, in \u001b[0;36mbad_recursive_function\u001b[0;34m(x)\u001b[0m\n\u001b[1;32m      1\u001b[0m \u001b[38;5;28;01mdef\u001b[39;00m \u001b[38;5;21mbad_recursive_function\u001b[39m(x):\n\u001b[1;32m      2\u001b[0m     y \u001b[38;5;241m=\u001b[39m x\u001b[38;5;241m+\u001b[39m\u001b[38;5;241m1\u001b[39m\n\u001b[0;32m----> 3\u001b[0m     \u001b[43mbad_recursive_function\u001b[49m\u001b[43m(\u001b[49m\u001b[43my\u001b[49m\u001b[43m)\u001b[49m\n",
      "Input \u001b[0;32mIn [21]\u001b[0m, in \u001b[0;36mbad_recursive_function\u001b[0;34m(x)\u001b[0m\n\u001b[1;32m      1\u001b[0m \u001b[38;5;28;01mdef\u001b[39;00m \u001b[38;5;21mbad_recursive_function\u001b[39m(x):\n\u001b[1;32m      2\u001b[0m     y \u001b[38;5;241m=\u001b[39m x\u001b[38;5;241m+\u001b[39m\u001b[38;5;241m1\u001b[39m\n\u001b[0;32m----> 3\u001b[0m     \u001b[43mbad_recursive_function\u001b[49m\u001b[43m(\u001b[49m\u001b[43my\u001b[49m\u001b[43m)\u001b[49m\n",
      "    \u001b[0;31m[... skipping similar frames: bad_recursive_function at line 3 (2970 times)]\u001b[0m\n",
      "Input \u001b[0;32mIn [21]\u001b[0m, in \u001b[0;36mbad_recursive_function\u001b[0;34m(x)\u001b[0m\n\u001b[1;32m      1\u001b[0m \u001b[38;5;28;01mdef\u001b[39;00m \u001b[38;5;21mbad_recursive_function\u001b[39m(x):\n\u001b[1;32m      2\u001b[0m     y \u001b[38;5;241m=\u001b[39m x\u001b[38;5;241m+\u001b[39m\u001b[38;5;241m1\u001b[39m\n\u001b[0;32m----> 3\u001b[0m     \u001b[43mbad_recursive_function\u001b[49m\u001b[43m(\u001b[49m\u001b[43my\u001b[49m\u001b[43m)\u001b[49m\n",
      "\u001b[0;31mRecursionError\u001b[0m: maximum recursion depth exceeded"
     ]
    }
   ],
   "source": [
    "def bad_recursive_function(x):\n",
    "    y = x+1\n",
    "    bad_recursive_function(y)\n",
    "    \n",
    "bad_recursive_function(1)"
   ]
  },
  {
   "cell_type": "markdown",
   "id": "166f7271-3c90-469e-ad07-8b8e51d3dfde",
   "metadata": {},
   "source": [
    "Thankfully, python has a way of preventing the function running infinitely and automatically raises an error after a certain number of nested calls. You can see it here as `RecursionError: maximum recursion depth exceeded`."
   ]
  },
  {
   "cell_type": "markdown",
   "id": "3b871a76-1ee2-4847-b8b5-e86f84b19577",
   "metadata": {},
   "source": [
    "Usually, recursive functions are conceptualized as follows:\n",
    "- There is one or more 'base case', i.e. an input for which the function simply calculates a return value without calling the function itself.\n",
    "- There are 'complex' cases where the input to the function is somehow 'simplified' and the function is called with the simplified input. Eventually after enough 'simplification' steps the input reduces to a base case, and recursion stops."
   ]
  },
  {
   "cell_type": "markdown",
   "id": "593b6ac2-289f-4153-8580-63f32ae8d6db",
   "metadata": {},
   "source": [
    "A classic case of recursion is the following formulation of the $n$th Fibonacci numbers:\n",
    "- If $n$ is 0 or 1 (i.e., the first or second Fibonacci number), return 1\n",
    "- If $n$ is greater than 1, return the $n$th-2 Fibonacci number + the $n$th-1 Fibonacci number"
   ]
  },
  {
   "cell_type": "code",
   "execution_count": 34,
   "id": "c567c09c-e1e2-49ee-8cc4-2b4e049653fb",
   "metadata": {},
   "outputs": [
    {
     "name": "stdout",
     "output_type": "stream",
     "text": [
      "1,1,2,3,5,8,13,21,34,55,89,144,233,377,610,987,1597,2584,4181,6765,10946,17711,28657,46368,75025,121393,196418,317811,514229,832040,"
     ]
    }
   ],
   "source": [
    "def calculate_fibonacci(n):\n",
    "    # there are two base cases here!\n",
    "    if n==0 or n==1:\n",
    "        # in both base cases, just return 1\n",
    "        return 1\n",
    "    else:\n",
    "        # otherwise, follow the recursive rule\n",
    "        return calculate_fibonacci(n-2) + calculate_fibonacci(n-1)\n",
    "\n",
    "for i in range(30):\n",
    "    print(calculate_fibonacci(i), end=',')"
   ]
  },
  {
   "cell_type": "markdown",
   "id": "db663a53-9279-43a6-b67b-8a782d7e7b08",
   "metadata": {},
   "source": [
    "There is a lot to say about recursive functions and how they work, but for now try to really understand how the one above works. If you really understand that simple case, other ones are going to be easy."
   ]
  },
  {
   "cell_type": "markdown",
   "id": "9e2ae370-b39e-4634-aad1-654479d14fc9",
   "metadata": {},
   "source": [
    "## Functions as objects"
   ]
  },
  {
   "cell_type": "markdown",
   "id": "0d46d72f-96ec-486a-ad32-dd8ad69fd21e",
   "metadata": {},
   "source": [
    "We have refreshed briefly how to define functions above. Functions in python are _first class citizens_, meaning that they can be treated as objects themselves: passed as arguments of functions, destroyed, transformed in all the same ways as other objects. \n",
    "\n",
    "Let's see a simple example. Suppose that you have a function $f$ that takes an integer and returns an integer, but you don't know exactly what it does to that integer. But whatever it does, you want another function that does the same thing as $f$ but then adds 3 to the result. \n",
    "\n",
    "Well, we can define a function $g$ that takes a function $f$ _as an argument_ and returns another function from integer to integer, that first calls $f$ on the integer and then adds three:"
   ]
  },
  {
   "cell_type": "code",
   "execution_count": 52,
   "id": "6e21c052-53ee-4838-af17-3c339cf85317",
   "metadata": {},
   "outputs": [],
   "source": [
    "def modify_f(func):\n",
    "    # define a function that runs func and then adds 3\n",
    "    def g(n):\n",
    "        return func(n) + 3\n",
    "    # return that function\n",
    "    return g"
   ]
  },
  {
   "cell_type": "markdown",
   "id": "da184958-3ed4-4034-b7bf-3b8efcdf2fcb",
   "metadata": {},
   "source": [
    "Let's see `modify_f` in action:"
   ]
  },
  {
   "cell_type": "code",
   "execution_count": 54,
   "id": "5b2e3ed0-870a-4db3-b07e-7b8a3e2609a0",
   "metadata": {},
   "outputs": [
    {
     "data": {
      "text/plain": [
       "11"
      ]
     },
     "execution_count": 54,
     "metadata": {},
     "output_type": "execute_result"
    }
   ],
   "source": [
    "# define an f that take an int and returns an int\n",
    "# (namely, the argument multiplied by two)\n",
    "f = lambda x: x * 2\n",
    "\n",
    "# get a modified function by running\n",
    "# g through modify_f\n",
    "modified_f = modify_f(f)\n",
    "\n",
    "# call the modified function\n",
    "# on an example\n",
    "modified_f(4)"
   ]
  },
  {
   "cell_type": "markdown",
   "id": "167e9d8a-85a5-4280-b405-f43e0ff7711f",
   "metadata": {},
   "source": [
    "The point of this example is that `modify_f` takes _a function_ as an input and return _a function_ as an output. You can use manipulate functions like that!"
   ]
  },
  {
   "cell_type": "markdown",
   "id": "4517f122-09c4-4a3c-b334-8ead1639bb3c",
   "metadata": {},
   "source": [
    "## Recursion without recursion (note: more difficult!)"
   ]
  },
  {
   "cell_type": "markdown",
   "id": "937c69ec-a58a-4c61-aaa2-10fb3c8cf27a",
   "metadata": {},
   "source": [
    "(For more explanation on the material in this section, see [this page](https://www.lambdacircle.com/the-y-and-z-combinators-in-python/))\n",
    "\n",
    "Note that things become complicated easily when we work with functions that take other functions as inputs. In those cases, you can define functions that _take themselves_ (as well as other arguments). This actually allows us to do surprising things, like have the same power as recursion without using recursion directly, i.e., without calling a function in its own definition.\n",
    "\n",
    "For instance, consider the following function, which as you can see is not strictly speaking recursive:"
   ]
  },
  {
   "cell_type": "code",
   "execution_count": 43,
   "id": "447b4be5-1322-41ba-8f08-15b368b12f9f",
   "metadata": {},
   "outputs": [],
   "source": [
    "def strange_fibonacci(f):\n",
    "    # takes a function f and\n",
    "    # defines a new function \n",
    "    # whose behaviour depends on\n",
    "    # the input function f\n",
    "    def g(n):\n",
    "        if n == 0 or n == 1:\n",
    "            return 1\n",
    "        else:\n",
    "            return f(f)(n-1) + f(f)(n-2)\n",
    "    return g"
   ]
  },
  {
   "cell_type": "markdown",
   "id": "452eac9e-2466-428c-9e0a-e9abd9c96914",
   "metadata": {},
   "source": [
    "And now consider the following function which in a way encodes the recursion bit (but without being explicitly recursive: it's not calling itself in its own definition):"
   ]
  },
  {
   "cell_type": "code",
   "execution_count": 44,
   "id": "d75c9285-b4c4-40ca-adb6-0590de170680",
   "metadata": {},
   "outputs": [],
   "source": [
    "# takes a function, calls the function on itself\n",
    "recursive_function = lambda f: f(f)"
   ]
  },
  {
   "cell_type": "markdown",
   "id": "ee7e5d56-37dc-4f02-83bf-d29bb1b715e6",
   "metadata": {},
   "source": [
    "What `recursive_function` does is call a function on itself.\n",
    "\n",
    "When called with `strange_fibonacci` as an argument, it will effectively calculate `strange_fibonaccy(strange_fibonacci)`, and this will return the following function:\n",
    "```python\n",
    "def g(n):\n",
    "        if n == 0 or n == 1:\n",
    "            return 1\n",
    "        else:\n",
    "            return (\n",
    "                strange_fibonacci(strange_fibonacci)(n-1) + \n",
    "                strange_fibonacci(strange_fibonacci)(n-2)\n",
    "            )\n",
    "```\n",
    "which, when called with a specific integer, will define new `g`s and call them in a nested way.\n",
    "\n",
    "Let's test it with a specific number:"
   ]
  },
  {
   "cell_type": "code",
   "execution_count": 46,
   "id": "a53ce520-3af7-4a53-a804-0dab8240e8e2",
   "metadata": {},
   "outputs": [
    {
     "data": {
      "text/plain": [
       "89"
      ]
     },
     "execution_count": 46,
     "metadata": {},
     "output_type": "execute_result"
    }
   ],
   "source": [
    "recursive_function(strange_fibonacci)(10)"
   ]
  },
  {
   "cell_type": "markdown",
   "id": "bdac2871-4a79-4c61-925e-9c7da8787119",
   "metadata": {},
   "source": [
    "Can you figure out _exactly_ what is happening here? It's a bit mindbending."
   ]
  },
  {
   "cell_type": "markdown",
   "id": "8c945113-f42e-41ce-a990-fd4e1357523e",
   "metadata": {},
   "source": [
    "We can also get rid of the `f(f)` inside `strange_fibonacci`, since it still kind of feels like a type of recursion. To do that, we define the following function:"
   ]
  },
  {
   "cell_type": "code",
   "execution_count": 55,
   "id": "76849a9c-069f-4a1d-9a03-1aee8acc6f31",
   "metadata": {},
   "outputs": [],
   "source": [
    "apply_inside = lambda f: lambda g: f(lambda y: g(g)(y))"
   ]
  },
  {
   "cell_type": "markdown",
   "id": "34b170d0-7dcf-4920-8dc3-6bf98098c92d",
   "metadata": {},
   "source": [
    "How does `apply_inside` work?\n",
    "\n",
    "- You pass it some function $f$ ($f$ takes a function as argument), and it returns another function, let's call it $h$.\n",
    "- $h$ (i.e., the return value of `apply_inside`) is defined as `lambda g: f(lambda y: g(g)(y)`, and so it is a function:\n",
    "    - from a function $g$ \n",
    "    - to the result of calling $f$ (the original argument) on `lambda y: g(g)(y)`\n",
    "\n",
    "This might become clearer with an example. Let's define another version of our strange fibonacci function, this time without the `f(f)` bit:"
   ]
  },
  {
   "cell_type": "code",
   "execution_count": 59,
   "id": "165557aa-ac5a-4e49-a9ca-a735cefc04d2",
   "metadata": {},
   "outputs": [],
   "source": [
    "def strange_fibonacci(f):\n",
    "    # takes a function f and\n",
    "    # defines a new function \n",
    "    # whose behaviour depends on\n",
    "    # the input function f\n",
    "    def g(n):\n",
    "        if n == 0 or n == 1:\n",
    "            return 1\n",
    "        else:\n",
    "            return f(n-1) + f(n-2)\n",
    "    return g"
   ]
  },
  {
   "cell_type": "markdown",
   "id": "2ce91bde-e6d6-4478-817e-09677bc01a91",
   "metadata": {},
   "source": [
    "Now consider `apply_inside(strange_fibonacci)`. How does it work? Well, we know from the definition of `apply_inside` that it will have value:\n",
    "\n",
    "`apply_inside(strange_fibonacci)` = `lambda g: strange_fibonacci(lambda y: g(g)(y))`"
   ]
  },
  {
   "cell_type": "markdown",
   "id": "d4546ae2-b8e6-459f-8b9c-903e41e5af5c",
   "metadata": {},
   "source": [
    "Note that now the argument of `strange_fibonacci` is `lambda y: g(g)(y)`, which is a function from a number to a function applied to itself and then to the number. Within `strange_fibonacci`, the input function appears in the line `return f(n-1) + f(n-2)`, which becomes:\n",
    "- `return (lambda y: g(g)(y))(n-1) + (lambda y: g(g)(y))(n-2)`\n",
    "\n",
    "and therefore:\n",
    "- `return g(g)(n-1) + g(g)(n-2)`\n",
    "\n",
    "And this is just a version of the `f(f)` bit we had at the beginning, which we have now successfully isolated into its own function (apply inside)!\n",
    "\n",
    "Let's make sure this works:"
   ]
  },
  {
   "cell_type": "code",
   "execution_count": 60,
   "id": "0f497847-5b7b-4575-98ef-56c302060d72",
   "metadata": {},
   "outputs": [
    {
     "data": {
      "text/plain": [
       "89"
      ]
     },
     "execution_count": 60,
     "metadata": {},
     "output_type": "execute_result"
    }
   ],
   "source": [
    "recursive_function(apply_inside(strange_fibonacci))(10)"
   ]
  },
  {
   "cell_type": "markdown",
   "id": "9d277c7e-76f8-48bf-911d-39259561c368",
   "metadata": {},
   "source": [
    "This section was a bit mental gymnastics to give you an idea of how messy things can get when higher-order functions are involved (i.e., function that take functions as arguments). We will see a lot of higher-order functions in the rest of the semester, so try to become comfortable with them!"
   ]
  },
  {
   "cell_type": "markdown",
   "id": "7ce50c82-c5da-43e4-a9a6-744f7fe2a4c4",
   "metadata": {},
   "source": [
    "## Plotting in Matplotlib"
   ]
  },
  {
   "cell_type": "markdown",
   "id": "153c4e33-5262-46d7-8bd9-da9c90a2093d",
   "metadata": {},
   "source": [
    "Since we'll be want to plot things in the second half of the course, it makes sense to introduce some simple cases now. We'll be using the most popular plotting library for python, `matplotlib`. We usually import it as follows:"
   ]
  },
  {
   "cell_type": "code",
   "execution_count": 62,
   "id": "a096eaa7-6c4e-4703-9042-7f84815fb588",
   "metadata": {},
   "outputs": [],
   "source": [
    "import matplotlib.pyplot as plt"
   ]
  },
  {
   "cell_type": "markdown",
   "id": "2dfd8687-1494-423d-b262-e25c0621894c",
   "metadata": {},
   "source": [
    "Usually, we'll initialize a new plot with the following line:\n",
    "```python\n",
    "fig, axes = plt.subplots()\n",
    "```\n",
    "What `plt.subplots()` does is create a new figure object and a new `axes` object. The figure object is the whole figure, which can contain one or more axes. If you are unfamiliar with the `plt.subplots` interface, have a look [here](https://matplotlib.org/3.5.0/api/_as_gen/matplotlib.pyplot.subplots.html). \n",
    "\n",
    "The axes are objects that have a bunch of methods, corresponding e.g. to different types of plots that can be called on them. Let's see an example of the `scatter` method of axes, which is used to make scatter plots:"
   ]
  },
  {
   "cell_type": "code",
   "execution_count": 71,
   "id": "e5c5d9ce-38eb-4d8f-b3bc-5a168c3b58a8",
   "metadata": {},
   "outputs": [
    {
     "data": {
      "image/png": "[encoded data removed]",
      "text/plain": [
       "<Figure size 432x288 with 1 Axes>"
      ]
     },
     "metadata": {
      "needs_background": "light"
     },
     "output_type": "display_data"
    }
   ],
   "source": [
    "fig, axes = plt.subplots()\n",
    "\n",
    "# create some new data to plot\n",
    "# don't worry too much if you don't understand this line\n",
    "x_scatter, y_scatter = np.random.rand(2,10)\n",
    "\n",
    "# create a scatterplot with the given\n",
    "# x and y coordinates\n",
    "axes.scatter(x_scatter, y_scatter)\n",
    "\n",
    "# show the plot\n",
    "plt.show()"
   ]
  },
  {
   "cell_type": "markdown",
   "id": "9ef12692-6282-407d-978a-723e22448d14",
   "metadata": {},
   "source": [
    "Another important function is to draw line plots, called simply `plot`:"
   ]
  },
  {
   "cell_type": "code",
   "execution_count": 73,
   "id": "aa45c73d-5d27-4f8c-bf65-08e564547361",
   "metadata": {},
   "outputs": [
    {
     "data": {
      "image/png": "[encoded data removed]",
      "text/plain": [
       "<Figure size 432x288 with 1 Axes>"
      ]
     },
     "metadata": {
      "needs_background": "light"
     },
     "output_type": "display_data"
    }
   ],
   "source": [
    "fig, axes = plt.subplots()\n",
    "\n",
    "# create some new data to plot\n",
    "# don't worry too much if you don't understand this line\n",
    "x_line = y_line = np.arange(10)\n",
    "\n",
    "# create a line plot with the given\n",
    "# x and y coordinates\n",
    "axes.plot(x_line, y_line)\n",
    "\n",
    "# show the plot\n",
    "plt.show()"
   ]
  },
  {
   "cell_type": "markdown",
   "id": "ee64a419-06ba-4adf-8713-17e38a627cc6",
   "metadata": {},
   "source": [
    "Since we will be dealing with discrete variables a lot, it will be useful to also draw barplot, with the method `bar`:"
   ]
  },
  {
   "cell_type": "code",
   "execution_count": 75,
   "id": "b6d608b0-e687-4f9f-85f3-3a0f15e3c310",
   "metadata": {},
   "outputs": [
    {
     "data": {
      "image/png": "[encoded data removed]",
      "text/plain": [
       "<Figure size 432x288 with 1 Axes>"
      ]
     },
     "metadata": {
      "needs_background": "light"
     },
     "output_type": "display_data"
    }
   ],
   "source": [
    "fig, axes = plt.subplots()\n",
    "\n",
    "# create some new data to plot\n",
    "# don't worry too much if you don't understand this line\n",
    "x_bar = y_bar = np.arange(10)\n",
    "\n",
    "# create a bar plot with the given\n",
    "# x and height values\n",
    "axes.bar(x_bar, y_bar)\n",
    "\n",
    "# show the plot\n",
    "plt.show()"
   ]
  },
  {
   "cell_type": "markdown",
   "id": "c9e128f9-58a7-452a-9218-63d679d61cde",
   "metadata": {},
   "source": [
    "We will also need to know what we are plotting, so we need to change the labels on the x-axis:"
   ]
  },
  {
   "cell_type": "code",
   "execution_count": 77,
   "id": "37bb006a-d6d8-4e55-a840-65b707bb9430",
   "metadata": {},
   "outputs": [
    {
     "data": {
      "image/png": "[encoded data removed]",
      "text/plain": [
       "<Figure size 432x288 with 1 Axes>"
      ]
     },
     "metadata": {
      "needs_background": "light"
     },
     "output_type": "display_data"
    }
   ],
   "source": [
    "fig, axes = plt.subplots()\n",
    "\n",
    "# create some new data to plot\n",
    "# don't worry too much if you don't understand this line\n",
    "x_bar = y_bar = np.arange(10)\n",
    "\n",
    "# create a bar plot with the given\n",
    "# x and height values\n",
    "axes.bar(x_bar, y_bar)\n",
    "\n",
    "# define some labels for each x value\n",
    "# don't worry if you don't understand this line\n",
    "x_tick_labels = [f'lab-{x}' for x in range(len(x_bar))]\n",
    "\n",
    "# tell plt that we'll specify one tick for each bar\n",
    "axes.set_xticks(range(len(x_bar)))\n",
    "\n",
    "# set the tick labels\n",
    "axes.set_xticklabels(x_tick_labels)\n",
    "\n",
    "# show the plot\n",
    "plt.show()"
   ]
  },
  {
   "cell_type": "markdown",
   "id": "f32fcbd6-f244-4738-949c-6984a139651d",
   "metadata": {},
   "source": [
    "## Classes, what's the idea?"
   ]
  },
  {
   "cell_type": "markdown",
   "id": "35ffd8b5-eb87-4319-8c77-db90da53576e",
   "metadata": {},
   "source": [
    "We talked above about how we use functions because we don't want to rewrite the same stuff over and over again. But suppose that you don't want to just repeat a function, but a whole collection of functions and properties that can depend on each other. Then, you could define a class. In this light, a class is a _template for an object_, where an object has specific values for those variables that you left unspecified in the class.\n",
    "\n",
    "Let's consider an example to make the explanation above clearer (as it often happens, the definitions are interdependent and the best way is to see how the terms are used in practice). Suppose we want to write a program that models students at a university. A very natural way of structuring this program is to have variables that correspond to students, e.g., one variable called `mark` for Mark, etc. \n",
    "\n",
    "What type should these variables be? Clearly they're not integers, or strings, or floats. Ideally we'd want to have a _student_ type with its own methods that we can freely define. In other words, we want to have a `Student` class (Note: class names always start with a capital letter in pyhon by convention), which can produce specific `student` objects (`mark`, etc.). Here's how we can define it in python:"
   ]
  },
  {
   "cell_type": "code",
   "execution_count": 101,
   "id": "7e029ecc-f49e-4f24-a420-04c2f846fee6",
   "metadata": {},
   "outputs": [],
   "source": [
    "# a class is defined with the keyword 'class'\n",
    "# followed by the name of the class \n",
    "# (remember: first letter capitalized!)\n",
    "class Student:\n",
    "    \n",
    "    # __init__ is a special function\n",
    "    # that gets called when a new object\n",
    "    # is created from the class.\n",
    "    # 'self' contains the properties\n",
    "    # and methods defined in the class itself\n",
    "    # and is passed to every function in the class\n",
    "    def __init__(self, name, age):\n",
    "        # define some class attributed\n",
    "        # to store data about the student\n",
    "        self.name = name\n",
    "        self.age = age\n",
    "        self.grades = []\n",
    "        \n",
    "    # define a new function that we can \n",
    "    # use to record new grades that a student got.\n",
    "    # This function takes a grade and\n",
    "    # adds it to the student's record.\n",
    "    def add_grade(self, grade):\n",
    "        # The grades record is a list.\n",
    "        # Append the new grade to the list!\n",
    "        self.grades.append(grade)\n",
    "        \n",
    "    def average_grade(self):\n",
    "        # Calculate the average of the grades\n",
    "        # recorded in the grades list\n",
    "        # and return the resulting mean.\n",
    "        return np.mean(self.grades)"
   ]
  },
  {
   "cell_type": "markdown",
   "id": "74123315-1aea-4ff2-9cde-1f225455ec0e",
   "metadata": {},
   "source": [
    "Now we can see the notation for instantiating a specific object (in this case, a student called 'Mark') from a class:"
   ]
  },
  {
   "cell_type": "code",
   "execution_count": 100,
   "id": "cea992d9-045a-4083-a9f0-c9ad9ace7b01",
   "metadata": {},
   "outputs": [
    {
     "name": "stdout",
     "output_type": "stream",
     "text": [
      "1.15\n"
     ]
    }
   ],
   "source": [
    "# an object is defined by calling \n",
    "# the class name with the arguments\n",
    "# defined in the __init__ function\n",
    "mark = Student('mark', 22)\n",
    "\n",
    "# add some grade to Mark\n",
    "mark.add_grade(1.3)\n",
    "mark.add_grade(1.0)\n",
    "\n",
    "# print Mark's average grade\n",
    "print(mark.average_grade())"
   ]
  },
  {
   "cell_type": "markdown",
   "id": "19f95cf3-8097-427d-9e97-e0b71f08e0c1",
   "metadata": {},
   "source": [
    "You don't need to understand everything about classes, and you won't have to define one from scratch, but we'll have to adapt them as part of working with Piantadosi's LOTlib3 library. If you want to read more about classes in python [here is the documentation](https://docs.python.org/3/tutorial/classes.html) and here is [another explanation of the basic idea](https://towardsdatascience.com/introduction-to-python-classes-da526ff745df). "
   ]
  },
  {
   "cell_type": "code",
   "execution_count": null,
   "id": "9a8ff2bd-7e6c-4ea3-b81e-c21924c29e0c",
   "metadata": {},
   "outputs": [],
   "source": []
  },
  {
   "cell_type": "markdown",
   "id": "783304fe-5c58-42af-80e2-b21d29320b5f",
   "metadata": {},
   "source": [
    "## Error handling"
   ]
  },
  {
   "cell_type": "markdown",
   "id": "66e2375e-5c55-49e9-8506-4bd94c12dd57",
   "metadata": {},
   "source": [
    "As you have already seen above, if something goes wrong sometimes python raises an _error_. For instance, above we have encountered `RecursionError: maximum recursion depth exceeded`. However, there are other types of errors in python, for instance if you try to get an element from an index that's too high for a list:"
   ]
  },
  {
   "cell_type": "code",
   "execution_count": 102,
   "id": "601d55b8-a14b-4b36-b4d0-6010124b750a",
   "metadata": {},
   "outputs": [
    {
     "ename": "IndexError",
     "evalue": "list index out of range",
     "output_type": "error",
     "traceback": [
      "\u001b[0;31m---------------------------------------------------------------------------\u001b[0m",
      "\u001b[0;31mIndexError\u001b[0m                                Traceback (most recent call last)",
      "Input \u001b[0;32mIn [102]\u001b[0m, in \u001b[0;36m<cell line: 2>\u001b[0;34m()\u001b[0m\n\u001b[1;32m      1\u001b[0m a \u001b[38;5;241m=\u001b[39m [\u001b[38;5;241m1\u001b[39m, \u001b[38;5;241m3\u001b[39m, \u001b[38;5;241m4\u001b[39m]\n\u001b[0;32m----> 2\u001b[0m \u001b[38;5;28mprint\u001b[39m(\u001b[43ma\u001b[49m\u001b[43m[\u001b[49m\u001b[38;5;241;43m3\u001b[39;49m\u001b[43m]\u001b[49m)\n",
      "\u001b[0;31mIndexError\u001b[0m: list index out of range"
     ]
    }
   ],
   "source": [
    "a = [1, 3, 4]\n",
    "print(a[3])"
   ]
  },
  {
   "cell_type": "markdown",
   "id": "4d63a4ae-020e-4048-b5ff-b2f966fa7ae7",
   "metadata": {},
   "source": [
    "In general, errors help us understand what went wrong with our code. However, in python they can also be used as part of the program flow. Specifically, we might predict a situation that causes a specific error and write in the code what we want to happen is such a situation occurs. Here's how we do it:"
   ]
  },
  {
   "cell_type": "code",
   "execution_count": 106,
   "id": "23115b86-d7bc-4d30-a7c9-85684a8b9d5d",
   "metadata": {},
   "outputs": [
    {
     "name": "stdout",
     "output_type": "stream",
     "text": [
      "1, 2, 4, 5, Finished: There are fewer than 10 elements in the list!\n"
     ]
    }
   ],
   "source": [
    "a = [1, 2, 4, 5]\n",
    "\n",
    "# warn python that the indented code\n",
    "# might contain an error\n",
    "try:\n",
    "    for i in range(10):\n",
    "        print(a[i], end=', ')\n",
    "# tell python what to do in case\n",
    "# a specific kind of error occurs\n",
    "# In this case, an IndexError\n",
    "except IndexError:\n",
    "    print('Finished: There are fewer than 10 elements in the list!')"
   ]
  },
  {
   "cell_type": "markdown",
   "id": "1b577f43-9e83-463d-9034-42e5eb3c02b8",
   "metadata": {},
   "source": [
    "Here's another error you should be familiar with (it will come up again later in the course!)"
   ]
  },
  {
   "cell_type": "code",
   "execution_count": 107,
   "id": "a3be69d0-11b1-4218-b59d-c118a01e06a5",
   "metadata": {},
   "outputs": [
    {
     "ename": "ZeroDivisionError",
     "evalue": "division by zero",
     "output_type": "error",
     "traceback": [
      "\u001b[0;31m---------------------------------------------------------------------------\u001b[0m",
      "\u001b[0;31mZeroDivisionError\u001b[0m                         Traceback (most recent call last)",
      "Input \u001b[0;32mIn [107]\u001b[0m, in \u001b[0;36m<cell line: 1>\u001b[0;34m()\u001b[0m\n\u001b[0;32m----> 1\u001b[0m \u001b[38;5;241;43m1\u001b[39;49m\u001b[38;5;241;43m/\u001b[39;49m\u001b[38;5;241;43m0\u001b[39;49m\n",
      "\u001b[0;31mZeroDivisionError\u001b[0m: division by zero"
     ]
    }
   ],
   "source": [
    "1/0"
   ]
  },
  {
   "cell_type": "markdown",
   "id": "2290b14c-8b01-4b48-ab2c-ebb883094fdc",
   "metadata": {},
   "source": [
    "And how we can deal with it:"
   ]
  },
  {
   "cell_type": "code",
   "execution_count": 108,
   "id": "5bfa00f5-8696-4014-8000-b4506c2645e5",
   "metadata": {},
   "outputs": [
    {
     "name": "stdout",
     "output_type": "stream",
     "text": [
      "undefined\n"
     ]
    }
   ],
   "source": [
    "a = 0\n",
    "\n",
    "try:\n",
    "    print(5 / a)\n",
    "except ZeroDivisionError:\n",
    "    print('undefined')"
   ]
  },
  {
   "cell_type": "markdown",
   "id": "512b28e3-e608-49c4-a13a-69c10fe1b3c2",
   "metadata": {},
   "source": [
    "# First homeworks set"
   ]
  },
  {
   "cell_type": "markdown",
   "id": "9a5ee7fa-7147-46ed-b8bb-6593eadeaec0",
   "metadata": {},
   "source": [
    "- Write a function to sum three numbers.\n",
    "- Write a $\\lambda$ function to sum three numbers.\n",
    "- Write a recursive function that calculates the factorial function for $n$, written $n!$, and defined as follows:\n",
    "\n",
    "\\begin{align}\n",
    "    1! &= 1 \\\\\n",
    "    n! &= n \\times (n-1)!\n",
    "\\end{align}\n",
    "\n",
    "- Write a recursive function `interpret` that takes a string that consists of a series of `¬` followed by a single `a` (`a`, `¬a`, `¬¬a`, `¬¬¬a`, etc) and is defined as follows:\n",
    "\n",
    "\\begin{align}\n",
    "    \\text{interpret}(x) &= 1                             & \\text{if } x = \\text{'a'} \\\\\n",
    "                        &= 1 - \\text{interpret(x[1:])}   & \\text{else}\n",
    "\\end{align}\n",
    "    (do you see how this corresponds to the semantics of Boolean negation?)\n",
    "\n",
    "- Rewrite the factorial function and `interpret` using `recursive_function` and `apply_inside` rather than explicit recursion.\n",
    "- Make a scatterplot of the first 10 strings interpreted by `interpret`  (`a`, `¬a`, `¬¬a`, `¬¬¬a`, etc): the x-axis shows the strings in order and the y-axis shows the result of `interpret` for the corresponding string.\n",
    "- Define a `Teacher` class that contains a record of the students that the teacher taught to, as well as the average grade the teacher gave to all the students.\n",
    "- Google how to read a text file and print out its content. Write code that does this, but using the `try ... except ...` statements prints 'File does not exist!' if the file does not exist."
   ]
  }
 ],
 "metadata": {
  "kernelspec": {
   "display_name": "pLoT",
   "language": "python",
   "name": "plot"
  },
  "language_info": {
   "codemirror_mode": {
    "name": "ipython",
    "version": 3
   },
   "file_extension": ".py",
   "mimetype": "text/x-python",
   "name": "python",
   "nbconvert_exporter": "python",
   "pygments_lexer": "ipython3",
   "version": "3.10.2"
  }
 },
 "nbformat": 4,
 "nbformat_minor": 5
}
