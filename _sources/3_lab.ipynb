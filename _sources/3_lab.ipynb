{
 "cells": [
  {
   "cell_type": "markdown",
   "id": "2defd266-cc5b-48c6-aeca-9f6c1466885f",
   "metadata": {},
   "source": [
    "# More python!"
   ]
  },
  {
   "cell_type": "markdown",
   "id": "fe992bae-8e77-4b29-a873-ceab35b94409",
   "metadata": {},
   "source": [
    "Last week, we have seen some basic python, which you should be familiar with by now. This includes comments, data types and some of the operators that can be used with them, and other tids and bits.\n",
    "\n",
    "This week, we're going to look at some slightly more complex topics that are needed to work with the code in the second section of the course. Specifically, some concepts that we need to use Piantadosi's LOTlib3 library."
   ]
  },
  {
   "cell_type": "markdown",
   "id": "b6b8d405-5090-44dd-b09b-59c736af59af",
   "metadata": {},
   "source": [
    "## Importing and using libraries"
   ]
  },
  {
   "cell_type": "markdown",
   "id": "6856e92b-e231-4dca-8638-bc61a5549e20",
   "metadata": {},
   "source": [
    "### What is a library?"
   ]
  },
  {
   "cell_type": "markdown",
   "id": "124370f0-3a56-43f6-a9ac-9e7a38744ab1",
   "metadata": {},
   "source": [
    "Roughly, a library is a collection of useful stuff. This can include functions / variables / classes / other stuff. For instance, to do maths in python we usually import the 'numpy' library, to do plotting we use 'matplotlib' or 'seaborn', etc. LOTlib3, which we will use in the second half of this course, is one such library.\n",
    "\n",
    "Using libraries allows us to not rewrite stuff that someone else has already written."
   ]
  },
  {
   "cell_type": "markdown",
   "id": "9d81e1a5-7761-430d-a281-80aaa28c4f45",
   "metadata": {},
   "source": [
    "### How do we import and use libraries?"
   ]
  },
  {
   "cell_type": "markdown",
   "id": "7d886c4c-7077-4585-8c74-dcd07c366e85",
   "metadata": {},
   "source": [
    "To import a library we write `import` follows by the name of the library, as follows:\n",
    "```python\n",
    "import numpy\n",
    "```\n",
    "\n",
    "To use the stuff in the library we use the library name followed by a dot followed by the name of what we want from the library. For instance:\n",
    "```python\n",
    "numpy.pi\n",
    "```\n",
    "to get the number $\\pi$.\n",
    "\n",
    "However, often we do not want to use the full name of the library, but rather some abbreviation. In this case, we can write as follows:\n",
    "```python\n",
    "import numpy as np\n",
    "```\n",
    "and then we can just write:\n",
    "```python\n",
    "np.pi\n",
    "```\n",
    "which is shorter.\n",
    "\n",
    "If we do not want the full library but rather just one thing from it, we can write:\n",
    "```python\n",
    "from numpy import pi\n",
    "```\n",
    "and then we can just use `pi` directly without needing the `np.`. "
   ]
  },
  {
   "cell_type": "markdown",
   "id": "df4a4eef-e3f4-4782-a93c-a95b752dcf78",
   "metadata": {},
   "source": [
    "However, note that we need to "
   ]
  },
  {
   "cell_type": "markdown",
   "id": "ed7c1c53-d559-4f46-8e21-0974ecba391c",
   "metadata": {},
   "source": [
    "## Functions"
   ]
  },
  {
   "cell_type": "markdown",
   "id": "4223da5e-193f-4690-967d-035243962243",
   "metadata": {},
   "source": [
    "### What is a function?"
   ]
  },
  {
   "cell_type": "code",
   "execution_count": null,
   "id": "e657ba0a-bbb1-40ad-a443-4aefd188c51f",
   "metadata": {},
   "outputs": [],
   "source": []
  },
  {
   "cell_type": "markdown",
   "id": "b76d1fb6-ec60-44fd-9b43-a679e469f07f",
   "metadata": {},
   "source": [
    "### Standard function definition in python"
   ]
  },
  {
   "cell_type": "code",
   "execution_count": null,
   "id": "436dffa7-3884-4eef-bb94-f9f6e3dbd1ea",
   "metadata": {},
   "outputs": [],
   "source": []
  },
  {
   "cell_type": "markdown",
   "id": "a25f61fe-ae40-47cb-ba90-f482b3714a9c",
   "metadata": {},
   "source": [
    "### Calling a function"
   ]
  },
  {
   "cell_type": "code",
   "execution_count": null,
   "id": "acc46d7f-b235-44ef-aa3e-13b5dd87e519",
   "metadata": {},
   "outputs": [],
   "source": []
  },
  {
   "cell_type": "markdown",
   "id": "7f0959db-f6cb-4d47-8ef9-638e9aca6027",
   "metadata": {},
   "source": [
    "### $\\lambda$ ('lambda') functions"
   ]
  },
  {
   "cell_type": "code",
   "execution_count": null,
   "id": "5a779131-5a37-4f72-8626-4afc227d9c24",
   "metadata": {},
   "outputs": [],
   "source": []
  },
  {
   "cell_type": "markdown",
   "id": "d025f0af-cae9-488a-b63d-6833a4f9fbf6",
   "metadata": {},
   "source": [
    "### Recursive functions"
   ]
  },
  {
   "cell_type": "code",
   "execution_count": null,
   "id": "b3336f1f-59ff-40c5-a536-5d03ec0cf885",
   "metadata": {},
   "outputs": [],
   "source": []
  },
  {
   "cell_type": "markdown",
   "id": "7ce50c82-c5da-43e4-a9a6-744f7fe2a4c4",
   "metadata": {},
   "source": [
    "## Plotting in Matplotlib"
   ]
  },
  {
   "cell_type": "code",
   "execution_count": null,
   "id": "a096eaa7-6c4e-4703-9042-7f84815fb588",
   "metadata": {},
   "outputs": [],
   "source": []
  },
  {
   "cell_type": "markdown",
   "id": "f32fcbd6-f244-4738-949c-6984a139651d",
   "metadata": {},
   "source": [
    "## Classes"
   ]
  },
  {
   "cell_type": "markdown",
   "id": "df3c1529-9e02-44a9-b31e-917d8cb8f3ea",
   "metadata": {},
   "source": [
    "### What is a class, intuitively?"
   ]
  },
  {
   "cell_type": "code",
   "execution_count": null,
   "id": "7e029ecc-f49e-4f24-a420-04c2f846fee6",
   "metadata": {},
   "outputs": [],
   "source": []
  },
  {
   "cell_type": "markdown",
   "id": "1abd7dfd-74c4-44c0-8b05-8abcf2886c94",
   "metadata": {},
   "source": [
    "### How to define a class"
   ]
  },
  {
   "cell_type": "code",
   "execution_count": null,
   "id": "9a8ff2bd-7e6c-4ea3-b81e-c21924c29e0c",
   "metadata": {},
   "outputs": [],
   "source": []
  },
  {
   "cell_type": "markdown",
   "id": "0fc87332-11d8-4f52-b9bb-79b6634167f5",
   "metadata": {},
   "source": [
    "### Instantiating an 'object' from a 'class'"
   ]
  },
  {
   "cell_type": "code",
   "execution_count": null,
   "id": "dd734c3d-c3c1-4e3b-9d74-7023d867143c",
   "metadata": {},
   "outputs": [],
   "source": []
  },
  {
   "cell_type": "markdown",
   "id": "783304fe-5c58-42af-80e2-b21d29320b5f",
   "metadata": {},
   "source": [
    "## Error handling"
   ]
  },
  {
   "cell_type": "markdown",
   "id": "18662554-1bcd-4ad3-be68-a56855dfe7f9",
   "metadata": {},
   "source": [
    "### What's an error and what types of errors are there?"
   ]
  },
  {
   "cell_type": "code",
   "execution_count": null,
   "id": "3d527554-3694-4b71-b7bf-94ad39f0886f",
   "metadata": {},
   "outputs": [],
   "source": []
  },
  {
   "cell_type": "markdown",
   "id": "c248f820-941e-48ea-89b0-c98786f7f588",
   "metadata": {},
   "source": [
    "### try ... except ..."
   ]
  },
  {
   "cell_type": "code",
   "execution_count": null,
   "id": "39bf5d3e-1031-429f-83a2-ce8dccbb0f6e",
   "metadata": {},
   "outputs": [],
   "source": []
  }
 ],
 "metadata": {
  "kernelspec": {
   "display_name": "pLoT",
   "language": "python",
   "name": "plot"
  },
  "language_info": {
   "codemirror_mode": {
    "name": "ipython",
    "version": 3
   },
   "file_extension": ".py",
   "mimetype": "text/x-python",
   "name": "python",
   "nbconvert_exporter": "python",
   "pygments_lexer": "ipython3",
   "version": "3.10.2"
  }
 },
 "nbformat": 4,
 "nbformat_minor": 5
}
