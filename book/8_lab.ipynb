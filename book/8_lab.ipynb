{
 "cells": [
  {
   "cell_type": "markdown",
   "id": "08e45eee-6888-4947-be6c-b248ec58598e",
   "metadata": {
    "tags": []
   },
   "source": [
    "# The LOTlib3 library"
   ]
  },
  {
   "cell_type": "markdown",
   "id": "17559afa-ed12-45bb-81ff-6b86b6aa4017",
   "metadata": {},
   "source": [
    "> __**NOTE**__ This is based on Piantadosi's introduction to LOTlib3, which you can find [here](https://github.com/piantado/LOTlib3/blob/master/Documentation/Tutorial.md)."
   ]
  },
  {
   "cell_type": "code",
   "execution_count": 2,
   "id": "5e320148-a0d3-4c41-b3af-cd32de94adec",
   "metadata": {},
   "outputs": [
    {
     "name": "stdout",
     "output_type": "stream",
     "text": [
      "Not in colab!\n"
     ]
    }
   ],
   "source": [
    "try:\n",
    "    # in colab\n",
    "    import google.colab\n",
    "    print('In colab, downloading LOTlib3')\n",
    "    !git clone https://github.com/thelogicalgrammar/LOTlib3\n",
    "except:\n",
    "    # not in colab\n",
    "    print('Not in colab!')"
   ]
  },
  {
   "cell_type": "markdown",
   "id": "0739fd07-4f8b-4954-8f68-ad8fc73bf69c",
   "metadata": {},
   "source": [
    "## Setting up a domain & an inference problem"
   ]
  },
  {
   "cell_type": "markdown",
   "id": "f1daa979-19f2-468c-9f92-b270f11ea3ad",
   "metadata": {},
   "source": [
    "LOTlib3 is an inference library. Specifically, it infers compositions of functions from observations of inputs-outputs or just outputs (if there is no input). Today we will consider a simple inference problem and how to solve it using LOTlib3. "
   ]
  },
  {
   "cell_type": "markdown",
   "id": "8486ac28-6b93-46bc-ae8f-552cc396a7d9",
   "metadata": {},
   "source": [
    "### A simple domain"
   ]
  },
  {
   "cell_type": "markdown",
   "id": "b156e2a8-a852-40fa-84db-869eea7f0ecb",
   "metadata": {},
   "source": [
    "Suppose that you know some basic arithmetic operations, our _primitives_ in this domain: \n",
    "- addition (+)\n",
    "- subtraction (-)\n",
    "- multiplication (*)\n",
    "- division (/)\n",
    "\n",
    "We can use these primitives to define a simple CFG:\n",
    "$$\n",
    "S \\to (S + S) \\mid (S - S) \\mid (S * S) \\mid (S / S) \\mid 1 \\mid ... \\mid 10 \n",
    "$$\n",
    "\n",
    "Each production of this CFG can be interpreted into a (rationa) number. The interpretation of this CFG is given by usual arithmetic. Note that it is possible to encode any number with an infinite variety of possible expressions in this CFG. For instance, 12 may be written as $(1+1) * 6$, or it may have been written as $1 + 11$, or $2 * 3 * 2$, etc.:\n",
    "\n",
    "\\begin{align}\n",
    "(1+1) * 6 &= 12 \\\\\n",
    "12+(1-1+1-1+1-1+1-1+1-1+1-1+1-1+1-1) &= 12\n",
    "\\end{align}\n",
    "\n",
    "In order to transform this CFG into a PCFG, we need to assign a probability to each production rule. A natural way of doing it is as follows (with unnormalized probabilities):\n",
    "\\begin{align}\n",
    "(S + S) & \\to 1.0 &\\text{Operators get the same probability} \\\\\n",
    "(S - S) & \\to 1.0 \\\\\n",
    "(S * S) & \\to 1.0 \\\\\n",
    "(S / S) & \\to 1.0 \\\\\n",
    "1 & \\to 10*\\frac{1}{1^2} &\\text{Numerals get different probabilities} \\\\\n",
    "&... \\\\\n",
    "10 & \\to 10*\\frac{1}{10^2} \n",
    "\\end{align}\n",
    "We use probability $\\frac{1}{n^2}$ for numeral $n$ so that numerals referring to smaller numbers get a higher prior probability of appearing in a formula, but we also multiply all probabilities by 10 to increase the total probability of producing a numeral over the other productions."
   ]
  },
  {
   "cell_type": "markdown",
   "id": "1dbd9f7f-8359-49ac-acb7-887a4da53f73",
   "metadata": {},
   "source": [
    "Here is a possible production from this grammar:\n",
    "\n",
    "\\begin{align}\n",
    "S\n",
    "&\\to (S+S) \\\\\n",
    "&\\to ((S/S)+S) \\\\\n",
    "&\\to ((1/S)+S) \\\\\n",
    "&\\to ((1/(S-S))+S) \\\\\n",
    "&\\to ((1/(2-S))+S) \\\\\n",
    "&\\to ((1/(2-1))+S) \\\\\n",
    "&\\to ((1/(2-1))+(S-S)) \\\\\n",
    "&\\to ((1/(2-1))+(4-S)) \\\\\n",
    "&\\to ((1/(2-1))+(4-2)) \\\\\n",
    "\\end{align}\n",
    "\n",
    "And this expression evaluates to the number 3!"
   ]
  },
  {
   "cell_type": "markdown",
   "id": "e270faf8-2a8b-4ef6-a684-48d63cad1869",
   "metadata": {},
   "source": [
    "This should all be familiar from previous classes. However, now we add something new, which is at the very core of the LoT project. Suppose you have the following problem: You observe a number, and you want to infer which formula in the PCFG above generated it. To address this problem, we will need to combine all the topics we have covered so far. The general plan is:\n",
    "1. We define a PCFG, which gives us a prior probability $P(s)$ over productions $s$ from the CFG.\n",
    "2. We define a likelihood function $P(o \\mid s)$, which gives us the probability of an observation (or set of observations) $o$ given a production $s$ from the PCFG.\n",
    "3. Given some data $o$, we run approximated Bayesian inference to find a posterior distribution $P(s \\mid o)$.\n",
    "\n",
    "For instance, suppose you observe the single number 12. There are lots of ways (infinitely many) to generate 12.  Which one is correct?  Ay composition of addition, subtraction, multiplication, etc. that outputs a 12 would be _consistent_ with the data. However, some seem more plausible than others. For instance it might be unlikely the 12 was generated as $12+(1-1+1-1+1-1+1-1)$ as it seems an unnecessarily complex way to arrive at 12.  LOTLib3 is designed to help you make sensible decisions about which compositions of functions likely explain a particular set of outputs or input-output pairs."
   ]
  },
  {
   "cell_type": "markdown",
   "id": "183e3798-42fc-40ea-989a-3add0775d0b6",
   "metadata": {},
   "source": [
    "### Defining a domain grammar"
   ]
  },
  {
   "cell_type": "markdown",
   "id": "e008f8b1-9ad3-42bd-9713-f1fefaa32b7b",
   "metadata": {},
   "source": [
    "The general strategy of LOTlib3 models is to start by specifying a probabilistic context-free grammar (with one small exception described below) that specifies a prior distribution on trees, or equivalently compositional structures like $(1+1)*6$, $2+2+2+2+2+2$, $(1+1)+(2*5)$, etc. We set the grammar up so that each production from it will be a valid Python expression, which can be interpreted automatically rather than manually.\n",
    "\n",
    "Let's see how to construct a simple example grammar step-by-step. First, we import the Grammar class:"
   ]
  },
  {
   "cell_type": "code",
   "execution_count": null,
   "id": "03f77753-cd8b-4df6-b4b9-89d8b377b715",
   "metadata": {},
   "outputs": [],
   "source": [
    "from LOTlib3.Grammar import Grammar"
   ]
  },
  {
   "cell_type": "markdown",
   "id": "832aa489-1d68-4da2-93a3-d0bce925912d",
   "metadata": {},
   "source": [
    "Second, we define a grammar object (By default this has a start symbol called 'START' but we want to call it 'EXPR'):"
   ]
  },
  {
   "cell_type": "code",
   "execution_count": 24,
   "id": "03ee2f40-7b10-4807-ad3f-de82cb826f91",
   "metadata": {},
   "outputs": [],
   "source": [
    "grammar = Grammar(start='EXPR')"
   ]
  },
  {
   "cell_type": "markdown",
   "id": "26cd1532-b3b1-4b78-8197-ed35f71829ed",
   "metadata": {},
   "source": [
    "The `grammar` object will contain the information about our PCFG.\n",
    "\n",
    "Third, we add the substitution rules to the grammar, along with the (unnormalized) probabilities of each rule:"
   ]
  },
  {
   "cell_type": "code",
   "execution_count": 25,
   "id": "4da69aac-20df-4ed9-af3a-39ef91645fb3",
   "metadata": {},
   "outputs": [],
   "source": [
    "# Define some operations\n",
    "grammar.add_rule('EXPR', '(%s + %s)', ['EXPR', 'EXPR'], 1.0)\n",
    "grammar.add_rule('EXPR', '(%s * %s)', ['EXPR', 'EXPR'], 1.0)\n",
    "grammar.add_rule('EXPR', '(float(%s) / float(%s))', ['EXPR', 'EXPR'], 1.0)\n",
    "grammar.add_rule('EXPR', '(-%s)', ['EXPR'], 1.0)\n",
    "\n",
    "# And define some numbers. We'll give them a 1/(n^2) probability\n",
    "for n in range(1,10):\n",
    "    grammar.add_rule('EXPR', str(n), None, 10.0/(n**2))"
   ]
  },
  {
   "attachments": {},
   "cell_type": "markdown",
   "id": "2b438596-1e0a-4c03-8768-04697329ff10",
   "metadata": {},
   "source": [
    "The grammar rules have the format:\n",
    "```python\n",
    "grammar.add_rule( <NONTERMINAL>, <FUNCTION>, <ARGUMENTS>, <PROBABILITY>)\n",
    "```\n",
    "where:\n",
    "- `<NONTERMINAL>` says what nonterminal this rule is expanding (the left side of a substitution rule). In this example, there is only one kind of nonterminal, an expression (denoted `EXPR`).\n",
    "- `<FUNCTION>` does two things at once: first, it defines the right side of the substitution rule, and second it specifies the its interpretation (the Python function that this rule represents). `<FUNCTION>` is a string which contain either predefined functions in LOTlib3 or some other valid Python code. In the latter case (as in the example above), the string can contain a `%s` wherever there is a nonterminal in the substitution.\n",
    "- `<ARGUMENTS>` specifies which nonterminal(s) appear in the right-hand side of the substitution described in `<FUNCTION>`. `<ARGUMENTS>` is a list containing one element for each `%s` in `<FUNCTION>`. Each `%s` in `<FUNCTION>` gets substituted via string substitution with the corresponding nonterminal in `<ARGUMENTS>`. For instance,  if `<FUNCTION>` is `(%s+%s)` and `<ARGUMENTS>` is `['EXPR', 'EXPR']`, the whole right side of the replacement rule is `EXPR + EXPR`, and it is interpreted as the function `lambda x,y: x+y`. Note that the `<FUNCTION>` string can be pretty complex. For division, we have `(float(%s) / float(%s))`, using some Python operations.\n",
    "- NOTE: A generation from the grammar is interpreted with `eval`, which is why we can use Python expressions.\n",
    "- A terminal is any rule with `None` or an empty list as `<ARGUMENTS>`.\n",
    "\n",
    "If the `<FUNCTION>` is a terminal that does not take arguments (as in the numbers 0..9), the `<ARGUMENTS>` part of a rule should be None. None is very different from an empty list, since an empty list corresponds to a function with zero arguments, while None to a constant expression (not a function):\n",
    "```\n",
    "grammar.add_rule('EXPR', 'hello', None, 1.0)\n",
    "```\n",
    "renders into the program `hello` but \n",
    "```\n",
    "grammar.add_rule('EXPR', 'hello', [], 1.0)\n",
    "```\n",
    "renders into `hello()`.\n",
    "    \n",
    "We can see some productions from this grammar if we call `Grammar.generate`. We will also show the probability of this tree according to the grammar, which is computed by renormalizing the `<PROBABILITY>` values of each rule when expanding each nonterminal:"
   ]
  },
  {
   "cell_type": "code",
   "execution_count": 19,
   "id": "a63004e1-be3f-4f67-9712-218731f69ec7",
   "metadata": {},
   "outputs": [
    {
     "name": "stdout",
     "output_type": "stream",
     "text": [
      "-3.8814440645728694 5\n",
      "-0.6625682397046684 1\n",
      "-2.048862600824559 2\n",
      "-19.92698669181795 (3 * (-(float(1) / float((5 + 1)))))\n",
      "-0.6625682397046684 1\n",
      "-3.43515696194445 4\n",
      "-2.048862600824559 2\n",
      "-3.6277215724033827 (-1)\n",
      "-0.6625682397046684 1\n",
      "-0.6625682397046684 1\n"
     ]
    }
   ],
   "source": [
    "for _ in range(10):\n",
    "    t = grammar.generate()\n",
    "    print(grammar.log_probability(t), t)"
   ]
  },
  {
   "cell_type": "markdown",
   "id": "fc592694-ab85-4ba8-8a33-4d0afbe42e66",
   "metadata": {},
   "source": [
    "As you can see, the longer/bigger trees have lower (more negative) probabilities, implementing essentially a simplicity bias. These PCFG probabilities will often be our prior for Bayesian inference. \n",
    "\n",
    "Note that even though each `t` is a tree (a hierarchy of `LOTlib3.FunctionNodes`), it renders nicely above as a string. This is how expressions are evaluated in Python by default. But we can see more of the internal structure using `t.fullprint()`, which shows the nonterminals, functions, and arguments at each level:\n",
    "    "
   ]
  },
  {
   "cell_type": "code",
   "execution_count": 13,
   "id": "7fd88061-24c8-4980-a735-1d4f9817fb2a",
   "metadata": {},
   "outputs": [
    {
     "name": "stdout",
     "output_type": "stream",
     "text": [
      " EXPR (%s * %s) \t None\n",
      "  .   EXPR (-%s) \t None\n",
      "  .    .   EXPR 1 \t None\n",
      "  .   EXPR (%s * %s) \t None\n",
      "  .    .   EXPR 1 \t None\n",
      "  .    .   EXPR 1 \t None\n"
     ]
    }
   ],
   "source": [
    "t = grammar.generate()\n",
    "t.fullprint()"
   ]
  },
  {
   "cell_type": "markdown",
   "id": "3ef28913-4c4e-4854-ab31-3c9ba242a142",
   "metadata": {},
   "source": [
    "There is a column in this output that should say 'None' for each row of the output.  It is ok to ignore that for now."
   ]
  },
  {
   "cell_type": "markdown",
   "id": "cce828a0-1a2c-4539-9c12-85e3f4f03c7e",
   "metadata": {},
   "source": [
    "### Defining a hypothesis"
   ]
  },
  {
   "cell_type": "markdown",
   "id": "b5087f63-7479-480a-a32a-fc88f2d08978",
   "metadata": {},
   "source": [
    "We have seen above how to specify a grammar, encoding a space of expressions and their interpretation. However, before we can run inference with some observation, we need some way of encoding functions for computing the prior and the likelihood of data, as well as other information we might need about the thing we want to infer. All this information could be stored in various way, but in LOTlib3 we encode it by defining a class (which we call the `Hypothesis` class) that inherits from a predefined `LOTHypothesis` class (there are other Hypothesis classes to inherit from but do not worry about that for now). We will call `hypotheses' the specific objects defined from this class.\n",
    "\n",
    "> __NOTE__ An hypothesis in LOTlib3 is not a _specific_ hypothesis produced by the PCFG, but rather just a way of encoding the stuff we need to run inference, including a likelihood function and a prior function. Essentially, we need it to pass information about the inference problem to the inference function.\n",
    "\n",
    "Let's look how this is done by defining a Hypothesis class `MyHypothesis` for the PCFG above:"
   ]
  },
  {
   "cell_type": "code",
   "execution_count": 112,
   "id": "d2e16e2a-a9a3-4f75-9858-8f11aebe2209",
   "metadata": {},
   "outputs": [],
   "source": [
    "from math import log, exp\n",
    "from LOTlib3.Hypotheses.LOTHypothesis import LOTHypothesis\n",
    "\n",
    "# define a hypothesis\n",
    "class MyHypothesis(LOTHypothesis):\n",
    "    \n",
    "    def __init__(self, **kwargs):\n",
    "        # initialize by running the superclass' init\n",
    "        # with the appropriate arguments.\n",
    "        LOTHypothesis.__init__(\n",
    "            self, \n",
    "            grammar=grammar, \n",
    "            display=\"lambda: %s\", \n",
    "            **kwargs\n",
    "        )\n",
    "\n",
    "    def compute_single_likelihood(self, datum):\n",
    "        \"\"\"Define the loglikelihood function P(datum | self)\"\"\"\n",
    "        # probability of a random number btw 1 and 100\n",
    "        # being observed by noise rather than the true number\n",
    "        prob_of_random_number = (1.0-datum.alpha)/100.\n",
    "        # If the hypothesis called with the datum's input\n",
    "        # is equal to the output...\n",
    "        if self(*datum.input) == datum.output:\n",
    "            # return the logprobability!\n",
    "            return log(prob_of_random_number + datum.alpha)\n",
    "        else:\n",
    "            return log(prob_of_random_number) "
   ]
  },
  {
   "cell_type": "markdown",
   "id": "0223f6cb-f0aa-41e5-aad7-cb1fbae7bdbf",
   "metadata": {},
   "source": [
    "There are a few things going on here. First, we import LOTHypothesis and use that to define the new class `MyHypothesis`. The `self` attribute of `MyHypothesis` can be called like a function, and in a specific instantiation of `MyHypothesis` that function will be the interpreted hypothesis (more on this below).\n",
    "\n",
    "Then, we define the initializer `__init__`, which calls the `__init__` of the superclass `LOTHypothesis`. The `LOTHypothesis` init takes various arguments. First, a `grammar` argument to specify a Grammar object; in our case, we specify that the grammar we want is the one defined above, `grammar`. Then, the `display` argument, which allows us to specify how we want the Hypotheses to be displayed. When we convert the value of the hypothesis into a string, it will get substituted into the `display` keyword. Here, `display=\"lambda: %s\"` means that the hypothesis will be displayed and also evaled in python as appearing after a `lambda` without any arguments.\n",
    "\n",
    "The second thing we have done when defining `MyHypothesis` is defining a method `compute_single_likelihood`. What does this function do, conceptually? It takes a single observation and returns the logarithm of the likelihood given the (currently considered) hypothesis: $P(\\mathrm{observation} \\mid \\mathrm{hypothesis})$. We get to decide what the value of this probability is. Note that in general each production from our PCFG can encode a function. In that case the observations are (input, output) tuples, where the output is obtained by running the input through the (unknown) interpreted PCFG production. Therefore, in general we need the following components to write the likelihood function:\n",
    "- An observation, containing an input, an output, and whatever other parameters we need to calculate the likelihood.\n",
    "- A way of calling the input on the currently entertained hypothesis.\n",
    "\n",
    "Practically, `compute_single_likelihood` expects an argument `datum`; `datum` must have attributes `input`, `output`, and whatever other parameters we need for the calculation of the likelihood (in this case, `alpha`). The LOTHypothesis `self` can be viewed as the function encoding the currently considered hypothesis (here, one with no arguments) and so it can be called on `datum.input`. When we construct a hypothesis object, a random production is drawn from the PCFG; when we use the hypothesis object as part of the inference, the initial hypothesis stored in the object is updated with a new production on every step of the MCMC run, and `self` (which is the interpretation of the production as a callable python function) changes accordingly; more on this below when we look at how hypothesis objects are used for inference. \n",
    "\n",
    "In the specific likelihood function defined above, we generate a random number from 1 to 100 with probability `1-datum.alpha` and the correct number with probability `datum.alpha`. Thus, when the hypothesis returns the correct value (e.g. `self(*datum.input) == datum.output`) we must add these quantities to get the total probability of producing the data. When it does not, we must return only the former. `LOTlib3.Hypotheses.Likelihoods` defines a number of other standard likelihoods, including the most commonly used  one, `BinaryLikelihood`. \n",
    "\n",
    "LOTHypothesis defines `compute_prior()` and `compute_likelihood(data)`. Essentially, `compute_likelihood` maps `compute_single_likelihood` over a list of data (treating each as independent identically-distributed conditioned on the hypothesis). So when we want to define how the likelihood works, we typically want to overwrite `compute_single_likelihood` as we have above."
   ]
  },
  {
   "cell_type": "markdown",
   "id": "e824d315-ab45-4d5b-952a-f3813885b8b2",
   "metadata": {},
   "source": [
    "### Adding 0s to the grammar"
   ]
  },
  {
   "cell_type": "markdown",
   "id": "f917d43e-cd7c-49ec-a967-3e6c784bfa35",
   "metadata": {},
   "source": [
    "As you might have noticed we did not allow the number 0 as a terminal value in our grammar.  This is because it ran the risk of a divide by zero error.  However, we might like to include all the numbers between zero and nine.  So let's change that one part of our grammar definiton by replacing the lines where the number substitution rules are defined. First, define a clean grammar and add the operators:"
   ]
  },
  {
   "cell_type": "code",
   "execution_count": 27,
   "id": "3c050eb8-ea6d-4dbc-95d6-e1b54b6523ce",
   "metadata": {},
   "outputs": [
    {
     "data": {
      "text/plain": [
       "EXPR -> (-%s)['EXPR']\tw/ p=1.0"
      ]
     },
     "execution_count": 27,
     "metadata": {},
     "output_type": "execute_result"
    }
   ],
   "source": [
    "grammar = Grammar(start='EXPR')\n",
    "\n",
    "# Define the same operations as above\n",
    "grammar.add_rule('EXPR', '(%s + %s)', ['EXPR', 'EXPR'], 1.0)\n",
    "grammar.add_rule('EXPR', '(%s * %s)', ['EXPR', 'EXPR'], 1.0)\n",
    "grammar.add_rule('EXPR', '(float(%s) / float(%s))', ['EXPR', 'EXPR'], 1.0)\n",
    "grammar.add_rule('EXPR', '(-%s)', ['EXPR'], 1.0)"
   ]
  },
  {
   "cell_type": "markdown",
   "id": "3c5b830e-eb64-4802-b111-c99ca26baf29",
   "metadata": {},
   "source": [
    "Then, add the number replacement rules including 0 with the new probabilities:"
   ]
  },
  {
   "cell_type": "code",
   "execution_count": 28,
   "id": "3151484d-1415-4a79-aac0-3db6f61d9dd6",
   "metadata": {},
   "outputs": [],
   "source": [
    "# Define some numbers. \n",
    "# We'll give them a 1/((n+1)^2) probability\n",
    "# so that 0 naturally gets a probability.\n",
    "for n in range(10):\n",
    "    grammar.add_rule('EXPR', str(n), None, 10.0/((n+1)**2))"
   ]
  },
  {
   "cell_type": "markdown",
   "id": "6ee4af2c-e23e-48b1-b8d3-cfc260d827b9",
   "metadata": {},
   "source": [
    "Now we have a problem, namely, it can happen that the grammar generates an expression like `1/0`, with a zero in the demoninator. This will generate a divide by zero error when evaluated by the Python interpreter. How do we deal with this? Fortunately, we can hack our hypothesis class to address this by catching the exception. A smart way to do this is to override `__call__` and return an appropriate value when such an error occurs:"
   ]
  },
  {
   "cell_type": "code",
   "execution_count": null,
   "id": "d334af39-00be-47b7-82be-a33a897faf68",
   "metadata": {},
   "outputs": [],
   "source": [
    "class MyHypothesis(LOTHypothesis):\n",
    "    \n",
    "    def __init__(self, **kwargs):\n",
    "        LOTHypothesis.__init__(self, grammar=grammar, display=\"lambda: %s\", **kwargs)\n",
    "        \n",
    "    def __call__(self, *args):\n",
    "        try:\n",
    "            # try to do it from the superclass\n",
    "            return LOTHypothesis.__call__(self, *args)\n",
    "        except ZeroDivisionError:\n",
    "            # and if we get an error, return nan\n",
    "            return float(\"nan\")\n",
    "\n",
    "    def compute_single_likelihood(self, datum):\n",
    "        if self(*datum.input) == datum.output:\n",
    "            return log((1.0-datum.alpha)/100. + datum.alpha)\n",
    "        else:\n",
    "            return log((1.0-datum.alpha)/100.)"
   ]
  },
  {
   "cell_type": "markdown",
   "id": "c23af079-7fb7-40ea-bac4-63eed0e48b00",
   "metadata": {},
   "source": [
    "### Defining a data storage"
   ]
  },
  {
   "cell_type": "markdown",
   "id": "8cf68c3d-5cc2-4737-9f06-a7ed78727c7c",
   "metadata": {},
   "source": [
    "Given that our hypothesis wants those kinds of data, we can then create data as follows:"
   ]
  },
  {
   "cell_type": "code",
   "execution_count": 95,
   "id": "519cc5da-b8f5-4f51-b3b7-1324976d5e9a",
   "metadata": {},
   "outputs": [],
   "source": [
    "from LOTlib3.DataAndObjects import FunctionData\n",
    "data = [ \n",
    "    # a single datum\n",
    "    FunctionData(\n",
    "        # input is empty since we are \n",
    "        # encoding a single number\n",
    "        input=[], \n",
    "        # the observation we want to encode\n",
    "        output=12, \n",
    "        # the probability of \n",
    "        # observing the true number\n",
    "        alpha=0.999\n",
    "    ) \n",
    "]"
   ]
  },
  {
   "cell_type": "markdown",
   "id": "69f5d5bc-8dae-4365-98b1-9d1179302415",
   "metadata": {},
   "source": [
    "Note here that the most natural form of data is a list--even if it is only a single element--where each element, a datum, gets passed to `compute_single_likelihood`. The data here specifies the input, output, and noise value `alpha`. Note that even though `alpha` could live as an attribute of hypotheses, it makes most sense to view it as a known part of the data. Here input is a empty list because there is no input!  Remember the example we started with was explaining a single output (the number 12).  Keep reading to understand examples with an input below!"
   ]
  },
  {
   "cell_type": "markdown",
   "id": "bacd030c-2150-41f2-8832-22c3ad5755ff",
   "metadata": {},
   "source": [
    "### Putting data in a hypothesis"
   ]
  },
  {
   "cell_type": "markdown",
   "id": "3a431a24-fc6f-4296-9ba2-c7702acca6eb",
   "metadata": {},
   "source": [
    "We may now use our definition of a hypothesis to make one. If we call the initializer without a `value` keyword, LOTHypothesis just samples it from the given grammar: "
   ]
  },
  {
   "cell_type": "code",
   "execution_count": 75,
   "id": "cf047a57-e108-43ac-ab29-8bdbde6a1937",
   "metadata": {},
   "outputs": [
    {
     "name": "stdout",
     "output_type": "stream",
     "text": [
      "-14.800602876662946 -9.210340371976182 lambda: (0 + (4 + (0 + 0)))\n"
     ]
    }
   ],
   "source": [
    "h = MyHypothesis()\n",
    "print(h.compute_prior(), h.compute_likelihood(data), h)"
   ]
  },
  {
   "cell_type": "markdown",
   "id": "19be92f4-1e68-44cd-8ac6-f67c050c57e1",
   "metadata": {},
   "source": [
    "Even better, `MyHypothesis` also inherits a `compute_posterior` function:"
   ]
  },
  {
   "cell_type": "code",
   "execution_count": 76,
   "id": "8c7af6cb-361e-4812-9c97-fb8116e25efb",
   "metadata": {},
   "outputs": [
    {
     "name": "stdout",
     "output_type": "stream",
     "text": [
      "-24.01094324863913 -14.800602876662946 -9.210340371976182 lambda: (0 + (4 + (0 + 0)))\n"
     ]
    }
   ],
   "source": [
    "print(h.compute_posterior(data), h.compute_prior(), h.compute_likelihood(data), h)"
   ]
  },
  {
   "cell_type": "markdown",
   "id": "7882a69f-f885-401d-9a1e-7d6ad41dff94",
   "metadata": {},
   "source": [
    "For convenience, when `compute_posterior` is called, it sets attributes on `h` for the prior, likelihood, and unnormalized posterior (i.e., log(prior times likelihood)):"
   ]
  },
  {
   "cell_type": "code",
   "execution_count": 77,
   "id": "f59067ae-4570-44ed-b65b-ef640e638351",
   "metadata": {},
   "outputs": [
    {
     "name": "stdout",
     "output_type": "stream",
     "text": [
      "-9.878050625235126 -0.6677102532589441 -9.210340371976182 lambda: 0\n"
     ]
    }
   ],
   "source": [
    "h = MyHypothesis()\n",
    "h.compute_posterior(data)\n",
    "print(h.posterior_score, h.prior, h.likelihood, h)"
   ]
  },
  {
   "cell_type": "markdown",
   "id": "3e5cc3d4-683d-4716-86b2-1499414114a9",
   "metadata": {},
   "source": [
    "## Running the inference"
   ]
  },
  {
   "cell_type": "markdown",
   "id": "5d8ab247-e5af-49d9-ba07-642b5a11d305",
   "metadata": {},
   "source": [
    "We are almost there. We have done the following:\n",
    "- Defined a grammar object that encodes our PCFG\n",
    "- Defined a hypothesis object which uses the grammar to calculate a prior and also includes a function to calculate a likelihood. \n",
    "- Defined a list containing data objects, which encode the observed data as well as parameters needed to calculate the likelihood.\n",
    "\n",
    "Now we can see the main point of LOTlib3: we can simply import MCMC routines and do inference over the space defined by the grammar. To do this, we first import the Metropolis Hastings sampler:"
   ]
  },
  {
   "cell_type": "code",
   "execution_count": null,
   "id": "7775e09b-718f-476a-841a-acfd8568a523",
   "metadata": {},
   "outputs": [],
   "source": [
    "from LOTlib3.Samplers.MetropolisHastings import MetropolisHastingsSampler"
   ]
  },
  {
   "cell_type": "markdown",
   "id": "66d5f0a0-5745-444e-bf59-113c9d73ac22",
   "metadata": {},
   "source": [
    "Then, we define a starting hypothesis, which internally samples an initial random guess from the PCFG:"
   ]
  },
  {
   "cell_type": "code",
   "execution_count": null,
   "id": "24edf3be-beed-46f0-a41e-9036083bddc2",
   "metadata": {},
   "outputs": [],
   "source": [
    "# define a \"starting hypothesis\". This one is essentially copied by \n",
    "# all proposers, so the sampler doesn't need to know its type or anything. \n",
    "h0 = MyHypothesis()"
   ]
  },
  {
   "cell_type": "markdown",
   "id": "adf8fa1c-f2c3-42b5-b063-681d305855e3",
   "metadata": {},
   "source": [
    "Finally, we use the sampler like an iterator. MetropolisHastingsSampler takes the hypothesis object, the observed data, and the number of posterior samples we want to take, and produces the samples using the MCMC algorithm. MetropolisHastingsSampler calls the hypothesis' `compute_posterior` so when we have an `h` we can get its prior and likelihood:"
   ]
  },
  {
   "cell_type": "code",
   "execution_count": 111,
   "id": "b4e2fd53-a454-4c80-8576-afcbc1e9cc1e",
   "metadata": {},
   "outputs": [
    {
     "name": "stdout",
     "output_type": "stream",
     "text": [
      "-13.566930079349062 -2.054004614378835 -11.512925464970227 lambda: 1\n",
      "Prior:                     0.12822040082201266\n",
      "Likelihood:                1.0000000000000016e-05\n",
      "(Unnormalized) posterior:  1.2822040082201285e-06\n",
      "Hypothesis:                lambda: 1\n",
      "Interpretation:            1\n",
      "\n",
      "-12.180635718229171 -0.6677102532589441 -11.512925464970227 lambda: 0\n",
      "Prior:                     0.5128816032880508\n",
      "Likelihood:                1.0000000000000016e-05\n",
      "(Unnormalized) posterior:  5.128816032880515e-06\n",
      "Hypothesis:                lambda: 0\n",
      "Interpretation:            0\n",
      "\n",
      "-12.180635718229171 -0.6677102532589441 -11.512925464970227 lambda: 0\n",
      "Prior:                     0.5128816032880508\n",
      "Likelihood:                1.0000000000000016e-05\n",
      "(Unnormalized) posterior:  5.128816032880515e-06\n",
      "Hypothesis:                lambda: 0\n",
      "Interpretation:            0\n",
      "\n",
      "-13.566930079349062 -2.054004614378835 -11.512925464970227 lambda: 1\n",
      "Prior:                     0.12822040082201266\n",
      "Likelihood:                1.0000000000000016e-05\n",
      "(Unnormalized) posterior:  1.2822040082201285e-06\n",
      "Hypothesis:                lambda: 1\n",
      "Interpretation:            1\n",
      "\n",
      "-12.180635718229171 -0.6677102532589441 -11.512925464970227 lambda: 0\n",
      "Prior:                     0.5128816032880508\n",
      "Likelihood:                1.0000000000000016e-05\n",
      "(Unnormalized) posterior:  5.128816032880515e-06\n",
      "Hypothesis:                lambda: 0\n",
      "Interpretation:            0\n",
      "\n",
      "-12.180635718229171 -0.6677102532589441 -11.512925464970227 lambda: 0\n",
      "Prior:                     0.5128816032880508\n",
      "Likelihood:                1.0000000000000016e-05\n",
      "(Unnormalized) posterior:  5.128816032880515e-06\n",
      "Hypothesis:                lambda: 0\n",
      "Interpretation:            0\n",
      "\n",
      "-12.180635718229171 -0.6677102532589441 -11.512925464970227 lambda: 0\n",
      "Prior:                     0.5128816032880508\n",
      "Likelihood:                1.0000000000000016e-05\n",
      "(Unnormalized) posterior:  5.128816032880515e-06\n",
      "Hypothesis:                lambda: 0\n",
      "Interpretation:            0\n",
      "\n",
      "-13.566930079349062 -2.054004614378835 -11.512925464970227 lambda: 1\n",
      "Prior:                     0.12822040082201266\n",
      "Likelihood:                1.0000000000000016e-05\n",
      "(Unnormalized) posterior:  1.2822040082201285e-06\n",
      "Hypothesis:                lambda: 1\n",
      "Interpretation:            1\n",
      "\n",
      "-12.180635718229171 -0.6677102532589441 -11.512925464970227 lambda: 0\n",
      "Prior:                     0.5128816032880508\n",
      "Likelihood:                1.0000000000000016e-05\n",
      "(Unnormalized) posterior:  5.128816032880515e-06\n",
      "Hypothesis:                lambda: 0\n",
      "Interpretation:            0\n",
      "\n",
      "-12.180635718229171 -0.6677102532589441 -11.512925464970227 lambda: 0\n",
      "Prior:                     0.5128816032880508\n",
      "Likelihood:                1.0000000000000016e-05\n",
      "(Unnormalized) posterior:  5.128816032880515e-06\n",
      "Hypothesis:                lambda: 0\n",
      "Interpretation:            0\n",
      "\n"
     ]
    }
   ],
   "source": [
    "for h in MetropolisHastingsSampler(h0, data, steps=10):\n",
    "    print(h.posterior_score, h.prior, h.likelihood, h)\n",
    "    print('Prior:                    ', exp(h.prior))\n",
    "    print('Likelihood:               ', exp(h.likelihood))\n",
    "    print('(Unnormalized) posterior: ', exp(h.posterior_score))\n",
    "    print('Hypothesis:               ', h)\n",
    "    print('Interpretation:           ', h())\n",
    "    print()"
   ]
  },
  {
   "cell_type": "markdown",
   "id": "dbece174-fdde-40a3-9664-ba09b83c163a",
   "metadata": {},
   "source": [
    "Just looking at a list of individual samples is not a very practical way of analysing the results of an MCMC run. A cleaner way of storing the posterior samples is to accumulate them in a Counter, using the hypotheses as keys and the counts as values. Let's first get the samples and put them in the counter:"
   ]
  },
  {
   "cell_type": "code",
   "execution_count": 99,
   "id": "953baa79-630a-4bfc-964f-ccffd27afee0",
   "metadata": {},
   "outputs": [],
   "source": [
    "from collections import Counter\n",
    "\n",
    "h0 = MyHypothesis()\n",
    "\n",
    "count = Counter()\n",
    "for h in MetropolisHastingsSampler(h0, data, steps=100000):\n",
    "    count[h] += 1"
   ]
  },
  {
   "cell_type": "markdown",
   "id": "398bb19e-668e-4d59-bdbe-4e84d33b9b5e",
   "metadata": {},
   "source": [
    "And now we can print them out, in order of increasing posterior probability. If the above worked correctly, many of the most likely hypotheses should evaluate to the number 12:"
   ]
  },
  {
   "cell_type": "code",
   "execution_count": 104,
   "id": "d244aa2a-4e1f-40f2-b1ff-e2391420b184",
   "metadata": {},
   "outputs": [
    {
     "name": "stdout",
     "output_type": "stream",
     "text": [
      "Count:           886\n",
      "Posterior:       8.863300048096163e-07\n",
      "Hypothesis:      lambda: ((4 + 0) * 3)\n",
      "Interpretation:  12\n",
      "\n",
      "Count:           1140\n",
      "Posterior:       2.2158250120240445e-07\n",
      "Hypothesis:      lambda: (3 + (9 + 0))\n",
      "Interpretation:  12\n",
      "\n",
      "Count:           1189\n",
      "Posterior:       6.655737304579818e-06\n",
      "Hypothesis:      lambda: (4 + 8)\n",
      "Interpretation:  12\n",
      "\n",
      "Count:           1299\n",
      "Posterior:       8.863300048096163e-07\n",
      "Hypothesis:      lambda: ((0 + 4) * 3)\n",
      "Interpretation:  12\n",
      "\n",
      "Count:           1547\n",
      "Posterior:       1.2822040082201285e-06\n",
      "Hypothesis:      lambda: 1\n",
      "Interpretation:  1\n",
      "\n",
      "Count:           6172\n",
      "Posterior:       5.128816032880515e-06\n",
      "Hypothesis:      lambda: 0\n",
      "Interpretation:  0\n",
      "\n",
      "Count:           7500\n",
      "Posterior:       3.36946701044353e-05\n",
      "Hypothesis:      lambda: (3 * 4)\n",
      "Interpretation:  12\n",
      "\n",
      "Count:           13781\n",
      "Posterior:       3.056205905164204e-05\n",
      "Hypothesis:      lambda: (6 * 2)\n",
      "Interpretation:  12\n",
      "\n",
      "Count:           19710\n",
      "Posterior:       8.423667526108823e-06\n",
      "Hypothesis:      lambda: (3 + 9)\n",
      "Interpretation:  12\n",
      "\n",
      "Count:           27273\n",
      "Posterior:       3.36946701044353e-05\n",
      "Hypothesis:      lambda: (4 * 3)\n",
      "Interpretation:  12\n",
      "\n"
     ]
    }
   ],
   "source": [
    "for h in sorted(count.keys(), key=lambda x: count[x])[-10:]:\n",
    "    print('Count:          ', count[h])\n",
    "    print('Posterior:      ', exp(h.posterior_score))\n",
    "    print('Hypothesis:     ', h)\n",
    "    print('Interpretation: ', h())\n",
    "    print()"
   ]
  },
  {
   "cell_type": "markdown",
   "id": "4a09601e-172c-4ead-947f-f6993e34b53d",
   "metadata": {},
   "source": [
    "LOTlib3 hypotheses are required to hash nicely, meaning that they can be saved or put into dictionaries and sets like this. "
   ]
  },
  {
   "cell_type": "markdown",
   "id": "f65be077-7ba7-4522-8498-0f295f45a8a3",
   "metadata": {},
   "source": [
    "If our sampler is working correctly, it should be the case that the time average of the sampler (the hypotheses from the `for` loop) should approximate the posterior distribution (e.g. their re-normalized scores). Let's check if that's true:"
   ]
  },
  {
   "cell_type": "code",
   "execution_count": 110,
   "id": "30fc867f-2a63-4c7a-8e78-aa57d418c52c",
   "metadata": {},
   "outputs": [
    {
     "data": {
      "image/png": "[encoded data removed]",
      "text/plain": [
       "<Figure size 640x480 with 1 Axes>"
      ]
     },
     "metadata": {},
     "output_type": "display_data"
    }
   ],
   "source": [
    "# Miscellaneous stores a number of useful functions. Here, we need logsumexp, which will\n",
    "# compute the normalizing constant for posterior_scores when they are in log space\n",
    "from LOTlib3.Miscellaneous import logsumexp\n",
    "# but things that are handy in numpy are not duplicated (usually)\n",
    "from numpy import exp \n",
    "\n",
    "# get a list of all the hypotheses we found. \n",
    "# This is necessary because we need a fixed order,\n",
    "# which count.keys() does not guarantee \n",
    "# unless we make a new variable. \n",
    "hypotheses = count.keys() \n",
    "\n",
    "# first convert posterior_scores to probabilities. To this, we'll use a simple hack of \n",
    "# renormalizing the posterior_scores that we found. This is a better estimator of each hypothesis'\n",
    "# probability than the counts from the sampler\n",
    "z = logsumexp([\n",
    "    h.posterior_score \n",
    "    for h in hypotheses\n",
    "])\n",
    "\n",
    "posterior_probabilities = [ \n",
    "    exp(h.posterior_score - z) \n",
    "    for h in hypotheses \n",
    "]\n",
    "\n",
    "# and compute the probabilities over the sampler run\n",
    "cntz = sum(count.values())    \n",
    "sampler_counts = [ \n",
    "    float(count[h])/cntz \n",
    "    for h in hypotheses \n",
    "] \n",
    "\n",
    "## and let's just make a simple plot\n",
    "import matplotlib.pyplot as pyplot\n",
    "fig, ax = pyplot.subplots()\n",
    "ax.scatter(posterior_probabilities, sampler_counts)\n",
    "ax.plot(\n",
    "    [0,1], \n",
    "    [0,1], \n",
    "    color='red'\n",
    ")\n",
    "ax.set_yscale('log')\n",
    "ax.set_xscale('log')\n",
    "\n",
    "ax.set_xlabel('Approximated posterior probabilities')\n",
    "ax.set_ylabel('Normalized sampler counts')\n",
    "\n",
    "fig.show()"
   ]
  },
  {
   "cell_type": "markdown",
   "id": "14d3df71-92b5-48cd-88e0-f5e08b76c66c",
   "metadata": {},
   "source": [
    "## Things to try out"
   ]
  },
  {
   "cell_type": "markdown",
   "id": "cd3985b8-e706-4cac-9bbf-b433f9b14205",
   "metadata": {},
   "source": [
    "- What happens if we make the $\\alpha$ higher or lower?\n",
    "- What happens to the inferred hypotheses if we add another datapoint with a different number?\n",
    "- What happens if we decrease the prior weight of the numerals?"
   ]
  }
 ],
 "metadata": {
  "kernelspec": {
   "display_name": "LoT",
   "language": "python",
   "name": "lot"
  },
  "language_info": {
   "codemirror_mode": {
    "name": "ipython",
    "version": 3
   },
   "file_extension": ".py",
   "mimetype": "text/x-python",
   "name": "python",
   "nbconvert_exporter": "python",
   "pygments_lexer": "ipython3",
   "version": "3.11.3"
  }
 },
 "nbformat": 4,
 "nbformat_minor": 5
}
